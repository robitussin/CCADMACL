{
  "cells": [
    {
      "cell_type": "markdown",
      "metadata": {
        "id": "pUPDsp2_QA8W"
      },
      "source": [
        "# Naive Bayes"
      ]
    },
    {
      "cell_type": "markdown",
      "source": [
        "# Review: Classification\n",
        "\n",
        "Consider a training dataset $\\mathcal{D} = \\{(x^{(1)}, y^{(1)}), (x^{(2)}, y^{(2)}), \\ldots, (x^{(n)}, y^{(n)})\\}$.\n",
        "\n",
        "We distinguish between two types of supervised learning problems depnding on the targets $y^{(i)}$. \n",
        "\n",
        "1. __Regression__: The target variable $y \\in \\mathcal{Y}$ is continuous:  $\\mathcal{Y} \\subseteq \\mathbb{R}$.\n",
        "2. __Classification__: The target variable $y$ is discrete and takes on one of $K$ possible values:  $\\mathcal{Y} = \\{y_1, y_2, \\ldots y_K\\}$. Each discrete value corresponds to a *class* that we want to predict."
      ],
      "metadata": {
        "id": "8LvVpENomCHX"
      }
    },
    {
      "cell_type": "code",
      "execution_count": null,
      "metadata": {
        "collapsed": true,
        "id": "O4Jji8eYQA8Z"
      },
      "outputs": [],
      "source": [
        "import pandas as pd\n",
        "import matplotlib.pyplot as plt\n",
        "import sklearn\n",
        "%matplotlib inline"
      ]
    },
    {
      "cell_type": "code",
      "source": [
        "# Make data directory if it doesn't exist\n",
        "!mkdir -p data\n",
        "!wget -nc https://nyc3.digitaloceanspaces.com/ml-files-distro/v1/text-analysis/data/recipes.csv -P data"
      ],
      "metadata": {
        "colab": {
          "base_uri": "https://localhost:8080/"
        },
        "id": "rjmjdn-QsZDU",
        "outputId": "efa47c96-4623-4096-85c8-82d1afbfeba7"
      },
      "execution_count": null,
      "outputs": [
        {
          "output_type": "stream",
          "name": "stdout",
          "text": [
            "File ‘data/recipes.csv’ already there; not retrieving.\n",
            "\n"
          ]
        }
      ]
    },
    {
      "cell_type": "code",
      "execution_count": null,
      "metadata": {
        "colab": {
          "base_uri": "https://localhost:8080/",
          "height": 677
        },
        "id": "AuC_u_P2QA8c",
        "outputId": "689c1efb-ca58-4149-af1e-48628713c2da"
      },
      "outputs": [
        {
          "output_type": "execute_result",
          "data": {
            "text/html": [
              "\n",
              "  <div id=\"df-3d870ffb-b925-4348-91fd-d5cc8cffa35e\">\n",
              "    <div class=\"colab-df-container\">\n",
              "      <div>\n",
              "<style scoped>\n",
              "    .dataframe tbody tr th:only-of-type {\n",
              "        vertical-align: middle;\n",
              "    }\n",
              "\n",
              "    .dataframe tbody tr th {\n",
              "        vertical-align: top;\n",
              "    }\n",
              "\n",
              "    .dataframe thead th {\n",
              "        text-align: right;\n",
              "    }\n",
              "</style>\n",
              "<table border=\"1\" class=\"dataframe\">\n",
              "  <thead>\n",
              "    <tr style=\"text-align: right;\">\n",
              "      <th></th>\n",
              "      <th>cuisine</th>\n",
              "      <th>id</th>\n",
              "      <th>ingredient_list</th>\n",
              "    </tr>\n",
              "  </thead>\n",
              "  <tbody>\n",
              "    <tr>\n",
              "      <th>0</th>\n",
              "      <td>greek</td>\n",
              "      <td>10259</td>\n",
              "      <td>romaine lettuce, black olives, grape tomatoes,...</td>\n",
              "    </tr>\n",
              "    <tr>\n",
              "      <th>1</th>\n",
              "      <td>southern_us</td>\n",
              "      <td>25693</td>\n",
              "      <td>plain flour, ground pepper, salt, tomatoes, gr...</td>\n",
              "    </tr>\n",
              "    <tr>\n",
              "      <th>2</th>\n",
              "      <td>filipino</td>\n",
              "      <td>20130</td>\n",
              "      <td>eggs, pepper, salt, mayonaise, cooking oil, gr...</td>\n",
              "    </tr>\n",
              "    <tr>\n",
              "      <th>3</th>\n",
              "      <td>indian</td>\n",
              "      <td>22213</td>\n",
              "      <td>water, vegetable oil, wheat, salt</td>\n",
              "    </tr>\n",
              "    <tr>\n",
              "      <th>4</th>\n",
              "      <td>indian</td>\n",
              "      <td>13162</td>\n",
              "      <td>black pepper, shallots, cornflour, cayenne pep...</td>\n",
              "    </tr>\n",
              "    <tr>\n",
              "      <th>5</th>\n",
              "      <td>jamaican</td>\n",
              "      <td>6602</td>\n",
              "      <td>plain flour, sugar, butter, eggs, fresh ginger...</td>\n",
              "    </tr>\n",
              "    <tr>\n",
              "      <th>6</th>\n",
              "      <td>spanish</td>\n",
              "      <td>42779</td>\n",
              "      <td>olive oil, salt, medium shrimp, pepper, garlic...</td>\n",
              "    </tr>\n",
              "    <tr>\n",
              "      <th>7</th>\n",
              "      <td>italian</td>\n",
              "      <td>3735</td>\n",
              "      <td>sugar, pistachio nuts, white almond bark, flou...</td>\n",
              "    </tr>\n",
              "    <tr>\n",
              "      <th>8</th>\n",
              "      <td>mexican</td>\n",
              "      <td>16903</td>\n",
              "      <td>olive oil, purple onion, fresh pineapple, pork...</td>\n",
              "    </tr>\n",
              "    <tr>\n",
              "      <th>9</th>\n",
              "      <td>italian</td>\n",
              "      <td>12734</td>\n",
              "      <td>chopped tomatoes, fresh basil, garlic, extra-v...</td>\n",
              "    </tr>\n",
              "    <tr>\n",
              "      <th>10</th>\n",
              "      <td>italian</td>\n",
              "      <td>5875</td>\n",
              "      <td>pimentos, sweet pepper, dried oregano, olive o...</td>\n",
              "    </tr>\n",
              "    <tr>\n",
              "      <th>11</th>\n",
              "      <td>chinese</td>\n",
              "      <td>45887</td>\n",
              "      <td>low sodium soy sauce, fresh ginger, dry mustar...</td>\n",
              "    </tr>\n",
              "    <tr>\n",
              "      <th>12</th>\n",
              "      <td>italian</td>\n",
              "      <td>2698</td>\n",
              "      <td>Italian parsley leaves, walnuts, hot red peppe...</td>\n",
              "    </tr>\n",
              "    <tr>\n",
              "      <th>13</th>\n",
              "      <td>mexican</td>\n",
              "      <td>41995</td>\n",
              "      <td>ground cinnamon, fresh cilantro, chili powder,...</td>\n",
              "    </tr>\n",
              "    <tr>\n",
              "      <th>14</th>\n",
              "      <td>italian</td>\n",
              "      <td>31908</td>\n",
              "      <td>fresh parmesan cheese, butter, all-purpose flo...</td>\n",
              "    </tr>\n",
              "    <tr>\n",
              "      <th>15</th>\n",
              "      <td>indian</td>\n",
              "      <td>24717</td>\n",
              "      <td>tumeric, vegetable stock, tomatoes, garam masa...</td>\n",
              "    </tr>\n",
              "    <tr>\n",
              "      <th>16</th>\n",
              "      <td>british</td>\n",
              "      <td>34466</td>\n",
              "      <td>greek yogurt, lemon curd, confectioners sugar,...</td>\n",
              "    </tr>\n",
              "    <tr>\n",
              "      <th>17</th>\n",
              "      <td>italian</td>\n",
              "      <td>1420</td>\n",
              "      <td>italian seasoning, broiler-fryer chicken, mayo...</td>\n",
              "    </tr>\n",
              "    <tr>\n",
              "      <th>18</th>\n",
              "      <td>thai</td>\n",
              "      <td>2941</td>\n",
              "      <td>sugar, hot chili, asian fish sauce, lime juice</td>\n",
              "    </tr>\n",
              "    <tr>\n",
              "      <th>19</th>\n",
              "      <td>vietnamese</td>\n",
              "      <td>8152</td>\n",
              "      <td>soy sauce, vegetable oil, red bell pepper, chi...</td>\n",
              "    </tr>\n",
              "  </tbody>\n",
              "</table>\n",
              "</div>\n",
              "      <button class=\"colab-df-convert\" onclick=\"convertToInteractive('df-3d870ffb-b925-4348-91fd-d5cc8cffa35e')\"\n",
              "              title=\"Convert this dataframe to an interactive table.\"\n",
              "              style=\"display:none;\">\n",
              "        \n",
              "  <svg xmlns=\"http://www.w3.org/2000/svg\" height=\"24px\"viewBox=\"0 0 24 24\"\n",
              "       width=\"24px\">\n",
              "    <path d=\"M0 0h24v24H0V0z\" fill=\"none\"/>\n",
              "    <path d=\"M18.56 5.44l.94 2.06.94-2.06 2.06-.94-2.06-.94-.94-2.06-.94 2.06-2.06.94zm-11 1L8.5 8.5l.94-2.06 2.06-.94-2.06-.94L8.5 2.5l-.94 2.06-2.06.94zm10 10l.94 2.06.94-2.06 2.06-.94-2.06-.94-.94-2.06-.94 2.06-2.06.94z\"/><path d=\"M17.41 7.96l-1.37-1.37c-.4-.4-.92-.59-1.43-.59-.52 0-1.04.2-1.43.59L10.3 9.45l-7.72 7.72c-.78.78-.78 2.05 0 2.83L4 21.41c.39.39.9.59 1.41.59.51 0 1.02-.2 1.41-.59l7.78-7.78 2.81-2.81c.8-.78.8-2.07 0-2.86zM5.41 20L4 18.59l7.72-7.72 1.47 1.35L5.41 20z\"/>\n",
              "  </svg>\n",
              "      </button>\n",
              "      \n",
              "  <style>\n",
              "    .colab-df-container {\n",
              "      display:flex;\n",
              "      flex-wrap:wrap;\n",
              "      gap: 12px;\n",
              "    }\n",
              "\n",
              "    .colab-df-convert {\n",
              "      background-color: #E8F0FE;\n",
              "      border: none;\n",
              "      border-radius: 50%;\n",
              "      cursor: pointer;\n",
              "      display: none;\n",
              "      fill: #1967D2;\n",
              "      height: 32px;\n",
              "      padding: 0 0 0 0;\n",
              "      width: 32px;\n",
              "    }\n",
              "\n",
              "    .colab-df-convert:hover {\n",
              "      background-color: #E2EBFA;\n",
              "      box-shadow: 0px 1px 2px rgba(60, 64, 67, 0.3), 0px 1px 3px 1px rgba(60, 64, 67, 0.15);\n",
              "      fill: #174EA6;\n",
              "    }\n",
              "\n",
              "    [theme=dark] .colab-df-convert {\n",
              "      background-color: #3B4455;\n",
              "      fill: #D2E3FC;\n",
              "    }\n",
              "\n",
              "    [theme=dark] .colab-df-convert:hover {\n",
              "      background-color: #434B5C;\n",
              "      box-shadow: 0px 1px 3px 1px rgba(0, 0, 0, 0.15);\n",
              "      filter: drop-shadow(0px 1px 2px rgba(0, 0, 0, 0.3));\n",
              "      fill: #FFFFFF;\n",
              "    }\n",
              "  </style>\n",
              "\n",
              "      <script>\n",
              "        const buttonEl =\n",
              "          document.querySelector('#df-3d870ffb-b925-4348-91fd-d5cc8cffa35e button.colab-df-convert');\n",
              "        buttonEl.style.display =\n",
              "          google.colab.kernel.accessAllowed ? 'block' : 'none';\n",
              "\n",
              "        async function convertToInteractive(key) {\n",
              "          const element = document.querySelector('#df-3d870ffb-b925-4348-91fd-d5cc8cffa35e');\n",
              "          const dataTable =\n",
              "            await google.colab.kernel.invokeFunction('convertToInteractive',\n",
              "                                                     [key], {});\n",
              "          if (!dataTable) return;\n",
              "\n",
              "          const docLinkHtml = 'Like what you see? Visit the ' +\n",
              "            '<a target=\"_blank\" href=https://colab.research.google.com/notebooks/data_table.ipynb>data table notebook</a>'\n",
              "            + ' to learn more about interactive tables.';\n",
              "          element.innerHTML = '';\n",
              "          dataTable['output_type'] = 'display_data';\n",
              "          await google.colab.output.renderOutput(dataTable, element);\n",
              "          const docLink = document.createElement('div');\n",
              "          docLink.innerHTML = docLinkHtml;\n",
              "          element.appendChild(docLink);\n",
              "        }\n",
              "      </script>\n",
              "    </div>\n",
              "  </div>\n",
              "  "
            ],
            "text/plain": [
              "        cuisine     id                                    ingredient_list\n",
              "0         greek  10259  romaine lettuce, black olives, grape tomatoes,...\n",
              "1   southern_us  25693  plain flour, ground pepper, salt, tomatoes, gr...\n",
              "2      filipino  20130  eggs, pepper, salt, mayonaise, cooking oil, gr...\n",
              "3        indian  22213                  water, vegetable oil, wheat, salt\n",
              "4        indian  13162  black pepper, shallots, cornflour, cayenne pep...\n",
              "5      jamaican   6602  plain flour, sugar, butter, eggs, fresh ginger...\n",
              "6       spanish  42779  olive oil, salt, medium shrimp, pepper, garlic...\n",
              "7       italian   3735  sugar, pistachio nuts, white almond bark, flou...\n",
              "8       mexican  16903  olive oil, purple onion, fresh pineapple, pork...\n",
              "9       italian  12734  chopped tomatoes, fresh basil, garlic, extra-v...\n",
              "10      italian   5875  pimentos, sweet pepper, dried oregano, olive o...\n",
              "11      chinese  45887  low sodium soy sauce, fresh ginger, dry mustar...\n",
              "12      italian   2698  Italian parsley leaves, walnuts, hot red peppe...\n",
              "13      mexican  41995  ground cinnamon, fresh cilantro, chili powder,...\n",
              "14      italian  31908  fresh parmesan cheese, butter, all-purpose flo...\n",
              "15       indian  24717  tumeric, vegetable stock, tomatoes, garam masa...\n",
              "16      british  34466  greek yogurt, lemon curd, confectioners sugar,...\n",
              "17      italian   1420  italian seasoning, broiler-fryer chicken, mayo...\n",
              "18         thai   2941     sugar, hot chili, asian fish sauce, lime juice\n",
              "19   vietnamese   8152  soy sauce, vegetable oil, red bell pepper, chi..."
            ]
          },
          "metadata": {},
          "execution_count": 158
        }
      ],
      "source": [
        "df = pd.read_csv(\"data/recipes.csv\")\n",
        "df.head(20)"
      ]
    },
    {
      "cell_type": "markdown",
      "metadata": {
        "id": "47UlpcrMQA8e"
      },
      "source": [
        "## What are we doing and why are we using Naive Bayes?\n",
        "\n",
        "We have a bunch of recipes in categories. Maybe someone sends us new recipes, what category do the new recipes belong in?\n",
        "\n",
        "We're going to train a classifier to recognize italian food, so that if someone sends us new recipes, we know if it's italian because we love italian food and we only want to eat italian food.\n",
        "\n",
        "For classification algorithms, you must have labels for your dataset.\n",
        "\n",
        "**For clustering**\n",
        "\n",
        "1. You'll get a lot of documents\n",
        "2. You feed it to an algorithm, tell it create `x` number of categories\n",
        "3. The machine gives you back categories whether they make sense or not\n",
        "\n",
        "**For classification (which we are doing now)**\n",
        "\n",
        "1. You'll get a lot of documents\n",
        "2. You'll classify some of them into categories that you know and love\n",
        "3. You'll ask the algorithm what categories a new bunch of unlabeled documents end up in\n",
        "\n",
        "All mean the same thing: CATEGORY = CLASS = LABEL\n",
        "\n",
        "The reason why you use machine learning is to not do things manually. So if you can do things manually, do it. Otherwise just try different algorithms until one works well (but you might need to know some upsides or downsides of each to interpret that).\n"
      ]
    },
    {
      "cell_type": "markdown",
      "source": [
        "## How does Naive Bayes work? With Bayes Theorem\n",
        "\n",
        "Bayes Theorem or Bayes Rule is the mathematical rule that describes how to update a belief, given some evidence. In other words – it describes the act of learning."
      ],
      "metadata": {
        "id": "sqAuxHM6obhZ"
      }
    },
    {
      "cell_type": "markdown",
      "source": [
        "<img width=70% src=\"https://www.freecodecamp.org/news/content/images/2020/07/Screenshot-2020-07-19-at-22.58.48.png\">\n",
        "\n",
        "\n",
        "There are four parts:\n",
        "\n",
        "*   **Posterior probability** (updated probability after the evidence is considered)\n",
        "*   **Prior probability** (the probability before the evidence is considered)\n",
        "*   **Likelihood** (probability of the evidence, given the belief is true)\n",
        "*   **Marginal probability** (probability of the evidence, under any circumstance)"
      ],
      "metadata": {
        "id": "hZIQqkwYoHw2"
      }
    },
    {
      "cell_type": "markdown",
      "source": [
        "\n",
        "\n",
        "<img width=70% src=\"https://www.freecodecamp.org/news/content/images/2020/07/Screenshot-2020-07-22-at-23.44.18.png\">"
      ],
      "metadata": {
        "id": "ZJC4KK4yo_wS"
      }
    },
    {
      "cell_type": "markdown",
      "source": [
        "**Example**\n",
        "\n",
        "* If you see a word that is normally in a spam email, there's a higher chance it's spam\n",
        "* If you see a word that is normally in a non-spam email, there's a higher chance it's not spam\n",
        "\n",
        "**Naive:** every word/ingredient/etc is **independent** of any other word or feature\n",
        "\n",
        "Easier Interpretation: If you see ingredients that are normally in italian food, it's probably italian.\n",
        "\n",
        "Secret trick: you can't just use text, you have to convert into numbers."
      ],
      "metadata": {
        "id": "A2bbY8okosVQ"
      }
    },
    {
      "cell_type": "markdown",
      "source": [
        "## Types of Naive Bayes\n",
        "\n",
        "Naive Bayes works on words, and SOMETIMES your text is long and SOMETIMES your text is short.\n",
        "\n",
        "**Multinominal Naive Bayes - (multiple numbers)**: You count the words. You care about whether a word appears once or twice or three times or ten times. *This is better for long passages*\n",
        "\n",
        "**Bernoulli Naive Bayes - True/False Bayes:** You only care if the word shows up (`True`) or it doesn't show up (`False`) - *this is better for short passages*"
      ],
      "metadata": {
        "id": "N-cGW-71oH6C"
      }
    },
    {
      "cell_type": "markdown",
      "metadata": {
        "id": "nIQrwHTtQA8h"
      },
      "source": [
        "### Let's convert our text data into numerical data"
      ]
    },
    {
      "cell_type": "code",
      "execution_count": null,
      "metadata": {
        "colab": {
          "base_uri": "https://localhost:8080/",
          "height": 206
        },
        "id": "p__pb2S5QA8i",
        "outputId": "f41585a6-8038-47d7-f57c-2039602db276"
      },
      "outputs": [
        {
          "output_type": "execute_result",
          "data": {
            "text/html": [
              "\n",
              "  <div id=\"df-4cbaf68f-1ac3-4f0f-ae8f-e669223f2af7\">\n",
              "    <div class=\"colab-df-container\">\n",
              "      <div>\n",
              "<style scoped>\n",
              "    .dataframe tbody tr th:only-of-type {\n",
              "        vertical-align: middle;\n",
              "    }\n",
              "\n",
              "    .dataframe tbody tr th {\n",
              "        vertical-align: top;\n",
              "    }\n",
              "\n",
              "    .dataframe thead th {\n",
              "        text-align: right;\n",
              "    }\n",
              "</style>\n",
              "<table border=\"1\" class=\"dataframe\">\n",
              "  <thead>\n",
              "    <tr style=\"text-align: right;\">\n",
              "      <th></th>\n",
              "      <th>cuisine</th>\n",
              "      <th>id</th>\n",
              "      <th>ingredient_list</th>\n",
              "    </tr>\n",
              "  </thead>\n",
              "  <tbody>\n",
              "    <tr>\n",
              "      <th>0</th>\n",
              "      <td>greek</td>\n",
              "      <td>10259</td>\n",
              "      <td>romaine lettuce, black olives, grape tomatoes,...</td>\n",
              "    </tr>\n",
              "    <tr>\n",
              "      <th>1</th>\n",
              "      <td>southern_us</td>\n",
              "      <td>25693</td>\n",
              "      <td>plain flour, ground pepper, salt, tomatoes, gr...</td>\n",
              "    </tr>\n",
              "    <tr>\n",
              "      <th>2</th>\n",
              "      <td>filipino</td>\n",
              "      <td>20130</td>\n",
              "      <td>eggs, pepper, salt, mayonaise, cooking oil, gr...</td>\n",
              "    </tr>\n",
              "    <tr>\n",
              "      <th>3</th>\n",
              "      <td>indian</td>\n",
              "      <td>22213</td>\n",
              "      <td>water, vegetable oil, wheat, salt</td>\n",
              "    </tr>\n",
              "    <tr>\n",
              "      <th>4</th>\n",
              "      <td>indian</td>\n",
              "      <td>13162</td>\n",
              "      <td>black pepper, shallots, cornflour, cayenne pep...</td>\n",
              "    </tr>\n",
              "  </tbody>\n",
              "</table>\n",
              "</div>\n",
              "      <button class=\"colab-df-convert\" onclick=\"convertToInteractive('df-4cbaf68f-1ac3-4f0f-ae8f-e669223f2af7')\"\n",
              "              title=\"Convert this dataframe to an interactive table.\"\n",
              "              style=\"display:none;\">\n",
              "        \n",
              "  <svg xmlns=\"http://www.w3.org/2000/svg\" height=\"24px\"viewBox=\"0 0 24 24\"\n",
              "       width=\"24px\">\n",
              "    <path d=\"M0 0h24v24H0V0z\" fill=\"none\"/>\n",
              "    <path d=\"M18.56 5.44l.94 2.06.94-2.06 2.06-.94-2.06-.94-.94-2.06-.94 2.06-2.06.94zm-11 1L8.5 8.5l.94-2.06 2.06-.94-2.06-.94L8.5 2.5l-.94 2.06-2.06.94zm10 10l.94 2.06.94-2.06 2.06-.94-2.06-.94-.94-2.06-.94 2.06-2.06.94z\"/><path d=\"M17.41 7.96l-1.37-1.37c-.4-.4-.92-.59-1.43-.59-.52 0-1.04.2-1.43.59L10.3 9.45l-7.72 7.72c-.78.78-.78 2.05 0 2.83L4 21.41c.39.39.9.59 1.41.59.51 0 1.02-.2 1.41-.59l7.78-7.78 2.81-2.81c.8-.78.8-2.07 0-2.86zM5.41 20L4 18.59l7.72-7.72 1.47 1.35L5.41 20z\"/>\n",
              "  </svg>\n",
              "      </button>\n",
              "      \n",
              "  <style>\n",
              "    .colab-df-container {\n",
              "      display:flex;\n",
              "      flex-wrap:wrap;\n",
              "      gap: 12px;\n",
              "    }\n",
              "\n",
              "    .colab-df-convert {\n",
              "      background-color: #E8F0FE;\n",
              "      border: none;\n",
              "      border-radius: 50%;\n",
              "      cursor: pointer;\n",
              "      display: none;\n",
              "      fill: #1967D2;\n",
              "      height: 32px;\n",
              "      padding: 0 0 0 0;\n",
              "      width: 32px;\n",
              "    }\n",
              "\n",
              "    .colab-df-convert:hover {\n",
              "      background-color: #E2EBFA;\n",
              "      box-shadow: 0px 1px 2px rgba(60, 64, 67, 0.3), 0px 1px 3px 1px rgba(60, 64, 67, 0.15);\n",
              "      fill: #174EA6;\n",
              "    }\n",
              "\n",
              "    [theme=dark] .colab-df-convert {\n",
              "      background-color: #3B4455;\n",
              "      fill: #D2E3FC;\n",
              "    }\n",
              "\n",
              "    [theme=dark] .colab-df-convert:hover {\n",
              "      background-color: #434B5C;\n",
              "      box-shadow: 0px 1px 3px 1px rgba(0, 0, 0, 0.15);\n",
              "      filter: drop-shadow(0px 1px 2px rgba(0, 0, 0, 0.3));\n",
              "      fill: #FFFFFF;\n",
              "    }\n",
              "  </style>\n",
              "\n",
              "      <script>\n",
              "        const buttonEl =\n",
              "          document.querySelector('#df-4cbaf68f-1ac3-4f0f-ae8f-e669223f2af7 button.colab-df-convert');\n",
              "        buttonEl.style.display =\n",
              "          google.colab.kernel.accessAllowed ? 'block' : 'none';\n",
              "\n",
              "        async function convertToInteractive(key) {\n",
              "          const element = document.querySelector('#df-4cbaf68f-1ac3-4f0f-ae8f-e669223f2af7');\n",
              "          const dataTable =\n",
              "            await google.colab.kernel.invokeFunction('convertToInteractive',\n",
              "                                                     [key], {});\n",
              "          if (!dataTable) return;\n",
              "\n",
              "          const docLinkHtml = 'Like what you see? Visit the ' +\n",
              "            '<a target=\"_blank\" href=https://colab.research.google.com/notebooks/data_table.ipynb>data table notebook</a>'\n",
              "            + ' to learn more about interactive tables.';\n",
              "          element.innerHTML = '';\n",
              "          dataTable['output_type'] = 'display_data';\n",
              "          await google.colab.output.renderOutput(dataTable, element);\n",
              "          const docLink = document.createElement('div');\n",
              "          docLink.innerHTML = docLinkHtml;\n",
              "          element.appendChild(docLink);\n",
              "        }\n",
              "      </script>\n",
              "    </div>\n",
              "  </div>\n",
              "  "
            ],
            "text/plain": [
              "       cuisine     id                                    ingredient_list\n",
              "0        greek  10259  romaine lettuce, black olives, grape tomatoes,...\n",
              "1  southern_us  25693  plain flour, ground pepper, salt, tomatoes, gr...\n",
              "2     filipino  20130  eggs, pepper, salt, mayonaise, cooking oil, gr...\n",
              "3       indian  22213                  water, vegetable oil, wheat, salt\n",
              "4       indian  13162  black pepper, shallots, cornflour, cayenne pep..."
            ]
          },
          "metadata": {},
          "execution_count": 159
        }
      ],
      "source": [
        "df.head()"
      ]
    },
    {
      "cell_type": "markdown",
      "metadata": {
        "id": "fN09uOGuQA8k"
      },
      "source": [
        "**Our problem:** Everything is text - cuisine is text, ingredient list is text, id is a number but it doesn't matter"
      ]
    },
    {
      "cell_type": "markdown",
      "metadata": {
        "id": "6ZUVHRoPQA8m"
      },
      "source": [
        "**Two things to convert into numbers:**\n",
        "\n",
        "* Our labels (a.k.a. the categories everything belongs in)\n",
        "* Our features"
      ]
    },
    {
      "cell_type": "markdown",
      "metadata": {
        "id": "kP7cqNjSQA8o"
      },
      "source": [
        "### Converting our labels into numbers\n",
        "\n",
        "We have two labels\n",
        "\n",
        "* italian = `1`\n",
        "* not italian = `0`"
      ]
    },
    {
      "cell_type": "code",
      "execution_count": null,
      "metadata": {
        "colab": {
          "base_uri": "https://localhost:8080/",
          "height": 206
        },
        "id": "B21G4NilQA8q",
        "outputId": "35863ee2-70ae-40c7-8aac-fa20c34621bf"
      },
      "outputs": [
        {
          "output_type": "execute_result",
          "data": {
            "text/html": [
              "\n",
              "  <div id=\"df-2ba4c23c-3587-48c4-82e5-0638105ea5ea\">\n",
              "    <div class=\"colab-df-container\">\n",
              "      <div>\n",
              "<style scoped>\n",
              "    .dataframe tbody tr th:only-of-type {\n",
              "        vertical-align: middle;\n",
              "    }\n",
              "\n",
              "    .dataframe tbody tr th {\n",
              "        vertical-align: top;\n",
              "    }\n",
              "\n",
              "    .dataframe thead th {\n",
              "        text-align: right;\n",
              "    }\n",
              "</style>\n",
              "<table border=\"1\" class=\"dataframe\">\n",
              "  <thead>\n",
              "    <tr style=\"text-align: right;\">\n",
              "      <th></th>\n",
              "      <th>cuisine</th>\n",
              "      <th>id</th>\n",
              "      <th>ingredient_list</th>\n",
              "    </tr>\n",
              "  </thead>\n",
              "  <tbody>\n",
              "    <tr>\n",
              "      <th>0</th>\n",
              "      <td>greek</td>\n",
              "      <td>10259</td>\n",
              "      <td>romaine lettuce, black olives, grape tomatoes,...</td>\n",
              "    </tr>\n",
              "    <tr>\n",
              "      <th>1</th>\n",
              "      <td>southern_us</td>\n",
              "      <td>25693</td>\n",
              "      <td>plain flour, ground pepper, salt, tomatoes, gr...</td>\n",
              "    </tr>\n",
              "    <tr>\n",
              "      <th>2</th>\n",
              "      <td>filipino</td>\n",
              "      <td>20130</td>\n",
              "      <td>eggs, pepper, salt, mayonaise, cooking oil, gr...</td>\n",
              "    </tr>\n",
              "    <tr>\n",
              "      <th>3</th>\n",
              "      <td>indian</td>\n",
              "      <td>22213</td>\n",
              "      <td>water, vegetable oil, wheat, salt</td>\n",
              "    </tr>\n",
              "    <tr>\n",
              "      <th>4</th>\n",
              "      <td>indian</td>\n",
              "      <td>13162</td>\n",
              "      <td>black pepper, shallots, cornflour, cayenne pep...</td>\n",
              "    </tr>\n",
              "  </tbody>\n",
              "</table>\n",
              "</div>\n",
              "      <button class=\"colab-df-convert\" onclick=\"convertToInteractive('df-2ba4c23c-3587-48c4-82e5-0638105ea5ea')\"\n",
              "              title=\"Convert this dataframe to an interactive table.\"\n",
              "              style=\"display:none;\">\n",
              "        \n",
              "  <svg xmlns=\"http://www.w3.org/2000/svg\" height=\"24px\"viewBox=\"0 0 24 24\"\n",
              "       width=\"24px\">\n",
              "    <path d=\"M0 0h24v24H0V0z\" fill=\"none\"/>\n",
              "    <path d=\"M18.56 5.44l.94 2.06.94-2.06 2.06-.94-2.06-.94-.94-2.06-.94 2.06-2.06.94zm-11 1L8.5 8.5l.94-2.06 2.06-.94-2.06-.94L8.5 2.5l-.94 2.06-2.06.94zm10 10l.94 2.06.94-2.06 2.06-.94-2.06-.94-.94-2.06-.94 2.06-2.06.94z\"/><path d=\"M17.41 7.96l-1.37-1.37c-.4-.4-.92-.59-1.43-.59-.52 0-1.04.2-1.43.59L10.3 9.45l-7.72 7.72c-.78.78-.78 2.05 0 2.83L4 21.41c.39.39.9.59 1.41.59.51 0 1.02-.2 1.41-.59l7.78-7.78 2.81-2.81c.8-.78.8-2.07 0-2.86zM5.41 20L4 18.59l7.72-7.72 1.47 1.35L5.41 20z\"/>\n",
              "  </svg>\n",
              "      </button>\n",
              "      \n",
              "  <style>\n",
              "    .colab-df-container {\n",
              "      display:flex;\n",
              "      flex-wrap:wrap;\n",
              "      gap: 12px;\n",
              "    }\n",
              "\n",
              "    .colab-df-convert {\n",
              "      background-color: #E8F0FE;\n",
              "      border: none;\n",
              "      border-radius: 50%;\n",
              "      cursor: pointer;\n",
              "      display: none;\n",
              "      fill: #1967D2;\n",
              "      height: 32px;\n",
              "      padding: 0 0 0 0;\n",
              "      width: 32px;\n",
              "    }\n",
              "\n",
              "    .colab-df-convert:hover {\n",
              "      background-color: #E2EBFA;\n",
              "      box-shadow: 0px 1px 2px rgba(60, 64, 67, 0.3), 0px 1px 3px 1px rgba(60, 64, 67, 0.15);\n",
              "      fill: #174EA6;\n",
              "    }\n",
              "\n",
              "    [theme=dark] .colab-df-convert {\n",
              "      background-color: #3B4455;\n",
              "      fill: #D2E3FC;\n",
              "    }\n",
              "\n",
              "    [theme=dark] .colab-df-convert:hover {\n",
              "      background-color: #434B5C;\n",
              "      box-shadow: 0px 1px 3px 1px rgba(0, 0, 0, 0.15);\n",
              "      filter: drop-shadow(0px 1px 2px rgba(0, 0, 0, 0.3));\n",
              "      fill: #FFFFFF;\n",
              "    }\n",
              "  </style>\n",
              "\n",
              "      <script>\n",
              "        const buttonEl =\n",
              "          document.querySelector('#df-2ba4c23c-3587-48c4-82e5-0638105ea5ea button.colab-df-convert');\n",
              "        buttonEl.style.display =\n",
              "          google.colab.kernel.accessAllowed ? 'block' : 'none';\n",
              "\n",
              "        async function convertToInteractive(key) {\n",
              "          const element = document.querySelector('#df-2ba4c23c-3587-48c4-82e5-0638105ea5ea');\n",
              "          const dataTable =\n",
              "            await google.colab.kernel.invokeFunction('convertToInteractive',\n",
              "                                                     [key], {});\n",
              "          if (!dataTable) return;\n",
              "\n",
              "          const docLinkHtml = 'Like what you see? Visit the ' +\n",
              "            '<a target=\"_blank\" href=https://colab.research.google.com/notebooks/data_table.ipynb>data table notebook</a>'\n",
              "            + ' to learn more about interactive tables.';\n",
              "          element.innerHTML = '';\n",
              "          dataTable['output_type'] = 'display_data';\n",
              "          await google.colab.output.renderOutput(dataTable, element);\n",
              "          const docLink = document.createElement('div');\n",
              "          docLink.innerHTML = docLinkHtml;\n",
              "          element.appendChild(docLink);\n",
              "        }\n",
              "      </script>\n",
              "    </div>\n",
              "  </div>\n",
              "  "
            ],
            "text/plain": [
              "       cuisine     id                                    ingredient_list\n",
              "0        greek  10259  romaine lettuce, black olives, grape tomatoes,...\n",
              "1  southern_us  25693  plain flour, ground pepper, salt, tomatoes, gr...\n",
              "2     filipino  20130  eggs, pepper, salt, mayonaise, cooking oil, gr...\n",
              "3       indian  22213                  water, vegetable oil, wheat, salt\n",
              "4       indian  13162  black pepper, shallots, cornflour, cayenne pep..."
            ]
          },
          "metadata": {},
          "execution_count": 160
        }
      ],
      "source": [
        "df.head()"
      ]
    },
    {
      "cell_type": "code",
      "execution_count": null,
      "metadata": {
        "id": "LmaCjZdjQA8r"
      },
      "outputs": [],
      "source": [
        "def make_label(cuisine):\n",
        "    if cuisine == \"italian\":\n",
        "        return 1\n",
        "    else:\n",
        "        return 0"
      ]
    },
    {
      "cell_type": "code",
      "execution_count": null,
      "metadata": {
        "colab": {
          "base_uri": "https://localhost:8080/",
          "height": 677
        },
        "id": "F7UvuBQSQA8s",
        "outputId": "d7566c36-1d31-4cbe-c2d3-81551a08093a"
      },
      "outputs": [
        {
          "output_type": "execute_result",
          "data": {
            "text/html": [
              "\n",
              "  <div id=\"df-c1096d38-8b14-48cf-a88a-a640f58aab19\">\n",
              "    <div class=\"colab-df-container\">\n",
              "      <div>\n",
              "<style scoped>\n",
              "    .dataframe tbody tr th:only-of-type {\n",
              "        vertical-align: middle;\n",
              "    }\n",
              "\n",
              "    .dataframe tbody tr th {\n",
              "        vertical-align: top;\n",
              "    }\n",
              "\n",
              "    .dataframe thead th {\n",
              "        text-align: right;\n",
              "    }\n",
              "</style>\n",
              "<table border=\"1\" class=\"dataframe\">\n",
              "  <thead>\n",
              "    <tr style=\"text-align: right;\">\n",
              "      <th></th>\n",
              "      <th>cuisine</th>\n",
              "      <th>id</th>\n",
              "      <th>ingredient_list</th>\n",
              "      <th>label</th>\n",
              "    </tr>\n",
              "  </thead>\n",
              "  <tbody>\n",
              "    <tr>\n",
              "      <th>0</th>\n",
              "      <td>greek</td>\n",
              "      <td>10259</td>\n",
              "      <td>romaine lettuce, black olives, grape tomatoes,...</td>\n",
              "      <td>0</td>\n",
              "    </tr>\n",
              "    <tr>\n",
              "      <th>1</th>\n",
              "      <td>southern_us</td>\n",
              "      <td>25693</td>\n",
              "      <td>plain flour, ground pepper, salt, tomatoes, gr...</td>\n",
              "      <td>0</td>\n",
              "    </tr>\n",
              "    <tr>\n",
              "      <th>2</th>\n",
              "      <td>filipino</td>\n",
              "      <td>20130</td>\n",
              "      <td>eggs, pepper, salt, mayonaise, cooking oil, gr...</td>\n",
              "      <td>0</td>\n",
              "    </tr>\n",
              "    <tr>\n",
              "      <th>3</th>\n",
              "      <td>indian</td>\n",
              "      <td>22213</td>\n",
              "      <td>water, vegetable oil, wheat, salt</td>\n",
              "      <td>0</td>\n",
              "    </tr>\n",
              "    <tr>\n",
              "      <th>4</th>\n",
              "      <td>indian</td>\n",
              "      <td>13162</td>\n",
              "      <td>black pepper, shallots, cornflour, cayenne pep...</td>\n",
              "      <td>0</td>\n",
              "    </tr>\n",
              "    <tr>\n",
              "      <th>5</th>\n",
              "      <td>jamaican</td>\n",
              "      <td>6602</td>\n",
              "      <td>plain flour, sugar, butter, eggs, fresh ginger...</td>\n",
              "      <td>0</td>\n",
              "    </tr>\n",
              "    <tr>\n",
              "      <th>6</th>\n",
              "      <td>spanish</td>\n",
              "      <td>42779</td>\n",
              "      <td>olive oil, salt, medium shrimp, pepper, garlic...</td>\n",
              "      <td>0</td>\n",
              "    </tr>\n",
              "    <tr>\n",
              "      <th>7</th>\n",
              "      <td>italian</td>\n",
              "      <td>3735</td>\n",
              "      <td>sugar, pistachio nuts, white almond bark, flou...</td>\n",
              "      <td>1</td>\n",
              "    </tr>\n",
              "    <tr>\n",
              "      <th>8</th>\n",
              "      <td>mexican</td>\n",
              "      <td>16903</td>\n",
              "      <td>olive oil, purple onion, fresh pineapple, pork...</td>\n",
              "      <td>0</td>\n",
              "    </tr>\n",
              "    <tr>\n",
              "      <th>9</th>\n",
              "      <td>italian</td>\n",
              "      <td>12734</td>\n",
              "      <td>chopped tomatoes, fresh basil, garlic, extra-v...</td>\n",
              "      <td>1</td>\n",
              "    </tr>\n",
              "    <tr>\n",
              "      <th>10</th>\n",
              "      <td>italian</td>\n",
              "      <td>5875</td>\n",
              "      <td>pimentos, sweet pepper, dried oregano, olive o...</td>\n",
              "      <td>1</td>\n",
              "    </tr>\n",
              "    <tr>\n",
              "      <th>11</th>\n",
              "      <td>chinese</td>\n",
              "      <td>45887</td>\n",
              "      <td>low sodium soy sauce, fresh ginger, dry mustar...</td>\n",
              "      <td>0</td>\n",
              "    </tr>\n",
              "    <tr>\n",
              "      <th>12</th>\n",
              "      <td>italian</td>\n",
              "      <td>2698</td>\n",
              "      <td>Italian parsley leaves, walnuts, hot red peppe...</td>\n",
              "      <td>1</td>\n",
              "    </tr>\n",
              "    <tr>\n",
              "      <th>13</th>\n",
              "      <td>mexican</td>\n",
              "      <td>41995</td>\n",
              "      <td>ground cinnamon, fresh cilantro, chili powder,...</td>\n",
              "      <td>0</td>\n",
              "    </tr>\n",
              "    <tr>\n",
              "      <th>14</th>\n",
              "      <td>italian</td>\n",
              "      <td>31908</td>\n",
              "      <td>fresh parmesan cheese, butter, all-purpose flo...</td>\n",
              "      <td>1</td>\n",
              "    </tr>\n",
              "    <tr>\n",
              "      <th>15</th>\n",
              "      <td>indian</td>\n",
              "      <td>24717</td>\n",
              "      <td>tumeric, vegetable stock, tomatoes, garam masa...</td>\n",
              "      <td>0</td>\n",
              "    </tr>\n",
              "    <tr>\n",
              "      <th>16</th>\n",
              "      <td>british</td>\n",
              "      <td>34466</td>\n",
              "      <td>greek yogurt, lemon curd, confectioners sugar,...</td>\n",
              "      <td>0</td>\n",
              "    </tr>\n",
              "    <tr>\n",
              "      <th>17</th>\n",
              "      <td>italian</td>\n",
              "      <td>1420</td>\n",
              "      <td>italian seasoning, broiler-fryer chicken, mayo...</td>\n",
              "      <td>1</td>\n",
              "    </tr>\n",
              "    <tr>\n",
              "      <th>18</th>\n",
              "      <td>thai</td>\n",
              "      <td>2941</td>\n",
              "      <td>sugar, hot chili, asian fish sauce, lime juice</td>\n",
              "      <td>0</td>\n",
              "    </tr>\n",
              "    <tr>\n",
              "      <th>19</th>\n",
              "      <td>vietnamese</td>\n",
              "      <td>8152</td>\n",
              "      <td>soy sauce, vegetable oil, red bell pepper, chi...</td>\n",
              "      <td>0</td>\n",
              "    </tr>\n",
              "  </tbody>\n",
              "</table>\n",
              "</div>\n",
              "      <button class=\"colab-df-convert\" onclick=\"convertToInteractive('df-c1096d38-8b14-48cf-a88a-a640f58aab19')\"\n",
              "              title=\"Convert this dataframe to an interactive table.\"\n",
              "              style=\"display:none;\">\n",
              "        \n",
              "  <svg xmlns=\"http://www.w3.org/2000/svg\" height=\"24px\"viewBox=\"0 0 24 24\"\n",
              "       width=\"24px\">\n",
              "    <path d=\"M0 0h24v24H0V0z\" fill=\"none\"/>\n",
              "    <path d=\"M18.56 5.44l.94 2.06.94-2.06 2.06-.94-2.06-.94-.94-2.06-.94 2.06-2.06.94zm-11 1L8.5 8.5l.94-2.06 2.06-.94-2.06-.94L8.5 2.5l-.94 2.06-2.06.94zm10 10l.94 2.06.94-2.06 2.06-.94-2.06-.94-.94-2.06-.94 2.06-2.06.94z\"/><path d=\"M17.41 7.96l-1.37-1.37c-.4-.4-.92-.59-1.43-.59-.52 0-1.04.2-1.43.59L10.3 9.45l-7.72 7.72c-.78.78-.78 2.05 0 2.83L4 21.41c.39.39.9.59 1.41.59.51 0 1.02-.2 1.41-.59l7.78-7.78 2.81-2.81c.8-.78.8-2.07 0-2.86zM5.41 20L4 18.59l7.72-7.72 1.47 1.35L5.41 20z\"/>\n",
              "  </svg>\n",
              "      </button>\n",
              "      \n",
              "  <style>\n",
              "    .colab-df-container {\n",
              "      display:flex;\n",
              "      flex-wrap:wrap;\n",
              "      gap: 12px;\n",
              "    }\n",
              "\n",
              "    .colab-df-convert {\n",
              "      background-color: #E8F0FE;\n",
              "      border: none;\n",
              "      border-radius: 50%;\n",
              "      cursor: pointer;\n",
              "      display: none;\n",
              "      fill: #1967D2;\n",
              "      height: 32px;\n",
              "      padding: 0 0 0 0;\n",
              "      width: 32px;\n",
              "    }\n",
              "\n",
              "    .colab-df-convert:hover {\n",
              "      background-color: #E2EBFA;\n",
              "      box-shadow: 0px 1px 2px rgba(60, 64, 67, 0.3), 0px 1px 3px 1px rgba(60, 64, 67, 0.15);\n",
              "      fill: #174EA6;\n",
              "    }\n",
              "\n",
              "    [theme=dark] .colab-df-convert {\n",
              "      background-color: #3B4455;\n",
              "      fill: #D2E3FC;\n",
              "    }\n",
              "\n",
              "    [theme=dark] .colab-df-convert:hover {\n",
              "      background-color: #434B5C;\n",
              "      box-shadow: 0px 1px 3px 1px rgba(0, 0, 0, 0.15);\n",
              "      filter: drop-shadow(0px 1px 2px rgba(0, 0, 0, 0.3));\n",
              "      fill: #FFFFFF;\n",
              "    }\n",
              "  </style>\n",
              "\n",
              "      <script>\n",
              "        const buttonEl =\n",
              "          document.querySelector('#df-c1096d38-8b14-48cf-a88a-a640f58aab19 button.colab-df-convert');\n",
              "        buttonEl.style.display =\n",
              "          google.colab.kernel.accessAllowed ? 'block' : 'none';\n",
              "\n",
              "        async function convertToInteractive(key) {\n",
              "          const element = document.querySelector('#df-c1096d38-8b14-48cf-a88a-a640f58aab19');\n",
              "          const dataTable =\n",
              "            await google.colab.kernel.invokeFunction('convertToInteractive',\n",
              "                                                     [key], {});\n",
              "          if (!dataTable) return;\n",
              "\n",
              "          const docLinkHtml = 'Like what you see? Visit the ' +\n",
              "            '<a target=\"_blank\" href=https://colab.research.google.com/notebooks/data_table.ipynb>data table notebook</a>'\n",
              "            + ' to learn more about interactive tables.';\n",
              "          element.innerHTML = '';\n",
              "          dataTable['output_type'] = 'display_data';\n",
              "          await google.colab.output.renderOutput(dataTable, element);\n",
              "          const docLink = document.createElement('div');\n",
              "          docLink.innerHTML = docLinkHtml;\n",
              "          element.appendChild(docLink);\n",
              "        }\n",
              "      </script>\n",
              "    </div>\n",
              "  </div>\n",
              "  "
            ],
            "text/plain": [
              "        cuisine  ...  label\n",
              "0         greek  ...      0\n",
              "1   southern_us  ...      0\n",
              "2      filipino  ...      0\n",
              "3        indian  ...      0\n",
              "4        indian  ...      0\n",
              "5      jamaican  ...      0\n",
              "6       spanish  ...      0\n",
              "7       italian  ...      1\n",
              "8       mexican  ...      0\n",
              "9       italian  ...      1\n",
              "10      italian  ...      1\n",
              "11      chinese  ...      0\n",
              "12      italian  ...      1\n",
              "13      mexican  ...      0\n",
              "14      italian  ...      1\n",
              "15       indian  ...      0\n",
              "16      british  ...      0\n",
              "17      italian  ...      1\n",
              "18         thai  ...      0\n",
              "19   vietnamese  ...      0\n",
              "\n",
              "[20 rows x 4 columns]"
            ]
          },
          "metadata": {},
          "execution_count": 162
        }
      ],
      "source": [
        "df['label'] = df['cuisine'].apply(make_label)\n",
        "df.head(20)"
      ]
    },
    {
      "cell_type": "markdown",
      "metadata": {
        "id": "gM6PN5f_QA8t"
      },
      "source": [
        "### Converting our features into numbers\n",
        "\n",
        "**Feature selection:** The process of selecting the features that matter, in this case - what ingredients do we want to look at?\n",
        "\n",
        "Our feature is going to be: whether it has spaghetti or not and whether it has curry powder or not"
      ]
    },
    {
      "cell_type": "code",
      "execution_count": null,
      "metadata": {
        "colab": {
          "base_uri": "https://localhost:8080/",
          "height": 363
        },
        "id": "gNSpcZ0_QA8u",
        "outputId": "5a206d3a-0acc-4c83-a283-e10bbe091f34"
      },
      "outputs": [
        {
          "output_type": "execute_result",
          "data": {
            "text/html": [
              "\n",
              "  <div id=\"df-a4246e00-49c9-471e-8bf0-5ee3cca0b3e8\">\n",
              "    <div class=\"colab-df-container\">\n",
              "      <div>\n",
              "<style scoped>\n",
              "    .dataframe tbody tr th:only-of-type {\n",
              "        vertical-align: middle;\n",
              "    }\n",
              "\n",
              "    .dataframe tbody tr th {\n",
              "        vertical-align: top;\n",
              "    }\n",
              "\n",
              "    .dataframe thead th {\n",
              "        text-align: right;\n",
              "    }\n",
              "</style>\n",
              "<table border=\"1\" class=\"dataframe\">\n",
              "  <thead>\n",
              "    <tr style=\"text-align: right;\">\n",
              "      <th></th>\n",
              "      <th>cuisine</th>\n",
              "      <th>id</th>\n",
              "      <th>ingredient_list</th>\n",
              "      <th>label</th>\n",
              "      <th>has_spaghetti</th>\n",
              "      <th>has_curry_powder</th>\n",
              "    </tr>\n",
              "  </thead>\n",
              "  <tbody>\n",
              "    <tr>\n",
              "      <th>0</th>\n",
              "      <td>greek</td>\n",
              "      <td>10259</td>\n",
              "      <td>romaine lettuce, black olives, grape tomatoes,...</td>\n",
              "      <td>0</td>\n",
              "      <td>False</td>\n",
              "      <td>False</td>\n",
              "    </tr>\n",
              "    <tr>\n",
              "      <th>1</th>\n",
              "      <td>southern_us</td>\n",
              "      <td>25693</td>\n",
              "      <td>plain flour, ground pepper, salt, tomatoes, gr...</td>\n",
              "      <td>0</td>\n",
              "      <td>False</td>\n",
              "      <td>False</td>\n",
              "    </tr>\n",
              "    <tr>\n",
              "      <th>2</th>\n",
              "      <td>filipino</td>\n",
              "      <td>20130</td>\n",
              "      <td>eggs, pepper, salt, mayonaise, cooking oil, gr...</td>\n",
              "      <td>0</td>\n",
              "      <td>False</td>\n",
              "      <td>False</td>\n",
              "    </tr>\n",
              "    <tr>\n",
              "      <th>3</th>\n",
              "      <td>indian</td>\n",
              "      <td>22213</td>\n",
              "      <td>water, vegetable oil, wheat, salt</td>\n",
              "      <td>0</td>\n",
              "      <td>False</td>\n",
              "      <td>False</td>\n",
              "    </tr>\n",
              "    <tr>\n",
              "      <th>4</th>\n",
              "      <td>indian</td>\n",
              "      <td>13162</td>\n",
              "      <td>black pepper, shallots, cornflour, cayenne pep...</td>\n",
              "      <td>0</td>\n",
              "      <td>False</td>\n",
              "      <td>False</td>\n",
              "    </tr>\n",
              "    <tr>\n",
              "      <th>5</th>\n",
              "      <td>jamaican</td>\n",
              "      <td>6602</td>\n",
              "      <td>plain flour, sugar, butter, eggs, fresh ginger...</td>\n",
              "      <td>0</td>\n",
              "      <td>False</td>\n",
              "      <td>False</td>\n",
              "    </tr>\n",
              "    <tr>\n",
              "      <th>6</th>\n",
              "      <td>spanish</td>\n",
              "      <td>42779</td>\n",
              "      <td>olive oil, salt, medium shrimp, pepper, garlic...</td>\n",
              "      <td>0</td>\n",
              "      <td>False</td>\n",
              "      <td>False</td>\n",
              "    </tr>\n",
              "    <tr>\n",
              "      <th>7</th>\n",
              "      <td>italian</td>\n",
              "      <td>3735</td>\n",
              "      <td>sugar, pistachio nuts, white almond bark, flou...</td>\n",
              "      <td>1</td>\n",
              "      <td>False</td>\n",
              "      <td>False</td>\n",
              "    </tr>\n",
              "    <tr>\n",
              "      <th>8</th>\n",
              "      <td>mexican</td>\n",
              "      <td>16903</td>\n",
              "      <td>olive oil, purple onion, fresh pineapple, pork...</td>\n",
              "      <td>0</td>\n",
              "      <td>False</td>\n",
              "      <td>False</td>\n",
              "    </tr>\n",
              "    <tr>\n",
              "      <th>9</th>\n",
              "      <td>italian</td>\n",
              "      <td>12734</td>\n",
              "      <td>chopped tomatoes, fresh basil, garlic, extra-v...</td>\n",
              "      <td>1</td>\n",
              "      <td>False</td>\n",
              "      <td>False</td>\n",
              "    </tr>\n",
              "  </tbody>\n",
              "</table>\n",
              "</div>\n",
              "      <button class=\"colab-df-convert\" onclick=\"convertToInteractive('df-a4246e00-49c9-471e-8bf0-5ee3cca0b3e8')\"\n",
              "              title=\"Convert this dataframe to an interactive table.\"\n",
              "              style=\"display:none;\">\n",
              "        \n",
              "  <svg xmlns=\"http://www.w3.org/2000/svg\" height=\"24px\"viewBox=\"0 0 24 24\"\n",
              "       width=\"24px\">\n",
              "    <path d=\"M0 0h24v24H0V0z\" fill=\"none\"/>\n",
              "    <path d=\"M18.56 5.44l.94 2.06.94-2.06 2.06-.94-2.06-.94-.94-2.06-.94 2.06-2.06.94zm-11 1L8.5 8.5l.94-2.06 2.06-.94-2.06-.94L8.5 2.5l-.94 2.06-2.06.94zm10 10l.94 2.06.94-2.06 2.06-.94-2.06-.94-.94-2.06-.94 2.06-2.06.94z\"/><path d=\"M17.41 7.96l-1.37-1.37c-.4-.4-.92-.59-1.43-.59-.52 0-1.04.2-1.43.59L10.3 9.45l-7.72 7.72c-.78.78-.78 2.05 0 2.83L4 21.41c.39.39.9.59 1.41.59.51 0 1.02-.2 1.41-.59l7.78-7.78 2.81-2.81c.8-.78.8-2.07 0-2.86zM5.41 20L4 18.59l7.72-7.72 1.47 1.35L5.41 20z\"/>\n",
              "  </svg>\n",
              "      </button>\n",
              "      \n",
              "  <style>\n",
              "    .colab-df-container {\n",
              "      display:flex;\n",
              "      flex-wrap:wrap;\n",
              "      gap: 12px;\n",
              "    }\n",
              "\n",
              "    .colab-df-convert {\n",
              "      background-color: #E8F0FE;\n",
              "      border: none;\n",
              "      border-radius: 50%;\n",
              "      cursor: pointer;\n",
              "      display: none;\n",
              "      fill: #1967D2;\n",
              "      height: 32px;\n",
              "      padding: 0 0 0 0;\n",
              "      width: 32px;\n",
              "    }\n",
              "\n",
              "    .colab-df-convert:hover {\n",
              "      background-color: #E2EBFA;\n",
              "      box-shadow: 0px 1px 2px rgba(60, 64, 67, 0.3), 0px 1px 3px 1px rgba(60, 64, 67, 0.15);\n",
              "      fill: #174EA6;\n",
              "    }\n",
              "\n",
              "    [theme=dark] .colab-df-convert {\n",
              "      background-color: #3B4455;\n",
              "      fill: #D2E3FC;\n",
              "    }\n",
              "\n",
              "    [theme=dark] .colab-df-convert:hover {\n",
              "      background-color: #434B5C;\n",
              "      box-shadow: 0px 1px 3px 1px rgba(0, 0, 0, 0.15);\n",
              "      filter: drop-shadow(0px 1px 2px rgba(0, 0, 0, 0.3));\n",
              "      fill: #FFFFFF;\n",
              "    }\n",
              "  </style>\n",
              "\n",
              "      <script>\n",
              "        const buttonEl =\n",
              "          document.querySelector('#df-a4246e00-49c9-471e-8bf0-5ee3cca0b3e8 button.colab-df-convert');\n",
              "        buttonEl.style.display =\n",
              "          google.colab.kernel.accessAllowed ? 'block' : 'none';\n",
              "\n",
              "        async function convertToInteractive(key) {\n",
              "          const element = document.querySelector('#df-a4246e00-49c9-471e-8bf0-5ee3cca0b3e8');\n",
              "          const dataTable =\n",
              "            await google.colab.kernel.invokeFunction('convertToInteractive',\n",
              "                                                     [key], {});\n",
              "          if (!dataTable) return;\n",
              "\n",
              "          const docLinkHtml = 'Like what you see? Visit the ' +\n",
              "            '<a target=\"_blank\" href=https://colab.research.google.com/notebooks/data_table.ipynb>data table notebook</a>'\n",
              "            + ' to learn more about interactive tables.';\n",
              "          element.innerHTML = '';\n",
              "          dataTable['output_type'] = 'display_data';\n",
              "          await google.colab.output.renderOutput(dataTable, element);\n",
              "          const docLink = document.createElement('div');\n",
              "          docLink.innerHTML = docLinkHtml;\n",
              "          element.appendChild(docLink);\n",
              "        }\n",
              "      </script>\n",
              "    </div>\n",
              "  </div>\n",
              "  "
            ],
            "text/plain": [
              "       cuisine     id  ... has_spaghetti  has_curry_powder\n",
              "0        greek  10259  ...         False             False\n",
              "1  southern_us  25693  ...         False             False\n",
              "2     filipino  20130  ...         False             False\n",
              "3       indian  22213  ...         False             False\n",
              "4       indian  13162  ...         False             False\n",
              "5     jamaican   6602  ...         False             False\n",
              "6      spanish  42779  ...         False             False\n",
              "7      italian   3735  ...         False             False\n",
              "8      mexican  16903  ...         False             False\n",
              "9      italian  12734  ...         False             False\n",
              "\n",
              "[10 rows x 6 columns]"
            ]
          },
          "metadata": {},
          "execution_count": 163
        }
      ],
      "source": [
        "df['has_spaghetti'] = df['ingredient_list'].str.contains(\"spaghetti\")\n",
        "df['has_curry_powder'] = df['ingredient_list'].str.contains(\"curry powder\")\n",
        "df.head(10)"
      ]
    },
    {
      "cell_type": "markdown",
      "metadata": {
        "id": "3FVv1a0lQA8u"
      },
      "source": [
        "## Let's run our tests\n",
        "\n",
        "Let's feed our labels and our features to a machine that likes to learn and then see how well it learns!!!!\n",
        "\n",
        "### Looking at our labels\n",
        "\n",
        "We stored it in `label`, and if it's `0` it's not italian, if it's `1` it is Italian"
      ]
    },
    {
      "cell_type": "code",
      "execution_count": null,
      "metadata": {
        "colab": {
          "base_uri": "https://localhost:8080/"
        },
        "id": "aOrMPxD2QA8v",
        "outputId": "e2e95780-be94-4ac2-c268-f71baf5b6b71"
      },
      "outputs": [
        {
          "output_type": "execute_result",
          "data": {
            "text/plain": [
              "0    0\n",
              "1    0\n",
              "2    0\n",
              "3    0\n",
              "4    0\n",
              "Name: label, dtype: int64"
            ]
          },
          "metadata": {},
          "execution_count": 164
        }
      ],
      "source": [
        "df['label'].head()"
      ]
    },
    {
      "cell_type": "markdown",
      "metadata": {
        "id": "bnPYzQrYQA8w"
      },
      "source": [
        "### Look at our features\n",
        "\n",
        "We have two features `has_spaghetti` and `has_curry_powder`."
      ]
    },
    {
      "cell_type": "code",
      "execution_count": null,
      "metadata": {
        "colab": {
          "base_uri": "https://localhost:8080/",
          "height": 206
        },
        "id": "y1uaabDEQA8w",
        "outputId": "1ec88e6d-3312-452b-d28c-f053bf1ba7ad"
      },
      "outputs": [
        {
          "output_type": "execute_result",
          "data": {
            "text/html": [
              "\n",
              "  <div id=\"df-14096a0b-a36a-4199-9752-b562cb3144f7\">\n",
              "    <div class=\"colab-df-container\">\n",
              "      <div>\n",
              "<style scoped>\n",
              "    .dataframe tbody tr th:only-of-type {\n",
              "        vertical-align: middle;\n",
              "    }\n",
              "\n",
              "    .dataframe tbody tr th {\n",
              "        vertical-align: top;\n",
              "    }\n",
              "\n",
              "    .dataframe thead th {\n",
              "        text-align: right;\n",
              "    }\n",
              "</style>\n",
              "<table border=\"1\" class=\"dataframe\">\n",
              "  <thead>\n",
              "    <tr style=\"text-align: right;\">\n",
              "      <th></th>\n",
              "      <th>has_spaghetti</th>\n",
              "      <th>has_curry_powder</th>\n",
              "    </tr>\n",
              "  </thead>\n",
              "  <tbody>\n",
              "    <tr>\n",
              "      <th>0</th>\n",
              "      <td>False</td>\n",
              "      <td>False</td>\n",
              "    </tr>\n",
              "    <tr>\n",
              "      <th>1</th>\n",
              "      <td>False</td>\n",
              "      <td>False</td>\n",
              "    </tr>\n",
              "    <tr>\n",
              "      <th>2</th>\n",
              "      <td>False</td>\n",
              "      <td>False</td>\n",
              "    </tr>\n",
              "    <tr>\n",
              "      <th>3</th>\n",
              "      <td>False</td>\n",
              "      <td>False</td>\n",
              "    </tr>\n",
              "    <tr>\n",
              "      <th>4</th>\n",
              "      <td>False</td>\n",
              "      <td>False</td>\n",
              "    </tr>\n",
              "  </tbody>\n",
              "</table>\n",
              "</div>\n",
              "      <button class=\"colab-df-convert\" onclick=\"convertToInteractive('df-14096a0b-a36a-4199-9752-b562cb3144f7')\"\n",
              "              title=\"Convert this dataframe to an interactive table.\"\n",
              "              style=\"display:none;\">\n",
              "        \n",
              "  <svg xmlns=\"http://www.w3.org/2000/svg\" height=\"24px\"viewBox=\"0 0 24 24\"\n",
              "       width=\"24px\">\n",
              "    <path d=\"M0 0h24v24H0V0z\" fill=\"none\"/>\n",
              "    <path d=\"M18.56 5.44l.94 2.06.94-2.06 2.06-.94-2.06-.94-.94-2.06-.94 2.06-2.06.94zm-11 1L8.5 8.5l.94-2.06 2.06-.94-2.06-.94L8.5 2.5l-.94 2.06-2.06.94zm10 10l.94 2.06.94-2.06 2.06-.94-2.06-.94-.94-2.06-.94 2.06-2.06.94z\"/><path d=\"M17.41 7.96l-1.37-1.37c-.4-.4-.92-.59-1.43-.59-.52 0-1.04.2-1.43.59L10.3 9.45l-7.72 7.72c-.78.78-.78 2.05 0 2.83L4 21.41c.39.39.9.59 1.41.59.51 0 1.02-.2 1.41-.59l7.78-7.78 2.81-2.81c.8-.78.8-2.07 0-2.86zM5.41 20L4 18.59l7.72-7.72 1.47 1.35L5.41 20z\"/>\n",
              "  </svg>\n",
              "      </button>\n",
              "      \n",
              "  <style>\n",
              "    .colab-df-container {\n",
              "      display:flex;\n",
              "      flex-wrap:wrap;\n",
              "      gap: 12px;\n",
              "    }\n",
              "\n",
              "    .colab-df-convert {\n",
              "      background-color: #E8F0FE;\n",
              "      border: none;\n",
              "      border-radius: 50%;\n",
              "      cursor: pointer;\n",
              "      display: none;\n",
              "      fill: #1967D2;\n",
              "      height: 32px;\n",
              "      padding: 0 0 0 0;\n",
              "      width: 32px;\n",
              "    }\n",
              "\n",
              "    .colab-df-convert:hover {\n",
              "      background-color: #E2EBFA;\n",
              "      box-shadow: 0px 1px 2px rgba(60, 64, 67, 0.3), 0px 1px 3px 1px rgba(60, 64, 67, 0.15);\n",
              "      fill: #174EA6;\n",
              "    }\n",
              "\n",
              "    [theme=dark] .colab-df-convert {\n",
              "      background-color: #3B4455;\n",
              "      fill: #D2E3FC;\n",
              "    }\n",
              "\n",
              "    [theme=dark] .colab-df-convert:hover {\n",
              "      background-color: #434B5C;\n",
              "      box-shadow: 0px 1px 3px 1px rgba(0, 0, 0, 0.15);\n",
              "      filter: drop-shadow(0px 1px 2px rgba(0, 0, 0, 0.3));\n",
              "      fill: #FFFFFF;\n",
              "    }\n",
              "  </style>\n",
              "\n",
              "      <script>\n",
              "        const buttonEl =\n",
              "          document.querySelector('#df-14096a0b-a36a-4199-9752-b562cb3144f7 button.colab-df-convert');\n",
              "        buttonEl.style.display =\n",
              "          google.colab.kernel.accessAllowed ? 'block' : 'none';\n",
              "\n",
              "        async function convertToInteractive(key) {\n",
              "          const element = document.querySelector('#df-14096a0b-a36a-4199-9752-b562cb3144f7');\n",
              "          const dataTable =\n",
              "            await google.colab.kernel.invokeFunction('convertToInteractive',\n",
              "                                                     [key], {});\n",
              "          if (!dataTable) return;\n",
              "\n",
              "          const docLinkHtml = 'Like what you see? Visit the ' +\n",
              "            '<a target=\"_blank\" href=https://colab.research.google.com/notebooks/data_table.ipynb>data table notebook</a>'\n",
              "            + ' to learn more about interactive tables.';\n",
              "          element.innerHTML = '';\n",
              "          dataTable['output_type'] = 'display_data';\n",
              "          await google.colab.output.renderOutput(dataTable, element);\n",
              "          const docLink = document.createElement('div');\n",
              "          docLink.innerHTML = docLinkHtml;\n",
              "          element.appendChild(docLink);\n",
              "        }\n",
              "      </script>\n",
              "    </div>\n",
              "  </div>\n",
              "  "
            ],
            "text/plain": [
              "   has_spaghetti  has_curry_powder\n",
              "0          False             False\n",
              "1          False             False\n",
              "2          False             False\n",
              "3          False             False\n",
              "4          False             False"
            ]
          },
          "metadata": {},
          "execution_count": 165
        }
      ],
      "source": [
        "df[['has_spaghetti', 'has_curry_powder']].head()"
      ]
    },
    {
      "cell_type": "code",
      "execution_count": null,
      "metadata": {
        "id": "osS5vrzBQA8y"
      },
      "outputs": [],
      "source": [
        "# We need to split into training and testing data\n",
        "from sklearn.model_selection import train_test_split"
      ]
    },
    {
      "cell_type": "code",
      "execution_count": null,
      "metadata": {
        "id": "lMI-T1pBQA8y"
      },
      "outputs": [],
      "source": [
        "# Splitting into...\n",
        "# X = are all our features\n",
        "# y = are all our labels\n",
        "# X_train are our features to train on (80%)\n",
        "# y_train are our labels to train on (80%)\n",
        "# X_test are our features to test on (20%)\n",
        "# y_train are our labels to test on (20%)\n",
        "\n",
        "X_train, X_test, y_train, y_test = train_test_split(\n",
        "    df[['has_spaghetti', 'has_curry_powder']], # the first is our FEATURES\n",
        "    df['label'], # the second parameter is the LABEL (this is 0/1, not italian/italian)\n",
        "    test_size=0.2) # 80% training, 20% testing"
      ]
    },
    {
      "cell_type": "markdown",
      "source": [
        "## Using Bernoulli Naive Bayes"
      ],
      "metadata": {
        "id": "M9hbsYYRpzLJ"
      }
    },
    {
      "cell_type": "code",
      "execution_count": null,
      "metadata": {
        "colab": {
          "base_uri": "https://localhost:8080/"
        },
        "id": "KwZ9poE_QA85",
        "outputId": "5e9b8651-4c1b-48d5-c139-d5ce6b82e99d"
      },
      "outputs": [
        {
          "output_type": "execute_result",
          "data": {
            "text/plain": [
              "BernoulliNB()"
            ]
          },
          "metadata": {},
          "execution_count": 168
        }
      ],
      "source": [
        "# Import naive_bayes to get access to ALL kinds of naive bayes classifiers\n",
        "# But REMEMBER we're using Bernoulli because it's for true/false which is fine\n",
        "# for small passages\n",
        "from sklearn import naive_bayes\n",
        "\n",
        "# Create a Bernoulli Naive Bayes classifier\n",
        "clf = naive_bayes.BernoulliNB()\n",
        "\n",
        "# Feed the classifier two things:\n",
        "#   * our training features (X_train)\n",
        "#   * our training labels (y_train)\n",
        "# To help it study for the exam later when we test it\n",
        "clf.fit(X_train, y_train)"
      ]
    },
    {
      "cell_type": "code",
      "execution_count": null,
      "metadata": {
        "colab": {
          "base_uri": "https://localhost:8080/"
        },
        "id": "SzpYiOB8QA86",
        "outputId": "56d04349-8475-46a0-8c3f-b398db403ad0"
      },
      "outputs": [
        {
          "output_type": "execute_result",
          "data": {
            "text/plain": [
              "array([0, 0, 0, ..., 0, 0, 0])"
            ]
          },
          "metadata": {},
          "execution_count": 169
        }
      ],
      "source": [
        "# This looks ugly but in theory it's what every recipe is\n",
        "# All those zeroes = not italian\n",
        "# We know the first three aren't italian and the last three aren't italian\n",
        "clf.predict(X_test)"
      ]
    },
    {
      "cell_type": "code",
      "execution_count": null,
      "metadata": {
        "colab": {
          "base_uri": "https://localhost:8080/"
        },
        "id": "xA46nX_xQA87",
        "outputId": "d2cc6b15-38f4-48ee-806b-7a82fcd98ba5"
      },
      "outputs": [
        {
          "output_type": "execute_result",
          "data": {
            "text/plain": [
              "0.8120678818353237"
            ]
          },
          "metadata": {},
          "execution_count": 170
        }
      ],
      "source": [
        "clf.score(X_test, y_test)"
      ]
    },
    {
      "cell_type": "code",
      "execution_count": null,
      "metadata": {
        "colab": {
          "base_uri": "https://localhost:8080/"
        },
        "id": "fRY__09sQA87",
        "outputId": "aec4b2b8-18cc-48c3-fe46-fb449d6c50f0"
      },
      "outputs": [
        {
          "output_type": "execute_result",
          "data": {
            "text/plain": [
              "italian         7838\n",
              "mexican         6438\n",
              "southern_us     4320\n",
              "indian          3003\n",
              "chinese         2673\n",
              "french          2646\n",
              "cajun_creole    1546\n",
              "thai            1539\n",
              "japanese        1423\n",
              "greek           1175\n",
              "spanish          989\n",
              "korean           830\n",
              "vietnamese       825\n",
              "moroccan         821\n",
              "british          804\n",
              "filipino         755\n",
              "irish            667\n",
              "jamaican         526\n",
              "russian          489\n",
              "brazilian        467\n",
              "Name: cuisine, dtype: int64"
            ]
          },
          "metadata": {},
          "execution_count": 171
        }
      ],
      "source": [
        "df['cuisine'].value_counts()"
      ]
    },
    {
      "cell_type": "code",
      "execution_count": null,
      "metadata": {
        "colab": {
          "base_uri": "https://localhost:8080/",
          "height": 206
        },
        "id": "TRRi7akSQA8-",
        "outputId": "8cd6c74e-1542-4248-a7fd-1c213a7713db"
      },
      "outputs": [
        {
          "output_type": "execute_result",
          "data": {
            "text/html": [
              "\n",
              "  <div id=\"df-f97bd5c4-4e8f-4433-952c-66b96ea0369e\">\n",
              "    <div class=\"colab-df-container\">\n",
              "      <div>\n",
              "<style scoped>\n",
              "    .dataframe tbody tr th:only-of-type {\n",
              "        vertical-align: middle;\n",
              "    }\n",
              "\n",
              "    .dataframe tbody tr th {\n",
              "        vertical-align: top;\n",
              "    }\n",
              "\n",
              "    .dataframe thead th {\n",
              "        text-align: right;\n",
              "    }\n",
              "</style>\n",
              "<table border=\"1\" class=\"dataframe\">\n",
              "  <thead>\n",
              "    <tr style=\"text-align: right;\">\n",
              "      <th></th>\n",
              "      <th>cuisine</th>\n",
              "      <th>id</th>\n",
              "      <th>ingredient_list</th>\n",
              "      <th>label</th>\n",
              "      <th>has_spaghetti</th>\n",
              "      <th>has_curry_powder</th>\n",
              "    </tr>\n",
              "  </thead>\n",
              "  <tbody>\n",
              "    <tr>\n",
              "      <th>0</th>\n",
              "      <td>greek</td>\n",
              "      <td>10259</td>\n",
              "      <td>romaine lettuce, black olives, grape tomatoes,...</td>\n",
              "      <td>0</td>\n",
              "      <td>False</td>\n",
              "      <td>False</td>\n",
              "    </tr>\n",
              "    <tr>\n",
              "      <th>1</th>\n",
              "      <td>southern_us</td>\n",
              "      <td>25693</td>\n",
              "      <td>plain flour, ground pepper, salt, tomatoes, gr...</td>\n",
              "      <td>0</td>\n",
              "      <td>False</td>\n",
              "      <td>False</td>\n",
              "    </tr>\n",
              "    <tr>\n",
              "      <th>2</th>\n",
              "      <td>filipino</td>\n",
              "      <td>20130</td>\n",
              "      <td>eggs, pepper, salt, mayonaise, cooking oil, gr...</td>\n",
              "      <td>0</td>\n",
              "      <td>False</td>\n",
              "      <td>False</td>\n",
              "    </tr>\n",
              "    <tr>\n",
              "      <th>3</th>\n",
              "      <td>indian</td>\n",
              "      <td>22213</td>\n",
              "      <td>water, vegetable oil, wheat, salt</td>\n",
              "      <td>0</td>\n",
              "      <td>False</td>\n",
              "      <td>False</td>\n",
              "    </tr>\n",
              "    <tr>\n",
              "      <th>4</th>\n",
              "      <td>indian</td>\n",
              "      <td>13162</td>\n",
              "      <td>black pepper, shallots, cornflour, cayenne pep...</td>\n",
              "      <td>0</td>\n",
              "      <td>False</td>\n",
              "      <td>False</td>\n",
              "    </tr>\n",
              "  </tbody>\n",
              "</table>\n",
              "</div>\n",
              "      <button class=\"colab-df-convert\" onclick=\"convertToInteractive('df-f97bd5c4-4e8f-4433-952c-66b96ea0369e')\"\n",
              "              title=\"Convert this dataframe to an interactive table.\"\n",
              "              style=\"display:none;\">\n",
              "        \n",
              "  <svg xmlns=\"http://www.w3.org/2000/svg\" height=\"24px\"viewBox=\"0 0 24 24\"\n",
              "       width=\"24px\">\n",
              "    <path d=\"M0 0h24v24H0V0z\" fill=\"none\"/>\n",
              "    <path d=\"M18.56 5.44l.94 2.06.94-2.06 2.06-.94-2.06-.94-.94-2.06-.94 2.06-2.06.94zm-11 1L8.5 8.5l.94-2.06 2.06-.94-2.06-.94L8.5 2.5l-.94 2.06-2.06.94zm10 10l.94 2.06.94-2.06 2.06-.94-2.06-.94-.94-2.06-.94 2.06-2.06.94z\"/><path d=\"M17.41 7.96l-1.37-1.37c-.4-.4-.92-.59-1.43-.59-.52 0-1.04.2-1.43.59L10.3 9.45l-7.72 7.72c-.78.78-.78 2.05 0 2.83L4 21.41c.39.39.9.59 1.41.59.51 0 1.02-.2 1.41-.59l7.78-7.78 2.81-2.81c.8-.78.8-2.07 0-2.86zM5.41 20L4 18.59l7.72-7.72 1.47 1.35L5.41 20z\"/>\n",
              "  </svg>\n",
              "      </button>\n",
              "      \n",
              "  <style>\n",
              "    .colab-df-container {\n",
              "      display:flex;\n",
              "      flex-wrap:wrap;\n",
              "      gap: 12px;\n",
              "    }\n",
              "\n",
              "    .colab-df-convert {\n",
              "      background-color: #E8F0FE;\n",
              "      border: none;\n",
              "      border-radius: 50%;\n",
              "      cursor: pointer;\n",
              "      display: none;\n",
              "      fill: #1967D2;\n",
              "      height: 32px;\n",
              "      padding: 0 0 0 0;\n",
              "      width: 32px;\n",
              "    }\n",
              "\n",
              "    .colab-df-convert:hover {\n",
              "      background-color: #E2EBFA;\n",
              "      box-shadow: 0px 1px 2px rgba(60, 64, 67, 0.3), 0px 1px 3px 1px rgba(60, 64, 67, 0.15);\n",
              "      fill: #174EA6;\n",
              "    }\n",
              "\n",
              "    [theme=dark] .colab-df-convert {\n",
              "      background-color: #3B4455;\n",
              "      fill: #D2E3FC;\n",
              "    }\n",
              "\n",
              "    [theme=dark] .colab-df-convert:hover {\n",
              "      background-color: #434B5C;\n",
              "      box-shadow: 0px 1px 3px 1px rgba(0, 0, 0, 0.15);\n",
              "      filter: drop-shadow(0px 1px 2px rgba(0, 0, 0, 0.3));\n",
              "      fill: #FFFFFF;\n",
              "    }\n",
              "  </style>\n",
              "\n",
              "      <script>\n",
              "        const buttonEl =\n",
              "          document.querySelector('#df-f97bd5c4-4e8f-4433-952c-66b96ea0369e button.colab-df-convert');\n",
              "        buttonEl.style.display =\n",
              "          google.colab.kernel.accessAllowed ? 'block' : 'none';\n",
              "\n",
              "        async function convertToInteractive(key) {\n",
              "          const element = document.querySelector('#df-f97bd5c4-4e8f-4433-952c-66b96ea0369e');\n",
              "          const dataTable =\n",
              "            await google.colab.kernel.invokeFunction('convertToInteractive',\n",
              "                                                     [key], {});\n",
              "          if (!dataTable) return;\n",
              "\n",
              "          const docLinkHtml = 'Like what you see? Visit the ' +\n",
              "            '<a target=\"_blank\" href=https://colab.research.google.com/notebooks/data_table.ipynb>data table notebook</a>'\n",
              "            + ' to learn more about interactive tables.';\n",
              "          element.innerHTML = '';\n",
              "          dataTable['output_type'] = 'display_data';\n",
              "          await google.colab.output.renderOutput(dataTable, element);\n",
              "          const docLink = document.createElement('div');\n",
              "          docLink.innerHTML = docLinkHtml;\n",
              "          element.appendChild(docLink);\n",
              "        }\n",
              "      </script>\n",
              "    </div>\n",
              "  </div>\n",
              "  "
            ],
            "text/plain": [
              "       cuisine     id  ... has_spaghetti  has_curry_powder\n",
              "0        greek  10259  ...         False             False\n",
              "1  southern_us  25693  ...         False             False\n",
              "2     filipino  20130  ...         False             False\n",
              "3       indian  22213  ...         False             False\n",
              "4       indian  13162  ...         False             False\n",
              "\n",
              "[5 rows x 6 columns]"
            ]
          },
          "metadata": {},
          "execution_count": 172
        }
      ],
      "source": [
        "df.head()"
      ]
    },
    {
      "cell_type": "markdown",
      "metadata": {
        "id": "ibGNkb9EQA8-"
      },
      "source": [
        "### Wow, we did a really great job! Let's try another cuisine"
      ]
    },
    {
      "cell_type": "markdown",
      "metadata": {
        "id": "Eeg_TfB9QA8-"
      },
      "source": [
        "## Preparing our data\n",
        "\n",
        "### Creating labels that scikit-learn can use\n",
        "\n",
        "Our cuisine is , so we'll do `0` and `1` as to whether it's that cuisine or not "
      ]
    },
    {
      "cell_type": "code",
      "execution_count": null,
      "metadata": {
        "collapsed": true,
        "id": "dUndaOGtQA8_"
      },
      "outputs": [],
      "source": [
        "def make_label(cuisine):\n",
        "    if cuisine == \"brazilian\":\n",
        "        return 1\n",
        "    else:\n",
        "        return 0\n",
        "\n",
        "df['is_brazilian'] = df['cuisine'].apply(make_label)"
      ]
    },
    {
      "cell_type": "code",
      "execution_count": null,
      "metadata": {
        "colab": {
          "base_uri": "https://localhost:8080/",
          "height": 112
        },
        "id": "KMAtOErKQA8_",
        "outputId": "7da40b38-4333-48ca-d956-a61fb21bfba5"
      },
      "outputs": [
        {
          "output_type": "execute_result",
          "data": {
            "text/html": [
              "\n",
              "  <div id=\"df-e1ac18a4-de0b-4d6e-9fc4-58f7cbe53326\">\n",
              "    <div class=\"colab-df-container\">\n",
              "      <div>\n",
              "<style scoped>\n",
              "    .dataframe tbody tr th:only-of-type {\n",
              "        vertical-align: middle;\n",
              "    }\n",
              "\n",
              "    .dataframe tbody tr th {\n",
              "        vertical-align: top;\n",
              "    }\n",
              "\n",
              "    .dataframe thead th {\n",
              "        text-align: right;\n",
              "    }\n",
              "</style>\n",
              "<table border=\"1\" class=\"dataframe\">\n",
              "  <thead>\n",
              "    <tr style=\"text-align: right;\">\n",
              "      <th></th>\n",
              "      <th>cuisine</th>\n",
              "      <th>id</th>\n",
              "      <th>ingredient_list</th>\n",
              "      <th>label</th>\n",
              "      <th>has_spaghetti</th>\n",
              "      <th>has_curry_powder</th>\n",
              "      <th>is_brazilian</th>\n",
              "    </tr>\n",
              "  </thead>\n",
              "  <tbody>\n",
              "    <tr>\n",
              "      <th>0</th>\n",
              "      <td>greek</td>\n",
              "      <td>10259</td>\n",
              "      <td>romaine lettuce, black olives, grape tomatoes,...</td>\n",
              "      <td>0</td>\n",
              "      <td>False</td>\n",
              "      <td>False</td>\n",
              "      <td>0</td>\n",
              "    </tr>\n",
              "    <tr>\n",
              "      <th>1</th>\n",
              "      <td>southern_us</td>\n",
              "      <td>25693</td>\n",
              "      <td>plain flour, ground pepper, salt, tomatoes, gr...</td>\n",
              "      <td>0</td>\n",
              "      <td>False</td>\n",
              "      <td>False</td>\n",
              "      <td>0</td>\n",
              "    </tr>\n",
              "  </tbody>\n",
              "</table>\n",
              "</div>\n",
              "      <button class=\"colab-df-convert\" onclick=\"convertToInteractive('df-e1ac18a4-de0b-4d6e-9fc4-58f7cbe53326')\"\n",
              "              title=\"Convert this dataframe to an interactive table.\"\n",
              "              style=\"display:none;\">\n",
              "        \n",
              "  <svg xmlns=\"http://www.w3.org/2000/svg\" height=\"24px\"viewBox=\"0 0 24 24\"\n",
              "       width=\"24px\">\n",
              "    <path d=\"M0 0h24v24H0V0z\" fill=\"none\"/>\n",
              "    <path d=\"M18.56 5.44l.94 2.06.94-2.06 2.06-.94-2.06-.94-.94-2.06-.94 2.06-2.06.94zm-11 1L8.5 8.5l.94-2.06 2.06-.94-2.06-.94L8.5 2.5l-.94 2.06-2.06.94zm10 10l.94 2.06.94-2.06 2.06-.94-2.06-.94-.94-2.06-.94 2.06-2.06.94z\"/><path d=\"M17.41 7.96l-1.37-1.37c-.4-.4-.92-.59-1.43-.59-.52 0-1.04.2-1.43.59L10.3 9.45l-7.72 7.72c-.78.78-.78 2.05 0 2.83L4 21.41c.39.39.9.59 1.41.59.51 0 1.02-.2 1.41-.59l7.78-7.78 2.81-2.81c.8-.78.8-2.07 0-2.86zM5.41 20L4 18.59l7.72-7.72 1.47 1.35L5.41 20z\"/>\n",
              "  </svg>\n",
              "      </button>\n",
              "      \n",
              "  <style>\n",
              "    .colab-df-container {\n",
              "      display:flex;\n",
              "      flex-wrap:wrap;\n",
              "      gap: 12px;\n",
              "    }\n",
              "\n",
              "    .colab-df-convert {\n",
              "      background-color: #E8F0FE;\n",
              "      border: none;\n",
              "      border-radius: 50%;\n",
              "      cursor: pointer;\n",
              "      display: none;\n",
              "      fill: #1967D2;\n",
              "      height: 32px;\n",
              "      padding: 0 0 0 0;\n",
              "      width: 32px;\n",
              "    }\n",
              "\n",
              "    .colab-df-convert:hover {\n",
              "      background-color: #E2EBFA;\n",
              "      box-shadow: 0px 1px 2px rgba(60, 64, 67, 0.3), 0px 1px 3px 1px rgba(60, 64, 67, 0.15);\n",
              "      fill: #174EA6;\n",
              "    }\n",
              "\n",
              "    [theme=dark] .colab-df-convert {\n",
              "      background-color: #3B4455;\n",
              "      fill: #D2E3FC;\n",
              "    }\n",
              "\n",
              "    [theme=dark] .colab-df-convert:hover {\n",
              "      background-color: #434B5C;\n",
              "      box-shadow: 0px 1px 3px 1px rgba(0, 0, 0, 0.15);\n",
              "      filter: drop-shadow(0px 1px 2px rgba(0, 0, 0, 0.3));\n",
              "      fill: #FFFFFF;\n",
              "    }\n",
              "  </style>\n",
              "\n",
              "      <script>\n",
              "        const buttonEl =\n",
              "          document.querySelector('#df-e1ac18a4-de0b-4d6e-9fc4-58f7cbe53326 button.colab-df-convert');\n",
              "        buttonEl.style.display =\n",
              "          google.colab.kernel.accessAllowed ? 'block' : 'none';\n",
              "\n",
              "        async function convertToInteractive(key) {\n",
              "          const element = document.querySelector('#df-e1ac18a4-de0b-4d6e-9fc4-58f7cbe53326');\n",
              "          const dataTable =\n",
              "            await google.colab.kernel.invokeFunction('convertToInteractive',\n",
              "                                                     [key], {});\n",
              "          if (!dataTable) return;\n",
              "\n",
              "          const docLinkHtml = 'Like what you see? Visit the ' +\n",
              "            '<a target=\"_blank\" href=https://colab.research.google.com/notebooks/data_table.ipynb>data table notebook</a>'\n",
              "            + ' to learn more about interactive tables.';\n",
              "          element.innerHTML = '';\n",
              "          dataTable['output_type'] = 'display_data';\n",
              "          await google.colab.output.renderOutput(dataTable, element);\n",
              "          const docLink = document.createElement('div');\n",
              "          docLink.innerHTML = docLinkHtml;\n",
              "          element.appendChild(docLink);\n",
              "        }\n",
              "      </script>\n",
              "    </div>\n",
              "  </div>\n",
              "  "
            ],
            "text/plain": [
              "       cuisine     id  ... has_curry_powder  is_brazilian\n",
              "0        greek  10259  ...            False             0\n",
              "1  southern_us  25693  ...            False             0\n",
              "\n",
              "[2 rows x 7 columns]"
            ]
          },
          "metadata": {},
          "execution_count": 174
        }
      ],
      "source": [
        "df.head(2)"
      ]
    },
    {
      "cell_type": "markdown",
      "metadata": {
        "id": "qbl76HW0QA8_"
      },
      "source": [
        "### Creating features that scikit-learn can use\n",
        "\n",
        "It's Bernoulli Naive Bayes, so it's `True` and `False`"
      ]
    },
    {
      "cell_type": "code",
      "execution_count": null,
      "metadata": {
        "collapsed": true,
        "id": "3j6nq9F2QA9A"
      },
      "outputs": [],
      "source": [
        "df['has_water'] = df['ingredient_list'].str.contains('water')\n",
        "df['has_salt'] = df['ingredient_list'].str.contains('salt')"
      ]
    },
    {
      "cell_type": "code",
      "execution_count": null,
      "metadata": {
        "colab": {
          "base_uri": "https://localhost:8080/",
          "height": 112
        },
        "id": "j2cJwYgfQA9A",
        "outputId": "7bf2728f-9349-4256-95e5-aef00dd1669a"
      },
      "outputs": [
        {
          "output_type": "execute_result",
          "data": {
            "text/html": [
              "\n",
              "  <div id=\"df-42897b07-4f7f-4298-a6aa-08f31bd48d71\">\n",
              "    <div class=\"colab-df-container\">\n",
              "      <div>\n",
              "<style scoped>\n",
              "    .dataframe tbody tr th:only-of-type {\n",
              "        vertical-align: middle;\n",
              "    }\n",
              "\n",
              "    .dataframe tbody tr th {\n",
              "        vertical-align: top;\n",
              "    }\n",
              "\n",
              "    .dataframe thead th {\n",
              "        text-align: right;\n",
              "    }\n",
              "</style>\n",
              "<table border=\"1\" class=\"dataframe\">\n",
              "  <thead>\n",
              "    <tr style=\"text-align: right;\">\n",
              "      <th></th>\n",
              "      <th>cuisine</th>\n",
              "      <th>id</th>\n",
              "      <th>ingredient_list</th>\n",
              "      <th>label</th>\n",
              "      <th>has_spaghetti</th>\n",
              "      <th>has_curry_powder</th>\n",
              "      <th>is_brazilian</th>\n",
              "      <th>has_water</th>\n",
              "      <th>has_salt</th>\n",
              "    </tr>\n",
              "  </thead>\n",
              "  <tbody>\n",
              "    <tr>\n",
              "      <th>0</th>\n",
              "      <td>greek</td>\n",
              "      <td>10259</td>\n",
              "      <td>romaine lettuce, black olives, grape tomatoes,...</td>\n",
              "      <td>0</td>\n",
              "      <td>False</td>\n",
              "      <td>False</td>\n",
              "      <td>0</td>\n",
              "      <td>False</td>\n",
              "      <td>False</td>\n",
              "    </tr>\n",
              "    <tr>\n",
              "      <th>1</th>\n",
              "      <td>southern_us</td>\n",
              "      <td>25693</td>\n",
              "      <td>plain flour, ground pepper, salt, tomatoes, gr...</td>\n",
              "      <td>0</td>\n",
              "      <td>False</td>\n",
              "      <td>False</td>\n",
              "      <td>0</td>\n",
              "      <td>False</td>\n",
              "      <td>True</td>\n",
              "    </tr>\n",
              "  </tbody>\n",
              "</table>\n",
              "</div>\n",
              "      <button class=\"colab-df-convert\" onclick=\"convertToInteractive('df-42897b07-4f7f-4298-a6aa-08f31bd48d71')\"\n",
              "              title=\"Convert this dataframe to an interactive table.\"\n",
              "              style=\"display:none;\">\n",
              "        \n",
              "  <svg xmlns=\"http://www.w3.org/2000/svg\" height=\"24px\"viewBox=\"0 0 24 24\"\n",
              "       width=\"24px\">\n",
              "    <path d=\"M0 0h24v24H0V0z\" fill=\"none\"/>\n",
              "    <path d=\"M18.56 5.44l.94 2.06.94-2.06 2.06-.94-2.06-.94-.94-2.06-.94 2.06-2.06.94zm-11 1L8.5 8.5l.94-2.06 2.06-.94-2.06-.94L8.5 2.5l-.94 2.06-2.06.94zm10 10l.94 2.06.94-2.06 2.06-.94-2.06-.94-.94-2.06-.94 2.06-2.06.94z\"/><path d=\"M17.41 7.96l-1.37-1.37c-.4-.4-.92-.59-1.43-.59-.52 0-1.04.2-1.43.59L10.3 9.45l-7.72 7.72c-.78.78-.78 2.05 0 2.83L4 21.41c.39.39.9.59 1.41.59.51 0 1.02-.2 1.41-.59l7.78-7.78 2.81-2.81c.8-.78.8-2.07 0-2.86zM5.41 20L4 18.59l7.72-7.72 1.47 1.35L5.41 20z\"/>\n",
              "  </svg>\n",
              "      </button>\n",
              "      \n",
              "  <style>\n",
              "    .colab-df-container {\n",
              "      display:flex;\n",
              "      flex-wrap:wrap;\n",
              "      gap: 12px;\n",
              "    }\n",
              "\n",
              "    .colab-df-convert {\n",
              "      background-color: #E8F0FE;\n",
              "      border: none;\n",
              "      border-radius: 50%;\n",
              "      cursor: pointer;\n",
              "      display: none;\n",
              "      fill: #1967D2;\n",
              "      height: 32px;\n",
              "      padding: 0 0 0 0;\n",
              "      width: 32px;\n",
              "    }\n",
              "\n",
              "    .colab-df-convert:hover {\n",
              "      background-color: #E2EBFA;\n",
              "      box-shadow: 0px 1px 2px rgba(60, 64, 67, 0.3), 0px 1px 3px 1px rgba(60, 64, 67, 0.15);\n",
              "      fill: #174EA6;\n",
              "    }\n",
              "\n",
              "    [theme=dark] .colab-df-convert {\n",
              "      background-color: #3B4455;\n",
              "      fill: #D2E3FC;\n",
              "    }\n",
              "\n",
              "    [theme=dark] .colab-df-convert:hover {\n",
              "      background-color: #434B5C;\n",
              "      box-shadow: 0px 1px 3px 1px rgba(0, 0, 0, 0.15);\n",
              "      filter: drop-shadow(0px 1px 2px rgba(0, 0, 0, 0.3));\n",
              "      fill: #FFFFFF;\n",
              "    }\n",
              "  </style>\n",
              "\n",
              "      <script>\n",
              "        const buttonEl =\n",
              "          document.querySelector('#df-42897b07-4f7f-4298-a6aa-08f31bd48d71 button.colab-df-convert');\n",
              "        buttonEl.style.display =\n",
              "          google.colab.kernel.accessAllowed ? 'block' : 'none';\n",
              "\n",
              "        async function convertToInteractive(key) {\n",
              "          const element = document.querySelector('#df-42897b07-4f7f-4298-a6aa-08f31bd48d71');\n",
              "          const dataTable =\n",
              "            await google.colab.kernel.invokeFunction('convertToInteractive',\n",
              "                                                     [key], {});\n",
              "          if (!dataTable) return;\n",
              "\n",
              "          const docLinkHtml = 'Like what you see? Visit the ' +\n",
              "            '<a target=\"_blank\" href=https://colab.research.google.com/notebooks/data_table.ipynb>data table notebook</a>'\n",
              "            + ' to learn more about interactive tables.';\n",
              "          element.innerHTML = '';\n",
              "          dataTable['output_type'] = 'display_data';\n",
              "          await google.colab.output.renderOutput(dataTable, element);\n",
              "          const docLink = document.createElement('div');\n",
              "          docLink.innerHTML = docLinkHtml;\n",
              "          element.appendChild(docLink);\n",
              "        }\n",
              "      </script>\n",
              "    </div>\n",
              "  </div>\n",
              "  "
            ],
            "text/plain": [
              "       cuisine     id  ... has_water  has_salt\n",
              "0        greek  10259  ...     False     False\n",
              "1  southern_us  25693  ...     False      True\n",
              "\n",
              "[2 rows x 9 columns]"
            ]
          },
          "metadata": {},
          "execution_count": 176
        }
      ],
      "source": [
        "df.head(2)"
      ]
    },
    {
      "cell_type": "markdown",
      "metadata": {
        "id": "r4m1Hr7oQA9A"
      },
      "source": [
        "### Create the test/train split"
      ]
    },
    {
      "cell_type": "code",
      "execution_count": null,
      "metadata": {
        "collapsed": true,
        "id": "r6nwHRIPQA9B"
      },
      "outputs": [],
      "source": [
        "from sklearn.model_selection import train_test_split\n",
        "\n",
        "X_train, X_test, y_train, y_test = train_test_split(\n",
        "    df[['has_water', 'has_salt']], # the first is our FEATURES\n",
        "    df['is_brazilian'], # the second parameter is the LABEL (this is 0/1, not italian/italian)\n",
        "    test_size=0.2) # 80% training, 20% testing"
      ]
    },
    {
      "cell_type": "markdown",
      "metadata": {
        "id": "JkpEL_pOQA9B"
      },
      "source": [
        "### Create classifier, train and test"
      ]
    },
    {
      "cell_type": "code",
      "execution_count": null,
      "metadata": {
        "colab": {
          "base_uri": "https://localhost:8080/"
        },
        "id": "TLyasYiLQA9B",
        "outputId": "b4e6fba9-d210-486c-d171-0abb8b79f48a"
      },
      "outputs": [
        {
          "output_type": "execute_result",
          "data": {
            "text/plain": [
              "BernoulliNB()"
            ]
          },
          "metadata": {},
          "execution_count": 178
        }
      ],
      "source": [
        "from sklearn import naive_bayes\n",
        "\n",
        "# Create a Bernoulli Naive Bayes classifier\n",
        "clf = naive_bayes.BernoulliNB()\n",
        "\n",
        "# Fit with our training data\n",
        "clf.fit(X_train, y_train)"
      ]
    },
    {
      "cell_type": "code",
      "execution_count": null,
      "metadata": {
        "colab": {
          "base_uri": "https://localhost:8080/"
        },
        "id": "-08xwYygQA9C",
        "outputId": "7c7fb064-c0e1-461a-9cbc-d1f3f13bc26b"
      },
      "outputs": [
        {
          "output_type": "execute_result",
          "data": {
            "text/plain": [
              "0.9896920175989944"
            ]
          },
          "metadata": {},
          "execution_count": 179
        }
      ],
      "source": [
        "clf.score(X_test, y_test)"
      ]
    },
    {
      "cell_type": "markdown",
      "metadata": {
        "id": "VHrXmUEFQA9N"
      },
      "source": [
        "## Let's fix up our labels\n",
        "\n",
        "Before we had this:\n",
        "\n",
        "    def make_label(cuisine):\n",
        "        if cuisine == \"brazilian\":\n",
        "            return 1\n",
        "        else:\n",
        "            return 0\n",
        "\n",
        "which does not scale well. If we wanted to add in more different cuisines, we'd need to keep adding in else ifs again and again and again until our fingers fell off. And we'd probably misspell something. And if we're anything, it's LAZY.\n",
        "\n",
        "## LabelEncoder to the rescue: Converts categories into numeric labels"
      ]
    },
    {
      "cell_type": "code",
      "execution_count": null,
      "metadata": {
        "collapsed": true,
        "id": "q0JMBangQA9N"
      },
      "outputs": [],
      "source": [
        "from sklearn import preprocessing\n",
        "\n",
        "le = preprocessing.LabelEncoder()"
      ]
    },
    {
      "cell_type": "code",
      "execution_count": null,
      "metadata": {
        "collapsed": true,
        "id": "iy9BbCquQA9N"
      },
      "outputs": [],
      "source": [
        "# LabelEncoder has two parts: FIT and TRANSFORM\n",
        "# FIT learns all of the possible labels\n",
        "# TRANSFORM takes a list of categories and converts them into numbers"
      ]
    },
    {
      "cell_type": "code",
      "execution_count": null,
      "metadata": {
        "colab": {
          "base_uri": "https://localhost:8080/"
        },
        "id": "ZHlssmukQA9O",
        "outputId": "8c944b13-70d1-430f-e190-28f143b01e47"
      },
      "outputs": [
        {
          "output_type": "execute_result",
          "data": {
            "text/plain": [
              "LabelEncoder()"
            ]
          },
          "metadata": {},
          "execution_count": 182
        }
      ],
      "source": [
        "# Teach the label encoder all of the possible labels\n",
        "# It doesn't care about duplicates \n",
        "le.fit(['orange', 'red', 'red', 'red', 'yellow', 'blue'])"
      ]
    },
    {
      "cell_type": "code",
      "execution_count": null,
      "metadata": {
        "colab": {
          "base_uri": "https://localhost:8080/"
        },
        "id": "QZ8D5_57QA9O",
        "outputId": "6e6a7245-7da3-403d-eda8-00ddb4f22ccf"
      },
      "outputs": [
        {
          "output_type": "execute_result",
          "data": {
            "text/plain": [
              "array([1, 0, 3])"
            ]
          },
          "metadata": {},
          "execution_count": 183
        }
      ],
      "source": [
        "# Get the labels out as numbers\n",
        "le.transform(['orange', 'blue', 'yellow'])"
      ]
    },
    {
      "cell_type": "code",
      "execution_count": null,
      "metadata": {
        "colab": {
          "base_uri": "https://localhost:8080/"
        },
        "id": "CV-UssZyQA9P",
        "outputId": "45ec2974-16c0-44e1-b7e1-8b0fb77e317f"
      },
      "outputs": [
        {
          "output_type": "execute_result",
          "data": {
            "text/plain": [
              "LabelEncoder()"
            ]
          },
          "metadata": {},
          "execution_count": 184
        }
      ],
      "source": [
        "# Send the label encoder each and every cuisine\n",
        "le.fit(df['cuisine'])"
      ]
    },
    {
      "cell_type": "code",
      "execution_count": null,
      "metadata": {
        "colab": {
          "base_uri": "https://localhost:8080/"
        },
        "id": "9-yUXHn1QA9P",
        "outputId": "f623a648-c0e7-4045-b5ab-8c7d4873fac2"
      },
      "outputs": [
        {
          "output_type": "execute_result",
          "data": {
            "text/plain": [
              "array([ 6, 16,  4, ...,  8,  3, 13])"
            ]
          },
          "metadata": {},
          "execution_count": 185
        }
      ],
      "source": [
        "le.transform(df['cuisine'])"
      ]
    },
    {
      "cell_type": "code",
      "execution_count": null,
      "metadata": {
        "colab": {
          "base_uri": "https://localhost:8080/",
          "height": 205
        },
        "id": "PHA0k9elQA9P",
        "outputId": "fb659fa8-3169-42f2-897d-cd09be7ca257"
      },
      "outputs": [
        {
          "output_type": "execute_result",
          "data": {
            "text/html": [
              "\n",
              "  <div id=\"df-b8de4065-c925-4ae7-9f12-acefe693703a\">\n",
              "    <div class=\"colab-df-container\">\n",
              "      <div>\n",
              "<style scoped>\n",
              "    .dataframe tbody tr th:only-of-type {\n",
              "        vertical-align: middle;\n",
              "    }\n",
              "\n",
              "    .dataframe tbody tr th {\n",
              "        vertical-align: top;\n",
              "    }\n",
              "\n",
              "    .dataframe thead th {\n",
              "        text-align: right;\n",
              "    }\n",
              "</style>\n",
              "<table border=\"1\" class=\"dataframe\">\n",
              "  <thead>\n",
              "    <tr style=\"text-align: right;\">\n",
              "      <th></th>\n",
              "      <th>cuisine</th>\n",
              "      <th>id</th>\n",
              "      <th>ingredient_list</th>\n",
              "      <th>label</th>\n",
              "      <th>has_spaghetti</th>\n",
              "      <th>has_curry_powder</th>\n",
              "      <th>is_brazilian</th>\n",
              "      <th>has_water</th>\n",
              "      <th>has_salt</th>\n",
              "      <th>cuisine_label</th>\n",
              "    </tr>\n",
              "  </thead>\n",
              "  <tbody>\n",
              "    <tr>\n",
              "      <th>0</th>\n",
              "      <td>greek</td>\n",
              "      <td>10259</td>\n",
              "      <td>romaine lettuce, black olives, grape tomatoes,...</td>\n",
              "      <td>0</td>\n",
              "      <td>False</td>\n",
              "      <td>False</td>\n",
              "      <td>0</td>\n",
              "      <td>False</td>\n",
              "      <td>False</td>\n",
              "      <td>6</td>\n",
              "    </tr>\n",
              "    <tr>\n",
              "      <th>1</th>\n",
              "      <td>southern_us</td>\n",
              "      <td>25693</td>\n",
              "      <td>plain flour, ground pepper, salt, tomatoes, gr...</td>\n",
              "      <td>0</td>\n",
              "      <td>False</td>\n",
              "      <td>False</td>\n",
              "      <td>0</td>\n",
              "      <td>False</td>\n",
              "      <td>True</td>\n",
              "      <td>16</td>\n",
              "    </tr>\n",
              "    <tr>\n",
              "      <th>2</th>\n",
              "      <td>filipino</td>\n",
              "      <td>20130</td>\n",
              "      <td>eggs, pepper, salt, mayonaise, cooking oil, gr...</td>\n",
              "      <td>0</td>\n",
              "      <td>False</td>\n",
              "      <td>False</td>\n",
              "      <td>0</td>\n",
              "      <td>False</td>\n",
              "      <td>True</td>\n",
              "      <td>4</td>\n",
              "    </tr>\n",
              "  </tbody>\n",
              "</table>\n",
              "</div>\n",
              "      <button class=\"colab-df-convert\" onclick=\"convertToInteractive('df-b8de4065-c925-4ae7-9f12-acefe693703a')\"\n",
              "              title=\"Convert this dataframe to an interactive table.\"\n",
              "              style=\"display:none;\">\n",
              "        \n",
              "  <svg xmlns=\"http://www.w3.org/2000/svg\" height=\"24px\"viewBox=\"0 0 24 24\"\n",
              "       width=\"24px\">\n",
              "    <path d=\"M0 0h24v24H0V0z\" fill=\"none\"/>\n",
              "    <path d=\"M18.56 5.44l.94 2.06.94-2.06 2.06-.94-2.06-.94-.94-2.06-.94 2.06-2.06.94zm-11 1L8.5 8.5l.94-2.06 2.06-.94-2.06-.94L8.5 2.5l-.94 2.06-2.06.94zm10 10l.94 2.06.94-2.06 2.06-.94-2.06-.94-.94-2.06-.94 2.06-2.06.94z\"/><path d=\"M17.41 7.96l-1.37-1.37c-.4-.4-.92-.59-1.43-.59-.52 0-1.04.2-1.43.59L10.3 9.45l-7.72 7.72c-.78.78-.78 2.05 0 2.83L4 21.41c.39.39.9.59 1.41.59.51 0 1.02-.2 1.41-.59l7.78-7.78 2.81-2.81c.8-.78.8-2.07 0-2.86zM5.41 20L4 18.59l7.72-7.72 1.47 1.35L5.41 20z\"/>\n",
              "  </svg>\n",
              "      </button>\n",
              "      \n",
              "  <style>\n",
              "    .colab-df-container {\n",
              "      display:flex;\n",
              "      flex-wrap:wrap;\n",
              "      gap: 12px;\n",
              "    }\n",
              "\n",
              "    .colab-df-convert {\n",
              "      background-color: #E8F0FE;\n",
              "      border: none;\n",
              "      border-radius: 50%;\n",
              "      cursor: pointer;\n",
              "      display: none;\n",
              "      fill: #1967D2;\n",
              "      height: 32px;\n",
              "      padding: 0 0 0 0;\n",
              "      width: 32px;\n",
              "    }\n",
              "\n",
              "    .colab-df-convert:hover {\n",
              "      background-color: #E2EBFA;\n",
              "      box-shadow: 0px 1px 2px rgba(60, 64, 67, 0.3), 0px 1px 3px 1px rgba(60, 64, 67, 0.15);\n",
              "      fill: #174EA6;\n",
              "    }\n",
              "\n",
              "    [theme=dark] .colab-df-convert {\n",
              "      background-color: #3B4455;\n",
              "      fill: #D2E3FC;\n",
              "    }\n",
              "\n",
              "    [theme=dark] .colab-df-convert:hover {\n",
              "      background-color: #434B5C;\n",
              "      box-shadow: 0px 1px 3px 1px rgba(0, 0, 0, 0.15);\n",
              "      filter: drop-shadow(0px 1px 2px rgba(0, 0, 0, 0.3));\n",
              "      fill: #FFFFFF;\n",
              "    }\n",
              "  </style>\n",
              "\n",
              "      <script>\n",
              "        const buttonEl =\n",
              "          document.querySelector('#df-b8de4065-c925-4ae7-9f12-acefe693703a button.colab-df-convert');\n",
              "        buttonEl.style.display =\n",
              "          google.colab.kernel.accessAllowed ? 'block' : 'none';\n",
              "\n",
              "        async function convertToInteractive(key) {\n",
              "          const element = document.querySelector('#df-b8de4065-c925-4ae7-9f12-acefe693703a');\n",
              "          const dataTable =\n",
              "            await google.colab.kernel.invokeFunction('convertToInteractive',\n",
              "                                                     [key], {});\n",
              "          if (!dataTable) return;\n",
              "\n",
              "          const docLinkHtml = 'Like what you see? Visit the ' +\n",
              "            '<a target=\"_blank\" href=https://colab.research.google.com/notebooks/data_table.ipynb>data table notebook</a>'\n",
              "            + ' to learn more about interactive tables.';\n",
              "          element.innerHTML = '';\n",
              "          dataTable['output_type'] = 'display_data';\n",
              "          await google.colab.output.renderOutput(dataTable, element);\n",
              "          const docLink = document.createElement('div');\n",
              "          docLink.innerHTML = docLinkHtml;\n",
              "          element.appendChild(docLink);\n",
              "        }\n",
              "      </script>\n",
              "    </div>\n",
              "  </div>\n",
              "  "
            ],
            "text/plain": [
              "       cuisine     id  ... has_salt  cuisine_label\n",
              "0        greek  10259  ...    False              6\n",
              "1  southern_us  25693  ...     True             16\n",
              "2     filipino  20130  ...     True              4\n",
              "\n",
              "[3 rows x 10 columns]"
            ]
          },
          "metadata": {},
          "execution_count": 186
        }
      ],
      "source": [
        "df['cuisine_label'] = le.transform(df['cuisine'])\n",
        "df.head(3)"
      ]
    },
    {
      "cell_type": "markdown",
      "metadata": {
        "id": "xwfqLuxfQA9P"
      },
      "source": [
        "## Let's train and test with our new labels"
      ]
    },
    {
      "cell_type": "code",
      "execution_count": null,
      "metadata": {
        "collapsed": true,
        "id": "YoBvRwXbQA9Q"
      },
      "outputs": [],
      "source": [
        "X_train, X_test, y_train, y_test = train_test_split(\n",
        "    df[['has_water', 'has_salt']], # the first is our FEATURES\n",
        "    df['cuisine_label'], # the second parameter is the LABEL (0-16, southern us, brazilian, anything really)\n",
        "    test_size=0.2) # 80% training, 20% testing"
      ]
    },
    {
      "cell_type": "code",
      "execution_count": null,
      "metadata": {
        "colab": {
          "base_uri": "https://localhost:8080/"
        },
        "id": "DVdLp4oSQA9Q",
        "outputId": "b9a09c11-c7c4-4df8-d98e-6b5cbcfd2c6e"
      },
      "outputs": [
        {
          "output_type": "execute_result",
          "data": {
            "text/plain": [
              "BernoulliNB()"
            ]
          },
          "metadata": {},
          "execution_count": 188
        }
      ],
      "source": [
        "from sklearn import naive_bayes\n",
        "\n",
        "# Create a Bernoulli Naive Bayes classifier\n",
        "clf = naive_bayes.BernoulliNB()\n",
        "\n",
        "# Learn how related every cuisine is to water and salt\n",
        "clf.fit(X_train, y_train)"
      ]
    },
    {
      "cell_type": "code",
      "execution_count": null,
      "metadata": {
        "colab": {
          "base_uri": "https://localhost:8080/"
        },
        "id": "rFn0GFA6QA9Q",
        "outputId": "1b1d7f46-6160-4c17-9155-0673122b4748"
      },
      "outputs": [
        {
          "output_type": "execute_result",
          "data": {
            "text/plain": [
              "0.20188560653676932"
            ]
          },
          "metadata": {},
          "execution_count": 189
        }
      ],
      "source": [
        "clf.score(X_test, y_test)"
      ]
    },
    {
      "cell_type": "markdown",
      "metadata": {
        "id": "Mj5s8hg-QA9R"
      },
      "source": [
        "# Let's add some more features to see if we can do a better job\n",
        "\n",
        "Right now I'm only looking at water and salt which doesn't tell you much, maybe you're looking at tortillas or cumin or soy sauce which tells you a little bit more."
      ]
    },
    {
      "cell_type": "code",
      "execution_count": null,
      "metadata": {
        "collapsed": true,
        "id": "LrZ3GPklQA9R"
      },
      "outputs": [],
      "source": [
        "df['has_miso'] = df['ingredient_list'].str.contains(\"miso\")\n",
        "df['has_soy_sauce'] = df['ingredient_list'].str.contains(\"soy sauce\")\n",
        "df['has_cilantro'] = df['ingredient_list'].str.contains(\"cilantro\")\n",
        "df['has_black_olives'] = df['ingredient_list'].str.contains(\"black olives\")\n",
        "df['has_tortillas'] = df['ingredient_list'].str.contains(\"tortillas\")\n",
        "df['has_turmeric'] = df['ingredient_list'].str.contains(\"turmeric\")\n",
        "df['has_pistachios'] = df['ingredient_list'].str.contains(\"pistachios\")\n",
        "df['has_lemongrass'] = df['ingredient_list'].str.contains(\"lemongrass\")"
      ]
    },
    {
      "cell_type": "markdown",
      "metadata": {
        "id": "DwlXQH0SQA9R"
      },
      "source": [
        "Our new feature set is!!! `df[['has_spaghetti', 'has_miso', 'has_soy_sauce', 'has_cilantro','has_black_olives','has_tortillas','has_turmeric', 'has_pistachios','has_lemongrass']]`"
      ]
    },
    {
      "cell_type": "code",
      "execution_count": null,
      "metadata": {
        "collapsed": true,
        "id": "VjuLFGcsQA9R"
      },
      "outputs": [],
      "source": [
        "X_train, X_test, y_train, y_test = train_test_split(\n",
        "    df[['has_spaghetti', 'has_miso', 'has_soy_sauce', 'has_cilantro','has_black_olives','has_tortillas','has_turmeric', 'has_pistachios','has_lemongrass']], # the first is our FEATURES\n",
        "    df['cuisine_label'], # the second parameter is the LABEL (0-16, southern us, brazilian, anything really)\n",
        "    test_size=0.2) # 80% training, 20% testing"
      ]
    },
    {
      "cell_type": "code",
      "execution_count": null,
      "metadata": {
        "colab": {
          "base_uri": "https://localhost:8080/"
        },
        "id": "iXBsk2A1QA9S",
        "outputId": "22b0956e-db83-47a3-c180-4b337b96f196"
      },
      "outputs": [
        {
          "output_type": "execute_result",
          "data": {
            "text/plain": [
              "BernoulliNB()"
            ]
          },
          "metadata": {},
          "execution_count": 192
        }
      ],
      "source": [
        "from sklearn import naive_bayes\n",
        "\n",
        "# Create a Bernoulli Naive Bayes classifier\n",
        "clf = naive_bayes.BernoulliNB()\n",
        "\n",
        "# Learn how related every cuisine is to water and salt\n",
        "clf.fit(X_train, y_train)"
      ]
    },
    {
      "cell_type": "code",
      "execution_count": null,
      "metadata": {
        "colab": {
          "base_uri": "https://localhost:8080/"
        },
        "id": "VtrYjdTrQA9S",
        "outputId": "fb5a8ca4-3e2e-497a-8b7a-8911cb8bc912"
      },
      "outputs": [
        {
          "output_type": "execute_result",
          "data": {
            "text/plain": [
              "0.3714644877435575"
            ]
          },
          "metadata": {},
          "execution_count": 193
        }
      ],
      "source": [
        "clf.score(X_test, y_test)"
      ]
    },
    {
      "cell_type": "markdown",
      "metadata": {
        "id": "UOOrdB2MQA9S"
      },
      "source": [
        "# This is taking forever, please let there be an automatic way to pick out all of the words"
      ]
    },
    {
      "cell_type": "code",
      "execution_count": null,
      "metadata": {
        "id": "mT40EPM1QA9T"
      },
      "outputs": [],
      "source": [
        "from sklearn.feature_extraction.text import CountVectorizer\n",
        "\n",
        "# STEP ONE: .fit to learn all of the words\n",
        "# STEP TWO: .transform to turn a sentence into numbers\n",
        "\n",
        "#vectorizer = CountVectorizer()\n",
        "# So now 'olive' and 'oil' and 'olive oil' instead of just 'olive' and 'oil'\n",
        "# Only pick the top 3000 most frequent ngrams\n",
        "vectorizer = CountVectorizer(ngram_range=(1,2), max_features=3000)"
      ]
    },
    {
      "cell_type": "code",
      "execution_count": null,
      "metadata": {
        "colab": {
          "base_uri": "https://localhost:8080/"
        },
        "id": "mlLzJZHUQA9T",
        "outputId": "00f17b22-0638-44be-cbf9-3eb9e1e966ea"
      },
      "outputs": [
        {
          "output_type": "execute_result",
          "data": {
            "text/plain": [
              "CountVectorizer(max_features=3000, ngram_range=(1, 2))"
            ]
          },
          "metadata": {},
          "execution_count": 195
        }
      ],
      "source": [
        "# We have some sentences\n",
        "# We're going to feed it to the vectorizer\n",
        "# and it's going to learn all of the words\n",
        "sentences = [\n",
        "    \"cats are cool\",\n",
        "    \"dogs are cool\"\n",
        "]\n",
        "vectorizer.fit(sentences)"
      ]
    },
    {
      "cell_type": "code",
      "execution_count": null,
      "metadata": {
        "colab": {
          "base_uri": "https://localhost:8080/"
        },
        "id": "pIuoHZ1rQA9T",
        "outputId": "d9818a17-4163-435a-bad5-c846cee6dfef"
      },
      "outputs": [
        {
          "output_type": "execute_result",
          "data": {
            "text/plain": [
              "<2x7 sparse matrix of type '<class 'numpy.int64'>'\n",
              "\twith 10 stored elements in Compressed Sparse Row format>"
            ]
          },
          "metadata": {},
          "execution_count": 196
        }
      ],
      "source": [
        "# We're going to take some sentences and feed it to the vectorizer\n",
        "# and its' going to convert it into numbers\n",
        "vectorizer.transform(sentences)"
      ]
    },
    {
      "cell_type": "code",
      "execution_count": null,
      "metadata": {
        "colab": {
          "base_uri": "https://localhost:8080/"
        },
        "id": "ptYS61T0QA9U",
        "outputId": "ea21269a-2c9a-4b8c-dc78-40d7cf4620bb"
      },
      "outputs": [
        {
          "output_type": "execute_result",
          "data": {
            "text/plain": [
              "array([[1, 1, 1, 1, 1, 0, 0],\n",
              "       [1, 1, 0, 0, 1, 1, 1]])"
            ]
          },
          "metadata": {},
          "execution_count": 197
        }
      ],
      "source": [
        "# But it looks bad to look at so I'll use .toarray()\n",
        "vectorizer.transform(sentences).toarray()"
      ]
    },
    {
      "cell_type": "code",
      "execution_count": null,
      "metadata": {
        "colab": {
          "base_uri": "https://localhost:8080/"
        },
        "id": "A2awuYNiQA9U",
        "outputId": "9ff48685-d418-441b-b0c2-fc141cfcb780"
      },
      "outputs": [
        {
          "output_type": "execute_result",
          "data": {
            "text/plain": [
              "0    romaine lettuce, black olives, grape tomatoes,...\n",
              "1    plain flour, ground pepper, salt, tomatoes, gr...\n",
              "2    eggs, pepper, salt, mayonaise, cooking oil, gr...\n",
              "3                    water, vegetable oil, wheat, salt\n",
              "4    black pepper, shallots, cornflour, cayenne pep...\n",
              "Name: ingredient_list, dtype: object"
            ]
          },
          "metadata": {},
          "execution_count": 198
        }
      ],
      "source": [
        "# In our case, our text is the list of ingredients. We can get it through\n",
        "df['ingredient_list'].head()"
      ]
    },
    {
      "cell_type": "code",
      "execution_count": null,
      "metadata": {
        "colab": {
          "base_uri": "https://localhost:8080/"
        },
        "id": "YscAnjIDQA9V",
        "outputId": "c07fa33a-d867-40db-f8ab-d206397acbcb"
      },
      "outputs": [
        {
          "output_type": "execute_result",
          "data": {
            "text/plain": [
              "CountVectorizer(max_features=3000, ngram_range=(1, 2))"
            ]
          },
          "metadata": {},
          "execution_count": 199
        }
      ],
      "source": [
        "# Dear vectorizer, please learn all of these words\n",
        "vectorizer.fit(df['ingredient_list'])"
      ]
    },
    {
      "cell_type": "code",
      "execution_count": null,
      "metadata": {
        "colab": {
          "base_uri": "https://localhost:8080/"
        },
        "id": "XXJgOARCQA9V",
        "outputId": "ea6930e8-5673-490b-9721-83d68d0fe92e"
      },
      "outputs": [
        {
          "output_type": "execute_result",
          "data": {
            "text/plain": [
              "<39774x3000 sparse matrix of type '<class 'numpy.int64'>'\n",
              "\twith 1243216 stored elements in Compressed Sparse Row format>"
            ]
          },
          "metadata": {},
          "execution_count": 200
        }
      ],
      "source": [
        "# Dear vectorizer, please convert ingredient_list into features\n",
        "# That we can do machine learning on\n",
        "\n",
        "every_single_word_features = vectorizer.transform(df['ingredient_list'])\n",
        "every_single_word_features"
      ]
    },
    {
      "cell_type": "markdown",
      "metadata": {
        "id": "OT1s2Mn9QA9W"
      },
      "source": [
        "### Now let's try with our new complete labels and our new complete features that includes every single word"
      ]
    },
    {
      "cell_type": "code",
      "execution_count": null,
      "metadata": {
        "collapsed": true,
        "id": "XVbA1l_lQA9W"
      },
      "outputs": [],
      "source": [
        "X_train, X_test, y_train, y_test = train_test_split(\n",
        "    every_single_word_features,\n",
        "    df['cuisine_label'], # the second parameter is the LABEL (0-16, southern us, brazilian, anything really)\n",
        "    test_size=0.2) # 80% training, 20% testing"
      ]
    },
    {
      "cell_type": "markdown",
      "metadata": {
        "id": "RXMvVVmeQA9W"
      },
      "source": [
        "### This is Naive Bayes with every word as a feature pushed through the CountVectorizer"
      ]
    },
    {
      "cell_type": "code",
      "execution_count": null,
      "metadata": {
        "colab": {
          "base_uri": "https://localhost:8080/"
        },
        "id": "nnwuCHIfQA9W",
        "outputId": "de3e9ab0-88b4-4a22-df94-8f82d810d7ea"
      },
      "outputs": [
        {
          "output_type": "stream",
          "name": "stdout",
          "text": [
            "This is Naive Bayes\n",
            "CPU times: user 47 ms, sys: 1.82 ms, total: 48.9 ms\n",
            "Wall time: 48.3 ms\n",
            "Training score: (stuff it already knows) 0.7155787422609133\n",
            "Testing score: (stuff it hasn't seen before): 0.6803268384663733\n"
          ]
        }
      ],
      "source": [
        "print(\"This is Naive Bayes\")\n",
        "\n",
        "from sklearn import naive_bayes\n",
        "clf = naive_bayes.BernoulliNB()\n",
        "%time clf.fit(X_train, y_train)\n",
        "\n",
        "# How does it do on the training data?\n",
        "print(\"Training score: (stuff it already knows)\", clf.score(X_train, y_train))\n",
        "\n",
        "# How does it do on the testing data?\n",
        "print(\"Testing score: (stuff it hasn't seen before):\", clf.score(X_test, y_test))"
      ]
    },
    {
      "cell_type": "markdown",
      "metadata": {
        "id": "a_p4AjhiQA9b"
      },
      "source": [
        "### How do you do this in the real world with new data?"
      ]
    },
    {
      "cell_type": "code",
      "execution_count": null,
      "metadata": {
        "collapsed": true,
        "id": "sd0OBOyaQA9b"
      },
      "outputs": [],
      "source": [
        "every_single_word_features = vectorizer.transform(df['ingredient_list'])\n"
      ]
    },
    {
      "cell_type": "code",
      "execution_count": null,
      "metadata": {
        "colab": {
          "base_uri": "https://localhost:8080/"
        },
        "id": "hI2b81KUQA9b",
        "outputId": "d14f4c80-fe26-4c0b-f578-829943f05c29"
      },
      "outputs": [
        {
          "output_type": "execute_result",
          "data": {
            "text/plain": [
              "<4x3000 sparse matrix of type '<class 'numpy.int64'>'\n",
              "\twith 35 stored elements in Compressed Sparse Row format>"
            ]
          },
          "metadata": {},
          "execution_count": 204
        }
      ],
      "source": [
        "# Import the Naive bayes thing\n",
        "from sklearn import naive_bayes\n",
        "clf = naive_bayes.BernoulliNB()\n",
        "\n",
        "# Give the classifier EVERYTHING we know, not holding back anything\n",
        "clf.fit(every_single_word_features, df['cuisine_label'])\n",
        "\n",
        "# We have some new stuff we have not categorized\n",
        "incoming_recipes = [\n",
        "    \"spaghetti tomato sauce garlic onion water\",\n",
        "    \"soy sauce ginger sugar butter\",\n",
        "    \"green papaya thai chilies palm sugar\",\n",
        "    \"butter oil salt black pepper water milk bubblegumpie\"\n",
        "]\n",
        "\n",
        "features_for_new_recipes = vectorizer.transform(incoming_recipes)\n",
        "features_for_new_recipes"
      ]
    },
    {
      "cell_type": "code",
      "execution_count": null,
      "metadata": {
        "colab": {
          "base_uri": "https://localhost:8080/"
        },
        "id": "k0ckjirmQA9c",
        "outputId": "c1a1e5cb-4ee6-4136-a9bf-84f7f0584a79"
      },
      "outputs": [
        {
          "output_type": "execute_result",
          "data": {
            "text/plain": [
              "array([ 4, 11,  4, 16])"
            ]
          },
          "metadata": {},
          "execution_count": 205
        }
      ],
      "source": [
        "predictions = clf.predict(features_for_new_recipes)\n",
        "predictions"
      ]
    },
    {
      "cell_type": "code",
      "execution_count": null,
      "metadata": {
        "colab": {
          "base_uri": "https://localhost:8080/"
        },
        "id": "0Ne5aLXQQA9c",
        "outputId": "a50ae948-0161-4571-dd28-3926c991829e"
      },
      "outputs": [
        {
          "output_type": "execute_result",
          "data": {
            "text/plain": [
              "array(['filipino', 'japanese', 'filipino', 'southern_us'], dtype=object)"
            ]
          },
          "metadata": {},
          "execution_count": 206
        }
      ],
      "source": [
        "# The predictions are all categories that the labelencoder decided on\n",
        "# Let's convert those numeric ones back into real fun cuisine words\n",
        "le.inverse_transform(predictions)"
      ]
    }
  ],
  "metadata": {
    "kernelspec": {
      "display_name": "Python 3",
      "language": "python",
      "name": "python3"
    },
    "language_info": {
      "codemirror_mode": {
        "name": "ipython",
        "version": 3
      },
      "file_extension": ".py",
      "mimetype": "text/x-python",
      "name": "python",
      "nbconvert_exporter": "python",
      "pygments_lexer": "ipython3",
      "version": "3.5.2"
    },
    "colab": {
      "name": "NU CCMACLRL - Naive Bayes.ipynb",
      "provenance": []
    }
  },
  "nbformat": 4,
  "nbformat_minor": 0
}