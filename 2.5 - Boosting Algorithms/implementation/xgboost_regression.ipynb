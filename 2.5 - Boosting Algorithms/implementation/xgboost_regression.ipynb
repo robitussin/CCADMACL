{
  "nbformat": 4,
  "nbformat_minor": 0,
  "metadata": {
    "colab": {
      "provenance": [],
      "gpuType": "T4"
    },
    "kernelspec": {
      "name": "python3",
      "display_name": "Python 3"
    },
    "language_info": {
      "name": "python"
    },
    "accelerator": "GPU"
  },
  "cells": [
    {
      "cell_type": "markdown",
      "source": [
        "## XGBoost"
      ],
      "metadata": {
        "id": "wrub3M7vqbLI"
      }
    },
    {
      "cell_type": "code",
      "execution_count": 56,
      "metadata": {
        "colab": {
          "base_uri": "https://localhost:8080/"
        },
        "id": "2a6YvFO9k9Pr",
        "outputId": "989b41de-94b5-49a3-b903-75dcb029cda4"
      },
      "outputs": [
        {
          "output_type": "stream",
          "name": "stdout",
          "text": [
            "Requirement already satisfied: xgboost in /usr/local/lib/python3.10/dist-packages (2.1.2)\n",
            "Requirement already satisfied: numpy in /usr/local/lib/python3.10/dist-packages (from xgboost) (1.26.4)\n",
            "Requirement already satisfied: nvidia-nccl-cu12 in /usr/local/lib/python3.10/dist-packages (from xgboost) (2.23.4)\n",
            "Requirement already satisfied: scipy in /usr/local/lib/python3.10/dist-packages (from xgboost) (1.13.1)\n"
          ]
        }
      ],
      "source": [
        "!pip install --user xgboost"
      ]
    },
    {
      "cell_type": "markdown",
      "source": [
        "## For devices with an nvidia GPU"
      ],
      "metadata": {
        "id": "Lbqgtt-7sgSw"
      }
    },
    {
      "cell_type": "code",
      "source": [
        "# Use NVIDIA GPU\n",
        "# conda install -c conda-forge py-xgboost-gpu"
      ],
      "metadata": {
        "id": "7oNGoJNFsZIe"
      },
      "execution_count": null,
      "outputs": []
    },
    {
      "cell_type": "code",
      "source": [
        "import seaborn as sns\n",
        "import pandas as pd\n",
        "import numpy as np\n",
        "import matplotlib.pyplot as plt\n",
        "import warnings\n",
        "from sklearn.model_selection import train_test_split\n",
        "import xgboost as xgb\n",
        "from sklearn.metrics import root_mean_squared_log_error\n",
        "\n",
        "warnings.filterwarnings(\"ignore\")"
      ],
      "metadata": {
        "id": "I-JPluyBlIl_"
      },
      "execution_count": 57,
      "outputs": []
    },
    {
      "cell_type": "markdown",
      "source": [
        "## Load the Data"
      ],
      "metadata": {
        "id": "zTY8EwhGm-Uz"
      }
    },
    {
      "cell_type": "code",
      "source": [
        "diamonds = sns.load_dataset(\"diamonds\")\n",
        "diamonds.head()"
      ],
      "metadata": {
        "colab": {
          "base_uri": "https://localhost:8080/",
          "height": 204
        },
        "id": "KxFvsJ3Om-uS",
        "outputId": "89b0f1b0-1705-4da1-94e0-a72e505eb254"
      },
      "execution_count": 58,
      "outputs": [
        {
          "output_type": "execute_result",
          "data": {
            "text/plain": [
              "   carat      cut color clarity  depth  table  price     x     y     z\n",
              "0   0.23    Ideal     E     SI2   61.5   55.0    326  3.95  3.98  2.43\n",
              "1   0.21  Premium     E     SI1   59.8   61.0    326  3.89  3.84  2.31\n",
              "2   0.23     Good     E     VS1   56.9   65.0    327  4.05  4.07  2.31\n",
              "3   0.29  Premium     I     VS2   62.4   58.0    334  4.20  4.23  2.63\n",
              "4   0.31     Good     J     SI2   63.3   58.0    335  4.34  4.35  2.75"
            ],
            "text/html": [
              "\n",
              "  <div id=\"df-8c477f04-ec0b-42f4-a8f9-bfcc0c298821\" class=\"colab-df-container\">\n",
              "    <div>\n",
              "<style scoped>\n",
              "    .dataframe tbody tr th:only-of-type {\n",
              "        vertical-align: middle;\n",
              "    }\n",
              "\n",
              "    .dataframe tbody tr th {\n",
              "        vertical-align: top;\n",
              "    }\n",
              "\n",
              "    .dataframe thead th {\n",
              "        text-align: right;\n",
              "    }\n",
              "</style>\n",
              "<table border=\"1\" class=\"dataframe\">\n",
              "  <thead>\n",
              "    <tr style=\"text-align: right;\">\n",
              "      <th></th>\n",
              "      <th>carat</th>\n",
              "      <th>cut</th>\n",
              "      <th>color</th>\n",
              "      <th>clarity</th>\n",
              "      <th>depth</th>\n",
              "      <th>table</th>\n",
              "      <th>price</th>\n",
              "      <th>x</th>\n",
              "      <th>y</th>\n",
              "      <th>z</th>\n",
              "    </tr>\n",
              "  </thead>\n",
              "  <tbody>\n",
              "    <tr>\n",
              "      <th>0</th>\n",
              "      <td>0.23</td>\n",
              "      <td>Ideal</td>\n",
              "      <td>E</td>\n",
              "      <td>SI2</td>\n",
              "      <td>61.5</td>\n",
              "      <td>55.0</td>\n",
              "      <td>326</td>\n",
              "      <td>3.95</td>\n",
              "      <td>3.98</td>\n",
              "      <td>2.43</td>\n",
              "    </tr>\n",
              "    <tr>\n",
              "      <th>1</th>\n",
              "      <td>0.21</td>\n",
              "      <td>Premium</td>\n",
              "      <td>E</td>\n",
              "      <td>SI1</td>\n",
              "      <td>59.8</td>\n",
              "      <td>61.0</td>\n",
              "      <td>326</td>\n",
              "      <td>3.89</td>\n",
              "      <td>3.84</td>\n",
              "      <td>2.31</td>\n",
              "    </tr>\n",
              "    <tr>\n",
              "      <th>2</th>\n",
              "      <td>0.23</td>\n",
              "      <td>Good</td>\n",
              "      <td>E</td>\n",
              "      <td>VS1</td>\n",
              "      <td>56.9</td>\n",
              "      <td>65.0</td>\n",
              "      <td>327</td>\n",
              "      <td>4.05</td>\n",
              "      <td>4.07</td>\n",
              "      <td>2.31</td>\n",
              "    </tr>\n",
              "    <tr>\n",
              "      <th>3</th>\n",
              "      <td>0.29</td>\n",
              "      <td>Premium</td>\n",
              "      <td>I</td>\n",
              "      <td>VS2</td>\n",
              "      <td>62.4</td>\n",
              "      <td>58.0</td>\n",
              "      <td>334</td>\n",
              "      <td>4.20</td>\n",
              "      <td>4.23</td>\n",
              "      <td>2.63</td>\n",
              "    </tr>\n",
              "    <tr>\n",
              "      <th>4</th>\n",
              "      <td>0.31</td>\n",
              "      <td>Good</td>\n",
              "      <td>J</td>\n",
              "      <td>SI2</td>\n",
              "      <td>63.3</td>\n",
              "      <td>58.0</td>\n",
              "      <td>335</td>\n",
              "      <td>4.34</td>\n",
              "      <td>4.35</td>\n",
              "      <td>2.75</td>\n",
              "    </tr>\n",
              "  </tbody>\n",
              "</table>\n",
              "</div>\n",
              "    <div class=\"colab-df-buttons\">\n",
              "\n",
              "  <div class=\"colab-df-container\">\n",
              "    <button class=\"colab-df-convert\" onclick=\"convertToInteractive('df-8c477f04-ec0b-42f4-a8f9-bfcc0c298821')\"\n",
              "            title=\"Convert this dataframe to an interactive table.\"\n",
              "            style=\"display:none;\">\n",
              "\n",
              "  <svg xmlns=\"http://www.w3.org/2000/svg\" height=\"24px\" viewBox=\"0 -960 960 960\">\n",
              "    <path d=\"M120-120v-720h720v720H120Zm60-500h600v-160H180v160Zm220 220h160v-160H400v160Zm0 220h160v-160H400v160ZM180-400h160v-160H180v160Zm440 0h160v-160H620v160ZM180-180h160v-160H180v160Zm440 0h160v-160H620v160Z\"/>\n",
              "  </svg>\n",
              "    </button>\n",
              "\n",
              "  <style>\n",
              "    .colab-df-container {\n",
              "      display:flex;\n",
              "      gap: 12px;\n",
              "    }\n",
              "\n",
              "    .colab-df-convert {\n",
              "      background-color: #E8F0FE;\n",
              "      border: none;\n",
              "      border-radius: 50%;\n",
              "      cursor: pointer;\n",
              "      display: none;\n",
              "      fill: #1967D2;\n",
              "      height: 32px;\n",
              "      padding: 0 0 0 0;\n",
              "      width: 32px;\n",
              "    }\n",
              "\n",
              "    .colab-df-convert:hover {\n",
              "      background-color: #E2EBFA;\n",
              "      box-shadow: 0px 1px 2px rgba(60, 64, 67, 0.3), 0px 1px 3px 1px rgba(60, 64, 67, 0.15);\n",
              "      fill: #174EA6;\n",
              "    }\n",
              "\n",
              "    .colab-df-buttons div {\n",
              "      margin-bottom: 4px;\n",
              "    }\n",
              "\n",
              "    [theme=dark] .colab-df-convert {\n",
              "      background-color: #3B4455;\n",
              "      fill: #D2E3FC;\n",
              "    }\n",
              "\n",
              "    [theme=dark] .colab-df-convert:hover {\n",
              "      background-color: #434B5C;\n",
              "      box-shadow: 0px 1px 3px 1px rgba(0, 0, 0, 0.15);\n",
              "      filter: drop-shadow(0px 1px 2px rgba(0, 0, 0, 0.3));\n",
              "      fill: #FFFFFF;\n",
              "    }\n",
              "  </style>\n",
              "\n",
              "    <script>\n",
              "      const buttonEl =\n",
              "        document.querySelector('#df-8c477f04-ec0b-42f4-a8f9-bfcc0c298821 button.colab-df-convert');\n",
              "      buttonEl.style.display =\n",
              "        google.colab.kernel.accessAllowed ? 'block' : 'none';\n",
              "\n",
              "      async function convertToInteractive(key) {\n",
              "        const element = document.querySelector('#df-8c477f04-ec0b-42f4-a8f9-bfcc0c298821');\n",
              "        const dataTable =\n",
              "          await google.colab.kernel.invokeFunction('convertToInteractive',\n",
              "                                                    [key], {});\n",
              "        if (!dataTable) return;\n",
              "\n",
              "        const docLinkHtml = 'Like what you see? Visit the ' +\n",
              "          '<a target=\"_blank\" href=https://colab.research.google.com/notebooks/data_table.ipynb>data table notebook</a>'\n",
              "          + ' to learn more about interactive tables.';\n",
              "        element.innerHTML = '';\n",
              "        dataTable['output_type'] = 'display_data';\n",
              "        await google.colab.output.renderOutput(dataTable, element);\n",
              "        const docLink = document.createElement('div');\n",
              "        docLink.innerHTML = docLinkHtml;\n",
              "        element.appendChild(docLink);\n",
              "      }\n",
              "    </script>\n",
              "  </div>\n",
              "\n",
              "\n",
              "<div id=\"df-8ff8994b-ae23-4271-86cd-c93f4ad65f89\">\n",
              "  <button class=\"colab-df-quickchart\" onclick=\"quickchart('df-8ff8994b-ae23-4271-86cd-c93f4ad65f89')\"\n",
              "            title=\"Suggest charts\"\n",
              "            style=\"display:none;\">\n",
              "\n",
              "<svg xmlns=\"http://www.w3.org/2000/svg\" height=\"24px\"viewBox=\"0 0 24 24\"\n",
              "     width=\"24px\">\n",
              "    <g>\n",
              "        <path d=\"M19 3H5c-1.1 0-2 .9-2 2v14c0 1.1.9 2 2 2h14c1.1 0 2-.9 2-2V5c0-1.1-.9-2-2-2zM9 17H7v-7h2v7zm4 0h-2V7h2v10zm4 0h-2v-4h2v4z\"/>\n",
              "    </g>\n",
              "</svg>\n",
              "  </button>\n",
              "\n",
              "<style>\n",
              "  .colab-df-quickchart {\n",
              "      --bg-color: #E8F0FE;\n",
              "      --fill-color: #1967D2;\n",
              "      --hover-bg-color: #E2EBFA;\n",
              "      --hover-fill-color: #174EA6;\n",
              "      --disabled-fill-color: #AAA;\n",
              "      --disabled-bg-color: #DDD;\n",
              "  }\n",
              "\n",
              "  [theme=dark] .colab-df-quickchart {\n",
              "      --bg-color: #3B4455;\n",
              "      --fill-color: #D2E3FC;\n",
              "      --hover-bg-color: #434B5C;\n",
              "      --hover-fill-color: #FFFFFF;\n",
              "      --disabled-bg-color: #3B4455;\n",
              "      --disabled-fill-color: #666;\n",
              "  }\n",
              "\n",
              "  .colab-df-quickchart {\n",
              "    background-color: var(--bg-color);\n",
              "    border: none;\n",
              "    border-radius: 50%;\n",
              "    cursor: pointer;\n",
              "    display: none;\n",
              "    fill: var(--fill-color);\n",
              "    height: 32px;\n",
              "    padding: 0;\n",
              "    width: 32px;\n",
              "  }\n",
              "\n",
              "  .colab-df-quickchart:hover {\n",
              "    background-color: var(--hover-bg-color);\n",
              "    box-shadow: 0 1px 2px rgba(60, 64, 67, 0.3), 0 1px 3px 1px rgba(60, 64, 67, 0.15);\n",
              "    fill: var(--button-hover-fill-color);\n",
              "  }\n",
              "\n",
              "  .colab-df-quickchart-complete:disabled,\n",
              "  .colab-df-quickchart-complete:disabled:hover {\n",
              "    background-color: var(--disabled-bg-color);\n",
              "    fill: var(--disabled-fill-color);\n",
              "    box-shadow: none;\n",
              "  }\n",
              "\n",
              "  .colab-df-spinner {\n",
              "    border: 2px solid var(--fill-color);\n",
              "    border-color: transparent;\n",
              "    border-bottom-color: var(--fill-color);\n",
              "    animation:\n",
              "      spin 1s steps(1) infinite;\n",
              "  }\n",
              "\n",
              "  @keyframes spin {\n",
              "    0% {\n",
              "      border-color: transparent;\n",
              "      border-bottom-color: var(--fill-color);\n",
              "      border-left-color: var(--fill-color);\n",
              "    }\n",
              "    20% {\n",
              "      border-color: transparent;\n",
              "      border-left-color: var(--fill-color);\n",
              "      border-top-color: var(--fill-color);\n",
              "    }\n",
              "    30% {\n",
              "      border-color: transparent;\n",
              "      border-left-color: var(--fill-color);\n",
              "      border-top-color: var(--fill-color);\n",
              "      border-right-color: var(--fill-color);\n",
              "    }\n",
              "    40% {\n",
              "      border-color: transparent;\n",
              "      border-right-color: var(--fill-color);\n",
              "      border-top-color: var(--fill-color);\n",
              "    }\n",
              "    60% {\n",
              "      border-color: transparent;\n",
              "      border-right-color: var(--fill-color);\n",
              "    }\n",
              "    80% {\n",
              "      border-color: transparent;\n",
              "      border-right-color: var(--fill-color);\n",
              "      border-bottom-color: var(--fill-color);\n",
              "    }\n",
              "    90% {\n",
              "      border-color: transparent;\n",
              "      border-bottom-color: var(--fill-color);\n",
              "    }\n",
              "  }\n",
              "</style>\n",
              "\n",
              "  <script>\n",
              "    async function quickchart(key) {\n",
              "      const quickchartButtonEl =\n",
              "        document.querySelector('#' + key + ' button');\n",
              "      quickchartButtonEl.disabled = true;  // To prevent multiple clicks.\n",
              "      quickchartButtonEl.classList.add('colab-df-spinner');\n",
              "      try {\n",
              "        const charts = await google.colab.kernel.invokeFunction(\n",
              "            'suggestCharts', [key], {});\n",
              "      } catch (error) {\n",
              "        console.error('Error during call to suggestCharts:', error);\n",
              "      }\n",
              "      quickchartButtonEl.classList.remove('colab-df-spinner');\n",
              "      quickchartButtonEl.classList.add('colab-df-quickchart-complete');\n",
              "    }\n",
              "    (() => {\n",
              "      let quickchartButtonEl =\n",
              "        document.querySelector('#df-8ff8994b-ae23-4271-86cd-c93f4ad65f89 button');\n",
              "      quickchartButtonEl.style.display =\n",
              "        google.colab.kernel.accessAllowed ? 'block' : 'none';\n",
              "    })();\n",
              "  </script>\n",
              "</div>\n",
              "\n",
              "    </div>\n",
              "  </div>\n"
            ],
            "application/vnd.google.colaboratory.intrinsic+json": {
              "type": "dataframe",
              "variable_name": "diamonds",
              "summary": "{\n  \"name\": \"diamonds\",\n  \"rows\": 53940,\n  \"fields\": [\n    {\n      \"column\": \"carat\",\n      \"properties\": {\n        \"dtype\": \"number\",\n        \"std\": 0.47401124440538067,\n        \"min\": 0.2,\n        \"max\": 5.01,\n        \"num_unique_values\": 273,\n        \"samples\": [\n          0.77,\n          1.58,\n          0.65\n        ],\n        \"semantic_type\": \"\",\n        \"description\": \"\"\n      }\n    },\n    {\n      \"column\": \"cut\",\n      \"properties\": {\n        \"dtype\": \"category\",\n        \"num_unique_values\": 5,\n        \"samples\": [\n          \"Premium\",\n          \"Fair\",\n          \"Good\"\n        ],\n        \"semantic_type\": \"\",\n        \"description\": \"\"\n      }\n    },\n    {\n      \"column\": \"color\",\n      \"properties\": {\n        \"dtype\": \"category\",\n        \"num_unique_values\": 7,\n        \"samples\": [\n          \"E\",\n          \"I\",\n          \"G\"\n        ],\n        \"semantic_type\": \"\",\n        \"description\": \"\"\n      }\n    },\n    {\n      \"column\": \"clarity\",\n      \"properties\": {\n        \"dtype\": \"category\",\n        \"num_unique_values\": 8,\n        \"samples\": [\n          \"SI1\",\n          \"VVS1\",\n          \"SI2\"\n        ],\n        \"semantic_type\": \"\",\n        \"description\": \"\"\n      }\n    },\n    {\n      \"column\": \"depth\",\n      \"properties\": {\n        \"dtype\": \"number\",\n        \"std\": 1.4326213188337733,\n        \"min\": 43.0,\n        \"max\": 79.0,\n        \"num_unique_values\": 184,\n        \"samples\": [\n          61.0,\n          62.9,\n          70.2\n        ],\n        \"semantic_type\": \"\",\n        \"description\": \"\"\n      }\n    },\n    {\n      \"column\": \"table\",\n      \"properties\": {\n        \"dtype\": \"number\",\n        \"std\": 2.234490562820938,\n        \"min\": 43.0,\n        \"max\": 95.0,\n        \"num_unique_values\": 127,\n        \"samples\": [\n          54.8,\n          61.5,\n          57.6\n        ],\n        \"semantic_type\": \"\",\n        \"description\": \"\"\n      }\n    },\n    {\n      \"column\": \"price\",\n      \"properties\": {\n        \"dtype\": \"number\",\n        \"std\": 3989,\n        \"min\": 326,\n        \"max\": 18823,\n        \"num_unique_values\": 11602,\n        \"samples\": [\n          16368,\n          895,\n          748\n        ],\n        \"semantic_type\": \"\",\n        \"description\": \"\"\n      }\n    },\n    {\n      \"column\": \"x\",\n      \"properties\": {\n        \"dtype\": \"number\",\n        \"std\": 1.1217607467924422,\n        \"min\": 0.0,\n        \"max\": 10.74,\n        \"num_unique_values\": 554,\n        \"samples\": [\n          5.88,\n          5.69,\n          4.61\n        ],\n        \"semantic_type\": \"\",\n        \"description\": \"\"\n      }\n    },\n    {\n      \"column\": \"y\",\n      \"properties\": {\n        \"dtype\": \"number\",\n        \"std\": 1.1421346741235396,\n        \"min\": 0.0,\n        \"max\": 58.9,\n        \"num_unique_values\": 552,\n        \"samples\": [\n          5.33,\n          5.61,\n          5.25\n        ],\n        \"semantic_type\": \"\",\n        \"description\": \"\"\n      }\n    },\n    {\n      \"column\": \"z\",\n      \"properties\": {\n        \"dtype\": \"number\",\n        \"std\": 0.7056988469499964,\n        \"min\": 0.0,\n        \"max\": 31.8,\n        \"num_unique_values\": 375,\n        \"samples\": [\n          3.36,\n          2.45,\n          2.7\n        ],\n        \"semantic_type\": \"\",\n        \"description\": \"\"\n      }\n    }\n  ]\n}"
            }
          },
          "metadata": {},
          "execution_count": 58
        }
      ]
    },
    {
      "cell_type": "code",
      "source": [
        "# Extract feature and target arrays\n",
        "X, y = diamonds.drop('price', axis=1), diamonds[['price']]"
      ],
      "metadata": {
        "id": "iM2a67-flMLB"
      },
      "execution_count": 59,
      "outputs": []
    },
    {
      "cell_type": "markdown",
      "source": [
        "## Data preprocessing"
      ],
      "metadata": {
        "id": "OwbWjT9tnPTS"
      }
    },
    {
      "cell_type": "code",
      "source": [
        "# Extract text features\n",
        "cats = X.select_dtypes(exclude=np.number).columns.tolist()\n",
        "\n",
        "# Convert to Pandas category\n",
        "for col in cats:\n",
        "   X[col] = X[col].astype('category')"
      ],
      "metadata": {
        "id": "HS0U8922lWhH"
      },
      "execution_count": 60,
      "outputs": []
    },
    {
      "cell_type": "markdown",
      "source": [
        "## Split the Data"
      ],
      "metadata": {
        "id": "G-tFefgbnRYp"
      }
    },
    {
      "cell_type": "code",
      "source": [
        "# Split the data\n",
        "X_train, X_test, y_train, y_test = train_test_split(X, y, random_state=1)"
      ],
      "metadata": {
        "id": "uJk5sXwolYad"
      },
      "execution_count": 61,
      "outputs": []
    },
    {
      "cell_type": "code",
      "source": [
        "# Create regression matrices\n",
        "dtrain_reg = xgb.DMatrix(X_train, y_train, enable_categorical=True)\n",
        "dtest_reg = xgb.DMatrix(X_test, y_test, enable_categorical=True)"
      ],
      "metadata": {
        "id": "FrMxGJHxlgCd"
      },
      "execution_count": 62,
      "outputs": []
    },
    {
      "cell_type": "markdown",
      "source": [
        "# Define hyperparameters\n"
      ],
      "metadata": {
        "id": "e2JU1QLRnWHR"
      }
    },
    {
      "cell_type": "code",
      "source": [
        "params = {\"objective\": \"reg:squarederror\", \"tree_method\": \"gpu_hist\"}"
      ],
      "metadata": {
        "id": "vIaL9dCdnWZW"
      },
      "execution_count": 63,
      "outputs": []
    },
    {
      "cell_type": "markdown",
      "source": [
        "## Train the Regression Model"
      ],
      "metadata": {
        "id": "grr-afs7neDS"
      }
    },
    {
      "cell_type": "code",
      "source": [
        "n = 100\n",
        "model = xgb.train(\n",
        "   params=params,\n",
        "   dtrain=dtrain_reg,\n",
        "   num_boost_round=n,\n",
        ")"
      ],
      "metadata": {
        "id": "CiIBCcmJlkgz"
      },
      "execution_count": 64,
      "outputs": []
    },
    {
      "cell_type": "code",
      "source": [
        "preds = model.predict(dtest_reg)"
      ],
      "metadata": {
        "id": "ks948Bj9lomX"
      },
      "execution_count": 65,
      "outputs": []
    },
    {
      "cell_type": "markdown",
      "source": [
        "## Evaluate the model"
      ],
      "metadata": {
        "id": "RTymw1pPngZL"
      }
    },
    {
      "cell_type": "code",
      "source": [
        "rmse = root_mean_squared_log_error(y_test, preds)\n",
        "\n",
        "print(f\"RMSLE of the base model: {rmse:.3f}\")"
      ],
      "metadata": {
        "colab": {
          "base_uri": "https://localhost:8080/"
        },
        "id": "FTP6zcLflre4",
        "outputId": "d9b98fe8-7af8-4c25-f721-b9727b0e3836"
      },
      "execution_count": 66,
      "outputs": [
        {
          "output_type": "stream",
          "name": "stdout",
          "text": [
            "RMSLE of the base model: 0.094\n"
          ]
        }
      ]
    },
    {
      "cell_type": "code",
      "source": [
        "params = {\"objective\": \"reg:squarederror\", \"tree_method\": \"gpu_hist\"}\n",
        "n = 100"
      ],
      "metadata": {
        "id": "etcAvU0Alvd3"
      },
      "execution_count": 67,
      "outputs": []
    },
    {
      "cell_type": "code",
      "source": [
        "evals = [(dtrain_reg, \"train\"), (dtest_reg, \"validation\")]\n",
        "\n",
        "model = xgb.train(\n",
        "   params=params,\n",
        "   dtrain=dtrain_reg,\n",
        "   num_boost_round=n,\n",
        "   evals=evals,\n",
        ")"
      ],
      "metadata": {
        "colab": {
          "base_uri": "https://localhost:8080/"
        },
        "id": "WbE_dcNglzp1",
        "outputId": "825682c7-7410-4ae8-c177-5df74aee6eff"
      },
      "execution_count": 68,
      "outputs": [
        {
          "output_type": "stream",
          "name": "stdout",
          "text": [
            "[0]\ttrain-rmse:2874.29379\tvalidation-rmse:2817.38773\n",
            "[1]\ttrain-rmse:2092.07711\tvalidation-rmse:2054.73630\n",
            "[2]\ttrain-rmse:1549.52687\tvalidation-rmse:1526.30592\n",
            "[3]\ttrain-rmse:1184.46798\tvalidation-rmse:1174.90119\n",
            "[4]\ttrain-rmse:941.09127\tvalidation-rmse:943.28272\n",
            "[5]\ttrain-rmse:784.58014\tvalidation-rmse:796.09651\n",
            "[6]\ttrain-rmse:685.75110\tvalidation-rmse:705.22245\n",
            "[7]\ttrain-rmse:624.67281\tvalidation-rmse:653.32563\n",
            "[8]\ttrain-rmse:584.19599\tvalidation-rmse:620.30404\n",
            "[9]\ttrain-rmse:558.77667\tvalidation-rmse:599.24504\n",
            "[10]\ttrain-rmse:543.85303\tvalidation-rmse:586.99790\n",
            "[11]\ttrain-rmse:531.92694\tvalidation-rmse:578.68120\n",
            "[12]\ttrain-rmse:523.08456\tvalidation-rmse:571.73527\n",
            "[13]\ttrain-rmse:515.67753\tvalidation-rmse:567.19913\n",
            "[14]\ttrain-rmse:510.77594\tvalidation-rmse:564.66402\n",
            "[15]\ttrain-rmse:506.68519\tvalidation-rmse:563.21547\n",
            "[16]\ttrain-rmse:502.96796\tvalidation-rmse:561.80880\n",
            "[17]\ttrain-rmse:498.90184\tvalidation-rmse:560.36561\n",
            "[18]\ttrain-rmse:492.74859\tvalidation-rmse:558.46274\n",
            "[19]\ttrain-rmse:490.30278\tvalidation-rmse:556.87216\n",
            "[20]\ttrain-rmse:487.42071\tvalidation-rmse:556.44229\n",
            "[21]\ttrain-rmse:484.74496\tvalidation-rmse:556.55429\n",
            "[22]\ttrain-rmse:480.95735\tvalidation-rmse:557.84139\n",
            "[23]\ttrain-rmse:478.48520\tvalidation-rmse:557.89540\n",
            "[24]\ttrain-rmse:475.23956\tvalidation-rmse:557.37962\n",
            "[25]\ttrain-rmse:471.61791\tvalidation-rmse:556.87508\n",
            "[26]\ttrain-rmse:469.65231\tvalidation-rmse:556.70128\n",
            "[27]\ttrain-rmse:466.45165\tvalidation-rmse:555.73740\n",
            "[28]\ttrain-rmse:464.66200\tvalidation-rmse:555.11206\n",
            "[29]\ttrain-rmse:463.36324\tvalidation-rmse:555.09142\n",
            "[30]\ttrain-rmse:460.86396\tvalidation-rmse:554.68339\n",
            "[31]\ttrain-rmse:459.68274\tvalidation-rmse:554.79977\n",
            "[32]\ttrain-rmse:457.48581\tvalidation-rmse:554.57599\n",
            "[33]\ttrain-rmse:455.07939\tvalidation-rmse:555.65575\n",
            "[34]\ttrain-rmse:454.03028\tvalidation-rmse:555.26394\n",
            "[35]\ttrain-rmse:452.35989\tvalidation-rmse:554.62246\n",
            "[36]\ttrain-rmse:449.38579\tvalidation-rmse:553.35840\n",
            "[37]\ttrain-rmse:448.64842\tvalidation-rmse:553.45248\n",
            "[38]\ttrain-rmse:448.47633\tvalidation-rmse:553.35233\n",
            "[39]\ttrain-rmse:445.58979\tvalidation-rmse:553.05158\n",
            "[40]\ttrain-rmse:444.03762\tvalidation-rmse:552.62130\n",
            "[41]\ttrain-rmse:442.01167\tvalidation-rmse:552.97558\n",
            "[42]\ttrain-rmse:441.35357\tvalidation-rmse:553.23244\n",
            "[43]\ttrain-rmse:440.74163\tvalidation-rmse:553.14153\n",
            "[44]\ttrain-rmse:440.60815\tvalidation-rmse:553.05782\n",
            "[45]\ttrain-rmse:439.48758\tvalidation-rmse:553.30981\n",
            "[46]\ttrain-rmse:438.70697\tvalidation-rmse:553.22313\n",
            "[47]\ttrain-rmse:435.38239\tvalidation-rmse:553.74845\n",
            "[48]\ttrain-rmse:434.17988\tvalidation-rmse:553.24786\n",
            "[49]\ttrain-rmse:432.53983\tvalidation-rmse:553.43480\n",
            "[50]\ttrain-rmse:430.07110\tvalidation-rmse:553.50718\n",
            "[51]\ttrain-rmse:429.02843\tvalidation-rmse:553.68181\n",
            "[52]\ttrain-rmse:428.82789\tvalidation-rmse:553.55179\n",
            "[53]\ttrain-rmse:426.65097\tvalidation-rmse:554.33720\n",
            "[54]\ttrain-rmse:425.35817\tvalidation-rmse:555.00412\n",
            "[55]\ttrain-rmse:424.43950\tvalidation-rmse:555.04530\n",
            "[56]\ttrain-rmse:423.98886\tvalidation-rmse:555.23862\n",
            "[57]\ttrain-rmse:423.37385\tvalidation-rmse:555.01524\n",
            "[58]\ttrain-rmse:422.89152\tvalidation-rmse:554.73559\n",
            "[59]\ttrain-rmse:420.17877\tvalidation-rmse:555.28689\n",
            "[60]\ttrain-rmse:418.57995\tvalidation-rmse:555.44368\n",
            "[61]\ttrain-rmse:416.15098\tvalidation-rmse:556.22395\n",
            "[62]\ttrain-rmse:415.20122\tvalidation-rmse:556.03493\n",
            "[63]\ttrain-rmse:413.94128\tvalidation-rmse:555.89869\n",
            "[64]\ttrain-rmse:412.14760\tvalidation-rmse:555.56320\n",
            "[65]\ttrain-rmse:412.07284\tvalidation-rmse:555.51809\n",
            "[66]\ttrain-rmse:411.12288\tvalidation-rmse:556.53856\n",
            "[67]\ttrain-rmse:409.86233\tvalidation-rmse:556.02134\n",
            "[68]\ttrain-rmse:408.98845\tvalidation-rmse:555.64995\n",
            "[69]\ttrain-rmse:407.60369\tvalidation-rmse:555.40507\n",
            "[70]\ttrain-rmse:406.77489\tvalidation-rmse:555.06703\n",
            "[71]\ttrain-rmse:405.55576\tvalidation-rmse:554.85987\n",
            "[72]\ttrain-rmse:404.01644\tvalidation-rmse:554.78435\n",
            "[73]\ttrain-rmse:402.82464\tvalidation-rmse:554.70160\n",
            "[74]\ttrain-rmse:401.31075\tvalidation-rmse:554.40804\n",
            "[75]\ttrain-rmse:399.88578\tvalidation-rmse:554.56453\n",
            "[76]\ttrain-rmse:399.46555\tvalidation-rmse:554.83544\n",
            "[77]\ttrain-rmse:398.97065\tvalidation-rmse:554.83387\n",
            "[78]\ttrain-rmse:398.50360\tvalidation-rmse:554.66181\n",
            "[79]\ttrain-rmse:396.24144\tvalidation-rmse:555.31061\n",
            "[80]\ttrain-rmse:394.18070\tvalidation-rmse:555.00800\n",
            "[81]\ttrain-rmse:392.71336\tvalidation-rmse:555.25449\n",
            "[82]\ttrain-rmse:392.14361\tvalidation-rmse:555.18259\n",
            "[83]\ttrain-rmse:390.73064\tvalidation-rmse:555.24386\n",
            "[84]\ttrain-rmse:390.32572\tvalidation-rmse:555.02768\n",
            "[85]\ttrain-rmse:388.65251\tvalidation-rmse:555.33841\n",
            "[86]\ttrain-rmse:387.44200\tvalidation-rmse:555.24404\n",
            "[87]\ttrain-rmse:386.96057\tvalidation-rmse:555.09808\n",
            "[88]\ttrain-rmse:385.78554\tvalidation-rmse:554.95239\n",
            "[89]\ttrain-rmse:384.05170\tvalidation-rmse:555.95636\n",
            "[90]\ttrain-rmse:382.65353\tvalidation-rmse:555.74725\n",
            "[91]\ttrain-rmse:381.97534\tvalidation-rmse:555.69323\n",
            "[92]\ttrain-rmse:380.47646\tvalidation-rmse:555.26134\n",
            "[93]\ttrain-rmse:379.11827\tvalidation-rmse:554.93934\n",
            "[94]\ttrain-rmse:377.82598\tvalidation-rmse:555.07593\n",
            "[95]\ttrain-rmse:376.66849\tvalidation-rmse:555.53397\n",
            "[96]\ttrain-rmse:374.97521\tvalidation-rmse:555.60914\n",
            "[97]\ttrain-rmse:374.61227\tvalidation-rmse:555.61898\n",
            "[98]\ttrain-rmse:373.84881\tvalidation-rmse:555.65889\n",
            "[99]\ttrain-rmse:373.74308\tvalidation-rmse:555.60692\n"
          ]
        }
      ]
    },
    {
      "cell_type": "markdown",
      "source": [
        "## Cross Validation"
      ],
      "metadata": {
        "id": "Cj6kgFPMqmKr"
      }
    },
    {
      "cell_type": "code",
      "source": [
        "params = {\"objective\": \"reg:squarederror\", \"tree_method\": \"gpu_hist\"}\n",
        "n = 1000\n",
        "\n",
        "results = xgb.cv(\n",
        "   params, dtrain_reg,\n",
        "   num_boost_round=n,\n",
        "   nfold=5,\n",
        "   early_stopping_rounds=20\n",
        ")"
      ],
      "metadata": {
        "id": "--JJwWdql-C7"
      },
      "execution_count": 69,
      "outputs": []
    },
    {
      "cell_type": "code",
      "source": [
        "results.keys()"
      ],
      "metadata": {
        "colab": {
          "base_uri": "https://localhost:8080/"
        },
        "id": "L8VTsw9qoCuF",
        "outputId": "4ffde414-268e-4405-d59f-9db5c3ef8678"
      },
      "execution_count": 70,
      "outputs": [
        {
          "output_type": "execute_result",
          "data": {
            "text/plain": [
              "Index(['train-rmse-mean', 'train-rmse-std', 'test-rmse-mean', 'test-rmse-std'], dtype='object')"
            ]
          },
          "metadata": {},
          "execution_count": 70
        }
      ]
    },
    {
      "cell_type": "code",
      "source": [
        "results['test-rmse-mean'].max()"
      ],
      "metadata": {
        "colab": {
          "base_uri": "https://localhost:8080/"
        },
        "id": "kTnjDD9ZoMHG",
        "outputId": "f91e1a28-6b93-4e13-e237-7710f1fe15db"
      },
      "execution_count": 71,
      "outputs": [
        {
          "output_type": "execute_result",
          "data": {
            "text/plain": [
              "2877.437273731796"
            ]
          },
          "metadata": {},
          "execution_count": 71
        }
      ]
    }
  ]
}