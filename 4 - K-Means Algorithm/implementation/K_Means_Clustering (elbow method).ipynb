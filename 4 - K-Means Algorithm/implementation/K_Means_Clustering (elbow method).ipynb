{
  "nbformat": 4,
  "nbformat_minor": 0,
  "metadata": {
    "colab": {
      "name": "06 K Means Clustering.ipynb",
      "provenance": []
    },
    "kernelspec": {
      "name": "python3",
      "display_name": "Python 3"
    }
  },
  "cells": [
    {
      "cell_type": "markdown",
      "source": [
        "# K-Means Clustering\n"
      ],
      "metadata": {
        "id": "C0VKfP6rtq5a"
      }
    },
    {
      "cell_type": "markdown",
      "metadata": {
        "id": "MQtVEcs2DsSI"
      },
      "source": [
        "\n",
        "- K Means allows us to define the required number of clusters\n",
        "- we first start by taking an arbitrary number of k. Let’s say we take k=3 (k is choosen from **elbow method**)\n",
        "- Algorithm chooses three random points as the centroid\n",
        "- It also computes Euclidean distances from the centroid to all other data points\n",
        "- The algorithm after measuring the distances of all the data points from the centroid associates each data point with a centroid based on its proximity\n",
        "- To measure how good the three clusters are seperated, we use **Silhouette Score**"
      ]
    },
    {
      "cell_type": "code",
      "metadata": {
        "id": "qcrOZvxZDrFS"
      },
      "source": [
        "# Importing Libraries\n",
        "\n",
        "from sklearn import datasets,metrics\n",
        "import matplotlib.pyplot as plt\n",
        "from sklearn.cluster import KMeans\n",
        "from sklearn.datasets import load_iris\n",
        "import numpy as np\n",
        "from sklearn.metrics import silhouette_score\n",
        "import pandas as pd\n",
        "from scipy.spatial import distance # To calculate distances\n",
        "from google.colab import files\n",
        "from IPython.display import Image\n"
      ],
      "execution_count": 58,
      "outputs": []
    },
    {
      "cell_type": "code",
      "metadata": {
        "id": "IgadKpnrSlNM",
        "colab": {
          "base_uri": "https://localhost:8080/",
          "height": 206
        },
        "outputId": "7dee18ed-f1e5-453e-ed0f-e8c1520acd70"
      },
      "source": [
        "# Lets Take another Dataset : IRIS Dataset\n",
        "# Loading the Dataset\n",
        "\n",
        "iris = datasets.load_iris()\n",
        "iris_data = pd.DataFrame(iris.data)\n",
        "iris_data.columns = iris.feature_names\n",
        "iris_data['Type']=iris.target\n",
        "iris_data.head()"
      ],
      "execution_count": 59,
      "outputs": [
        {
          "output_type": "execute_result",
          "data": {
            "text/plain": [
              "   sepal length (cm)  sepal width (cm)  petal length (cm)  petal width (cm)  \\\n",
              "0                5.1               3.5                1.4               0.2   \n",
              "1                4.9               3.0                1.4               0.2   \n",
              "2                4.7               3.2                1.3               0.2   \n",
              "3                4.6               3.1                1.5               0.2   \n",
              "4                5.0               3.6                1.4               0.2   \n",
              "\n",
              "   Type  \n",
              "0     0  \n",
              "1     0  \n",
              "2     0  \n",
              "3     0  \n",
              "4     0  "
            ],
            "text/html": [
              "\n",
              "  <div id=\"df-d5012f43-836d-477c-a457-2676e5cfe43b\" class=\"colab-df-container\">\n",
              "    <div>\n",
              "<style scoped>\n",
              "    .dataframe tbody tr th:only-of-type {\n",
              "        vertical-align: middle;\n",
              "    }\n",
              "\n",
              "    .dataframe tbody tr th {\n",
              "        vertical-align: top;\n",
              "    }\n",
              "\n",
              "    .dataframe thead th {\n",
              "        text-align: right;\n",
              "    }\n",
              "</style>\n",
              "<table border=\"1\" class=\"dataframe\">\n",
              "  <thead>\n",
              "    <tr style=\"text-align: right;\">\n",
              "      <th></th>\n",
              "      <th>sepal length (cm)</th>\n",
              "      <th>sepal width (cm)</th>\n",
              "      <th>petal length (cm)</th>\n",
              "      <th>petal width (cm)</th>\n",
              "      <th>Type</th>\n",
              "    </tr>\n",
              "  </thead>\n",
              "  <tbody>\n",
              "    <tr>\n",
              "      <th>0</th>\n",
              "      <td>5.1</td>\n",
              "      <td>3.5</td>\n",
              "      <td>1.4</td>\n",
              "      <td>0.2</td>\n",
              "      <td>0</td>\n",
              "    </tr>\n",
              "    <tr>\n",
              "      <th>1</th>\n",
              "      <td>4.9</td>\n",
              "      <td>3.0</td>\n",
              "      <td>1.4</td>\n",
              "      <td>0.2</td>\n",
              "      <td>0</td>\n",
              "    </tr>\n",
              "    <tr>\n",
              "      <th>2</th>\n",
              "      <td>4.7</td>\n",
              "      <td>3.2</td>\n",
              "      <td>1.3</td>\n",
              "      <td>0.2</td>\n",
              "      <td>0</td>\n",
              "    </tr>\n",
              "    <tr>\n",
              "      <th>3</th>\n",
              "      <td>4.6</td>\n",
              "      <td>3.1</td>\n",
              "      <td>1.5</td>\n",
              "      <td>0.2</td>\n",
              "      <td>0</td>\n",
              "    </tr>\n",
              "    <tr>\n",
              "      <th>4</th>\n",
              "      <td>5.0</td>\n",
              "      <td>3.6</td>\n",
              "      <td>1.4</td>\n",
              "      <td>0.2</td>\n",
              "      <td>0</td>\n",
              "    </tr>\n",
              "  </tbody>\n",
              "</table>\n",
              "</div>\n",
              "    <div class=\"colab-df-buttons\">\n",
              "\n",
              "  <div class=\"colab-df-container\">\n",
              "    <button class=\"colab-df-convert\" onclick=\"convertToInteractive('df-d5012f43-836d-477c-a457-2676e5cfe43b')\"\n",
              "            title=\"Convert this dataframe to an interactive table.\"\n",
              "            style=\"display:none;\">\n",
              "\n",
              "  <svg xmlns=\"http://www.w3.org/2000/svg\" height=\"24px\" viewBox=\"0 -960 960 960\">\n",
              "    <path d=\"M120-120v-720h720v720H120Zm60-500h600v-160H180v160Zm220 220h160v-160H400v160Zm0 220h160v-160H400v160ZM180-400h160v-160H180v160Zm440 0h160v-160H620v160ZM180-180h160v-160H180v160Zm440 0h160v-160H620v160Z\"/>\n",
              "  </svg>\n",
              "    </button>\n",
              "\n",
              "  <style>\n",
              "    .colab-df-container {\n",
              "      display:flex;\n",
              "      gap: 12px;\n",
              "    }\n",
              "\n",
              "    .colab-df-convert {\n",
              "      background-color: #E8F0FE;\n",
              "      border: none;\n",
              "      border-radius: 50%;\n",
              "      cursor: pointer;\n",
              "      display: none;\n",
              "      fill: #1967D2;\n",
              "      height: 32px;\n",
              "      padding: 0 0 0 0;\n",
              "      width: 32px;\n",
              "    }\n",
              "\n",
              "    .colab-df-convert:hover {\n",
              "      background-color: #E2EBFA;\n",
              "      box-shadow: 0px 1px 2px rgba(60, 64, 67, 0.3), 0px 1px 3px 1px rgba(60, 64, 67, 0.15);\n",
              "      fill: #174EA6;\n",
              "    }\n",
              "\n",
              "    .colab-df-buttons div {\n",
              "      margin-bottom: 4px;\n",
              "    }\n",
              "\n",
              "    [theme=dark] .colab-df-convert {\n",
              "      background-color: #3B4455;\n",
              "      fill: #D2E3FC;\n",
              "    }\n",
              "\n",
              "    [theme=dark] .colab-df-convert:hover {\n",
              "      background-color: #434B5C;\n",
              "      box-shadow: 0px 1px 3px 1px rgba(0, 0, 0, 0.15);\n",
              "      filter: drop-shadow(0px 1px 2px rgba(0, 0, 0, 0.3));\n",
              "      fill: #FFFFFF;\n",
              "    }\n",
              "  </style>\n",
              "\n",
              "    <script>\n",
              "      const buttonEl =\n",
              "        document.querySelector('#df-d5012f43-836d-477c-a457-2676e5cfe43b button.colab-df-convert');\n",
              "      buttonEl.style.display =\n",
              "        google.colab.kernel.accessAllowed ? 'block' : 'none';\n",
              "\n",
              "      async function convertToInteractive(key) {\n",
              "        const element = document.querySelector('#df-d5012f43-836d-477c-a457-2676e5cfe43b');\n",
              "        const dataTable =\n",
              "          await google.colab.kernel.invokeFunction('convertToInteractive',\n",
              "                                                    [key], {});\n",
              "        if (!dataTable) return;\n",
              "\n",
              "        const docLinkHtml = 'Like what you see? Visit the ' +\n",
              "          '<a target=\"_blank\" href=https://colab.research.google.com/notebooks/data_table.ipynb>data table notebook</a>'\n",
              "          + ' to learn more about interactive tables.';\n",
              "        element.innerHTML = '';\n",
              "        dataTable['output_type'] = 'display_data';\n",
              "        await google.colab.output.renderOutput(dataTable, element);\n",
              "        const docLink = document.createElement('div');\n",
              "        docLink.innerHTML = docLinkHtml;\n",
              "        element.appendChild(docLink);\n",
              "      }\n",
              "    </script>\n",
              "  </div>\n",
              "\n",
              "\n",
              "<div id=\"df-aa65d774-ecc8-4e0f-9a00-766e74f8ac50\">\n",
              "  <button class=\"colab-df-quickchart\" onclick=\"quickchart('df-aa65d774-ecc8-4e0f-9a00-766e74f8ac50')\"\n",
              "            title=\"Suggest charts\"\n",
              "            style=\"display:none;\">\n",
              "\n",
              "<svg xmlns=\"http://www.w3.org/2000/svg\" height=\"24px\"viewBox=\"0 0 24 24\"\n",
              "     width=\"24px\">\n",
              "    <g>\n",
              "        <path d=\"M19 3H5c-1.1 0-2 .9-2 2v14c0 1.1.9 2 2 2h14c1.1 0 2-.9 2-2V5c0-1.1-.9-2-2-2zM9 17H7v-7h2v7zm4 0h-2V7h2v10zm4 0h-2v-4h2v4z\"/>\n",
              "    </g>\n",
              "</svg>\n",
              "  </button>\n",
              "\n",
              "<style>\n",
              "  .colab-df-quickchart {\n",
              "      --bg-color: #E8F0FE;\n",
              "      --fill-color: #1967D2;\n",
              "      --hover-bg-color: #E2EBFA;\n",
              "      --hover-fill-color: #174EA6;\n",
              "      --disabled-fill-color: #AAA;\n",
              "      --disabled-bg-color: #DDD;\n",
              "  }\n",
              "\n",
              "  [theme=dark] .colab-df-quickchart {\n",
              "      --bg-color: #3B4455;\n",
              "      --fill-color: #D2E3FC;\n",
              "      --hover-bg-color: #434B5C;\n",
              "      --hover-fill-color: #FFFFFF;\n",
              "      --disabled-bg-color: #3B4455;\n",
              "      --disabled-fill-color: #666;\n",
              "  }\n",
              "\n",
              "  .colab-df-quickchart {\n",
              "    background-color: var(--bg-color);\n",
              "    border: none;\n",
              "    border-radius: 50%;\n",
              "    cursor: pointer;\n",
              "    display: none;\n",
              "    fill: var(--fill-color);\n",
              "    height: 32px;\n",
              "    padding: 0;\n",
              "    width: 32px;\n",
              "  }\n",
              "\n",
              "  .colab-df-quickchart:hover {\n",
              "    background-color: var(--hover-bg-color);\n",
              "    box-shadow: 0 1px 2px rgba(60, 64, 67, 0.3), 0 1px 3px 1px rgba(60, 64, 67, 0.15);\n",
              "    fill: var(--button-hover-fill-color);\n",
              "  }\n",
              "\n",
              "  .colab-df-quickchart-complete:disabled,\n",
              "  .colab-df-quickchart-complete:disabled:hover {\n",
              "    background-color: var(--disabled-bg-color);\n",
              "    fill: var(--disabled-fill-color);\n",
              "    box-shadow: none;\n",
              "  }\n",
              "\n",
              "  .colab-df-spinner {\n",
              "    border: 2px solid var(--fill-color);\n",
              "    border-color: transparent;\n",
              "    border-bottom-color: var(--fill-color);\n",
              "    animation:\n",
              "      spin 1s steps(1) infinite;\n",
              "  }\n",
              "\n",
              "  @keyframes spin {\n",
              "    0% {\n",
              "      border-color: transparent;\n",
              "      border-bottom-color: var(--fill-color);\n",
              "      border-left-color: var(--fill-color);\n",
              "    }\n",
              "    20% {\n",
              "      border-color: transparent;\n",
              "      border-left-color: var(--fill-color);\n",
              "      border-top-color: var(--fill-color);\n",
              "    }\n",
              "    30% {\n",
              "      border-color: transparent;\n",
              "      border-left-color: var(--fill-color);\n",
              "      border-top-color: var(--fill-color);\n",
              "      border-right-color: var(--fill-color);\n",
              "    }\n",
              "    40% {\n",
              "      border-color: transparent;\n",
              "      border-right-color: var(--fill-color);\n",
              "      border-top-color: var(--fill-color);\n",
              "    }\n",
              "    60% {\n",
              "      border-color: transparent;\n",
              "      border-right-color: var(--fill-color);\n",
              "    }\n",
              "    80% {\n",
              "      border-color: transparent;\n",
              "      border-right-color: var(--fill-color);\n",
              "      border-bottom-color: var(--fill-color);\n",
              "    }\n",
              "    90% {\n",
              "      border-color: transparent;\n",
              "      border-bottom-color: var(--fill-color);\n",
              "    }\n",
              "  }\n",
              "</style>\n",
              "\n",
              "  <script>\n",
              "    async function quickchart(key) {\n",
              "      const quickchartButtonEl =\n",
              "        document.querySelector('#' + key + ' button');\n",
              "      quickchartButtonEl.disabled = true;  // To prevent multiple clicks.\n",
              "      quickchartButtonEl.classList.add('colab-df-spinner');\n",
              "      try {\n",
              "        const charts = await google.colab.kernel.invokeFunction(\n",
              "            'suggestCharts', [key], {});\n",
              "      } catch (error) {\n",
              "        console.error('Error during call to suggestCharts:', error);\n",
              "      }\n",
              "      quickchartButtonEl.classList.remove('colab-df-spinner');\n",
              "      quickchartButtonEl.classList.add('colab-df-quickchart-complete');\n",
              "    }\n",
              "    (() => {\n",
              "      let quickchartButtonEl =\n",
              "        document.querySelector('#df-aa65d774-ecc8-4e0f-9a00-766e74f8ac50 button');\n",
              "      quickchartButtonEl.style.display =\n",
              "        google.colab.kernel.accessAllowed ? 'block' : 'none';\n",
              "    })();\n",
              "  </script>\n",
              "</div>\n",
              "\n",
              "    </div>\n",
              "  </div>\n"
            ],
            "application/vnd.google.colaboratory.intrinsic+json": {
              "type": "dataframe",
              "variable_name": "iris_data",
              "summary": "{\n  \"name\": \"iris_data\",\n  \"rows\": 150,\n  \"fields\": [\n    {\n      \"column\": \"sepal length (cm)\",\n      \"properties\": {\n        \"dtype\": \"number\",\n        \"std\": 0.8280661279778629,\n        \"min\": 4.3,\n        \"max\": 7.9,\n        \"num_unique_values\": 35,\n        \"samples\": [\n          6.2,\n          4.5,\n          5.6\n        ],\n        \"semantic_type\": \"\",\n        \"description\": \"\"\n      }\n    },\n    {\n      \"column\": \"sepal width (cm)\",\n      \"properties\": {\n        \"dtype\": \"number\",\n        \"std\": 0.435866284936698,\n        \"min\": 2.0,\n        \"max\": 4.4,\n        \"num_unique_values\": 23,\n        \"samples\": [\n          2.3,\n          4.0,\n          3.5\n        ],\n        \"semantic_type\": \"\",\n        \"description\": \"\"\n      }\n    },\n    {\n      \"column\": \"petal length (cm)\",\n      \"properties\": {\n        \"dtype\": \"number\",\n        \"std\": 1.7652982332594667,\n        \"min\": 1.0,\n        \"max\": 6.9,\n        \"num_unique_values\": 43,\n        \"samples\": [\n          6.7,\n          3.8,\n          3.7\n        ],\n        \"semantic_type\": \"\",\n        \"description\": \"\"\n      }\n    },\n    {\n      \"column\": \"petal width (cm)\",\n      \"properties\": {\n        \"dtype\": \"number\",\n        \"std\": 0.7622376689603465,\n        \"min\": 0.1,\n        \"max\": 2.5,\n        \"num_unique_values\": 22,\n        \"samples\": [\n          0.2,\n          1.2,\n          1.3\n        ],\n        \"semantic_type\": \"\",\n        \"description\": \"\"\n      }\n    },\n    {\n      \"column\": \"Type\",\n      \"properties\": {\n        \"dtype\": \"number\",\n        \"std\": 0,\n        \"min\": 0,\n        \"max\": 2,\n        \"num_unique_values\": 3,\n        \"samples\": [\n          0,\n          1,\n          2\n        ],\n        \"semantic_type\": \"\",\n        \"description\": \"\"\n      }\n    }\n  ]\n}"
            }
          },
          "metadata": {},
          "execution_count": 59
        }
      ]
    },
    {
      "cell_type": "markdown",
      "source": [
        "### Preparing Data\n",
        "Here we have the target variable ‘Type’.\n",
        "\n",
        "We need to remove the target variable, used to work in an unsupervised learning\n",
        "\n",
        "The iloc function is used to get the features we require.\n",
        "\n",
        "We also use .values function to get an array of the dataset.\n",
        "\n",
        "Note : We transformed the dataset to an array so that we can plot the graphs of the clusters"
      ],
      "metadata": {
        "id": "uXtkSjJquIPB"
      }
    },
    {
      "cell_type": "code",
      "metadata": {
        "id": "YYotNIqgS1PM"
      },
      "source": [
        "iris_X = iris_data.iloc[:, [0, 1, 2,3]].values"
      ],
      "execution_count": 60,
      "outputs": []
    },
    {
      "cell_type": "markdown",
      "source": [
        "Now we will separate the target variable from the original dataset and again convert it to an array by using numpy"
      ],
      "metadata": {
        "id": "aM7kbdOLuT88"
      }
    },
    {
      "cell_type": "code",
      "metadata": {
        "id": "nQQGS8_dTvbU",
        "colab": {
          "base_uri": "https://localhost:8080/"
        },
        "outputId": "1e5c0c09-0ce4-4f9b-b33e-29ea8a7108bb"
      },
      "source": [
        "iris_Y = iris_data['Type']\n",
        "iris_Y = np.array(iris_Y)\n",
        "# Frequency count of the Output clusters\n",
        "unique, counts = np.unique(iris_Y, return_counts=True)\n",
        "freq_1 = dict(zip(unique, counts))\n",
        "freq_1"
      ],
      "execution_count": 61,
      "outputs": [
        {
          "output_type": "execute_result",
          "data": {
            "text/plain": [
              "{0: 50, 1: 50, 2: 50}"
            ]
          },
          "metadata": {},
          "execution_count": 61
        }
      ]
    },
    {
      "cell_type": "code",
      "metadata": {
        "id": "_wOmXWLJWzq5",
        "colab": {
          "base_uri": "https://localhost:8080/",
          "height": 453
        },
        "outputId": "180db690-bb79-46fe-db47-efafe71f0b52"
      },
      "source": [
        "plt.scatter(iris_X[iris_Y == 0, 0], iris_X[iris_Y == 0, 1],\n",
        "            s = 80, c = 'orange', label = 'Iris-setosa')\n",
        "plt.xlim([4.5,8])\n",
        "plt.ylim([2,4.5])"
      ],
      "execution_count": 62,
      "outputs": [
        {
          "output_type": "execute_result",
          "data": {
            "text/plain": [
              "(2.0, 4.5)"
            ]
          },
          "metadata": {},
          "execution_count": 62
        },
        {
          "output_type": "display_data",
          "data": {
            "text/plain": [
              "<Figure size 640x480 with 1 Axes>"
            ],
            "image/png": "[encoded data removed]"
          },
          "metadata": {}
        }
      ]
    },
    {
      "cell_type": "code",
      "metadata": {
        "id": "M7mb70sXnTMg",
        "colab": {
          "base_uri": "https://localhost:8080/",
          "height": 453
        },
        "outputId": "275a4221-0d58-49f0-c724-989f00006b21"
      },
      "source": [
        "plt.scatter(iris_X[iris_Y == 1, 0], iris_X[iris_Y == 1, 1],\n",
        "            s = 80, c = 'yellow', label = 'Iris-versicolour')\n",
        "\n",
        "plt.xlim([4.5,8])\n",
        "plt.ylim([2,4.5])"
      ],
      "execution_count": 63,
      "outputs": [
        {
          "output_type": "execute_result",
          "data": {
            "text/plain": [
              "(2.0, 4.5)"
            ]
          },
          "metadata": {},
          "execution_count": 63
        },
        {
          "output_type": "display_data",
          "data": {
            "text/plain": [
              "<Figure size 640x480 with 1 Axes>"
            ],
            "image/png": "[encoded data removed]"
          },
          "metadata": {}
        }
      ]
    },
    {
      "cell_type": "code",
      "metadata": {
        "id": "wsnoGdx0objs",
        "colab": {
          "base_uri": "https://localhost:8080/",
          "height": 453
        },
        "outputId": "4cab9364-e8ed-4f6f-c320-d424f9cbcfa7"
      },
      "source": [
        "plt.scatter(iris_X[iris_Y == 2, 0], iris_X[iris_Y == 2, 1],\n",
        "            s = 80, c = 'green', label = 'Iris-virginica')\n",
        "plt.xlim([4.5,8])\n",
        "plt.ylim([2,4.5])"
      ],
      "execution_count": 64,
      "outputs": [
        {
          "output_type": "execute_result",
          "data": {
            "text/plain": [
              "(2.0, 4.5)"
            ]
          },
          "metadata": {},
          "execution_count": 64
        },
        {
          "output_type": "display_data",
          "data": {
            "text/plain": [
              "<Figure size 640x480 with 1 Axes>"
            ],
            "image/png": "[encoded data removed]"
          },
          "metadata": {}
        }
      ]
    },
    {
      "cell_type": "markdown",
      "source": [
        "In this Iris dataset, we have three classes (0,1,2)"
      ],
      "metadata": {
        "id": "9h-GxofjuulX"
      }
    },
    {
      "cell_type": "code",
      "metadata": {
        "id": "HCShLm9HUWHn",
        "colab": {
          "base_uri": "https://localhost:8080/",
          "height": 451
        },
        "outputId": "c62d1bfa-1091-4274-94c8-80dc91076db3"
      },
      "source": [
        "plt.scatter(iris_X[iris_Y == 0, 0], iris_X[iris_Y == 0, 1],\n",
        "            s = 80, c = 'orange', label = 'Iris-setosa')\n",
        "plt.scatter(iris_X[iris_Y == 1, 0], iris_X[iris_Y == 1, 1],\n",
        "            s = 80, c = 'yellow', label = 'Iris-versicolour')\n",
        "plt.scatter(iris_X[iris_Y == 2, 0], iris_X[iris_Y == 2, 1],\n",
        "            s = 80, c = 'green', label = 'Iris-virginica')\n",
        "plt.legend()\n"
      ],
      "execution_count": 70,
      "outputs": [
        {
          "output_type": "execute_result",
          "data": {
            "text/plain": [
              "<matplotlib.legend.Legend at 0x7e55b5727be0>"
            ]
          },
          "metadata": {},
          "execution_count": 70
        },
        {
          "output_type": "display_data",
          "data": {
            "text/plain": [
              "<Figure size 640x480 with 1 Axes>"
            ],
            "image/png": "[encoded data removed]"
          },
          "metadata": {}
        }
      ]
    },
    {
      "cell_type": "markdown",
      "source": [
        "We find that we have three classes with two types of Iris flowers overlapping each other"
      ],
      "metadata": {
        "id": "k7UmxUbxu0U_"
      }
    },
    {
      "cell_type": "markdown",
      "source": [
        "#### **Elbow Method**\n",
        "\n",
        "The most crucial aspect of K-Means clustering is deciding the value of K. We do this by performing Elbow Analysis\n",
        "\n",
        "- In the Elbow method, we are actually varying the number of clusters (K) from 1 – 10. For each value of K, we are calculating WCSS(Within-Cluster Sum of Square)\n",
        "- **WCSS is the sum of squared distance between each point and the centroid in a cluster**\n",
        "- WCSS value is largest when K = 1.\n"
      ],
      "metadata": {
        "id": "8xsEXN1AtzL0"
      }
    },
    {
      "cell_type": "code",
      "metadata": {
        "id": "q3vCVatczYBY",
        "colab": {
          "base_uri": "https://localhost:8080/",
          "height": 673
        },
        "outputId": "1f9bf0c1-2a76-4f12-d5a9-a471df96eb1e"
      },
      "source": [
        "wcss=[]\n",
        "for i in range(1, 11):\n",
        "    kmeans = KMeans(n_clusters = i, init = 'k-means++', max_iter = 300,\n",
        "                    n_init = 10, random_state = 0)\n",
        "    kmeans.fit(iris_X)\n",
        "    wcss.append(kmeans.inertia_)\n",
        "    sse[i] = kmeans.inertia_\n",
        "    print(\"For cluster = {}, SSE/WCSS is {}\".format(i, sse[i]))\n",
        "\n",
        "plt.plot(range(1, 11), wcss)\n",
        "plt.title('The elbow method')\n",
        "plt.xlabel('Number of clusters')\n",
        "plt.ylabel('WCSS')"
      ],
      "execution_count": 66,
      "outputs": [
        {
          "output_type": "stream",
          "name": "stdout",
          "text": [
            "For cluster = 1, SSE/WCSS is 681.3705999999996\n",
            "For cluster = 2, SSE/WCSS is 152.34795176035797\n",
            "For cluster = 3, SSE/WCSS is 78.851441426146\n",
            "For cluster = 4, SSE/WCSS is 57.22847321428572\n",
            "For cluster = 5, SSE/WCSS is 46.44618205128204\n",
            "For cluster = 6, SSE/WCSS is 39.03998724608725\n",
            "For cluster = 7, SSE/WCSS is 34.42019178628389\n",
            "For cluster = 8, SSE/WCSS is 30.064593073593088\n",
            "For cluster = 9, SSE/WCSS is 28.332569264069274\n",
            "For cluster = 10, SSE/WCSS is 25.972596377306918\n"
          ]
        },
        {
          "output_type": "execute_result",
          "data": {
            "text/plain": [
              "Text(0, 0.5, 'WCSS')"
            ]
          },
          "metadata": {},
          "execution_count": 66
        },
        {
          "output_type": "display_data",
          "data": {
            "text/plain": [
              "<Figure size 640x480 with 1 Axes>"
            ],
            "image/png": "[encoded data removed]"
          },
          "metadata": {}
        }
      ]
    },
    {
      "cell_type": "markdown",
      "source": [
        "\n",
        "Cluster 1 means only one cluster, inshort variance of the dataset\n",
        "Variance in Cluster 1 = 681\n",
        "\n",
        "Cluster 2 means two cluster i.e, Variance in Cluster 2 = 152\n",
        "Same way for Variance in Cluster 3 = 78\n",
        "\n",
        "Variance in Cluster is also knows as Within Cluster Sum of Square (WCSS)\n",
        "Normally as we increase number of clusters, within Sum of Square will decrease\n",
        "\n",
        "In the elbow graph, we look for the points where the drop falls and the line smoothens out\n",
        "\n",
        "In the above graph, this happens for when k=3.\n",
        "\n",
        "Another way of understanding this is that we note the point at which the WCSS is less and try to find the number of clusters for our dataset.\n",
        "\n",
        "We see that at the number of clusters = 3, WCSS is less than 100, which is good for us. So we take k=3.\n",
        "\n",
        "We will check Silhouette Coefficient also for 3 and 4 Clusters respectively"
      ],
      "metadata": {
        "id": "ZiCbj1x-vCO5"
      }
    },
    {
      "cell_type": "code",
      "metadata": {
        "id": "lTHnXGs90GGq",
        "colab": {
          "base_uri": "https://localhost:8080/"
        },
        "outputId": "ea0b9da3-0bdb-4a2b-e4e8-949cc492d9f8"
      },
      "source": [
        "cluster_Kmeans = KMeans(n_clusters=3)\n",
        "model_kmeans = cluster_Kmeans.fit(iris_X)\n",
        "pred_kmeans = model_kmeans.labels_\n",
        "print(pred_kmeans)\n",
        "\n",
        "# Frequency count of the Output clusters\n",
        "unique, counts = np.unique(pred_kmeans, return_counts=True)\n",
        "dict(zip(unique, counts))"
      ],
      "execution_count": 67,
      "outputs": [
        {
          "output_type": "stream",
          "name": "stdout",
          "text": [
            "[0 0 0 0 0 0 0 0 0 0 0 0 0 0 0 0 0 0 0 0 0 0 0 0 0 0 0 0 0 0 0 0 0 0 0 0 0\n",
            " 0 0 0 0 0 0 0 0 0 0 0 0 0 1 2 1 2 2 2 2 2 2 2 2 2 2 2 2 2 2 2 2 2 2 2 2 2\n",
            " 2 2 2 1 2 2 2 2 2 2 2 2 2 2 2 2 2 2 2 2 2 2 2 2 2 2 1 2 1 1 1 1 2 1 1 1 1\n",
            " 1 1 2 2 1 1 1 1 2 1 2 1 2 1 1 2 2 1 1 1 1 1 2 1 1 1 1 2 1 1 1 2 1 1 1 2 1\n",
            " 1 2]\n"
          ]
        },
        {
          "output_type": "execute_result",
          "data": {
            "text/plain": [
              "{0: 50, 1: 39, 2: 61}"
            ]
          },
          "metadata": {},
          "execution_count": 67
        }
      ]
    },
    {
      "cell_type": "markdown",
      "source": [
        "#### Visualizing Output\n",
        "\n",
        "####  **Silhouette Score**\n",
        "- Clusters are well apart from each other as the silhouette score is closer to 1\n",
        "- Silhouette Coefficient score is a metric used to calculate the goodness of a clustering technique\n",
        "- Its value ranges from -1 to 1.\n",
        "  1. **Score = 1: Means clusters are well apart** from each other and clearly distinguished.\n",
        "  2. **Score = 0: Means clusters are indifferent**, or we can say that the distance between clusters is not significant.\n",
        "  3. **Score = -1: Means clusters are assigned in the wrong way.**"
      ],
      "metadata": {
        "id": "LuUfyO6Uvd0A"
      }
    },
    {
      "cell_type": "code",
      "metadata": {
        "id": "mezxq4Fx030O",
        "colab": {
          "base_uri": "https://localhost:8080/",
          "height": 543
        },
        "outputId": "fcc84b6b-34bc-46c1-8354-afe510671b84"
      },
      "source": [
        "print('Original Cluster Frequency',freq_1)\n",
        "# Frequency count of the Output clusters\n",
        "unique, counts = np.unique(pred_kmeans, return_counts=True)\n",
        "print('K Means Output Cluster Frequency',dict(zip(unique, counts)))\n",
        "# Silhouette Score\n",
        "print('Silhouette Score for 3 Clusters',silhouette_score(iris_X,pred_kmeans))\n",
        "print(\"\\n\")\n",
        "\n",
        "# In the above output we got value labels: ‘0’, ‘1’  and ‘2’\n",
        "# For a better understanding, we can visualize these clusters.\n",
        "\n",
        "plt.scatter(iris_X[pred_kmeans == 0, 0], iris_X[pred_kmeans == 0, 1],\n",
        "            s = 80, c = 'orange', label = 'Iris-setosa')\n",
        "plt.scatter(iris_X[pred_kmeans == 1, 0], iris_X[pred_kmeans == 1, 1],\n",
        "            s = 80, c = 'yellow', label = 'Iris-versicolour')\n",
        "plt.scatter(iris_X[pred_kmeans == 2, 0], iris_X[pred_kmeans == 2, 1],\n",
        "            s = 80, c = 'green', label = 'Iris-virginica')\n",
        "plt.legend()"
      ],
      "execution_count": 68,
      "outputs": [
        {
          "output_type": "stream",
          "name": "stdout",
          "text": [
            "Original Cluster Frequency {0: 50, 1: 50, 2: 50}\n",
            "K Means Output Cluster Frequency {0: 50, 1: 39, 2: 61}\n",
            "Silhouette Score for 3 Clusters 0.551191604619592\n",
            "\n",
            "\n"
          ]
        },
        {
          "output_type": "execute_result",
          "data": {
            "text/plain": [
              "<matplotlib.legend.Legend at 0x7e55b5649db0>"
            ]
          },
          "metadata": {},
          "execution_count": 68
        },
        {
          "output_type": "display_data",
          "data": {
            "text/plain": [
              "<Figure size 640x480 with 1 Axes>"
            ],
            "image/png": "[encoded data removed]"
          },
          "metadata": {}
        }
      ]
    },
    {
      "cell_type": "markdown",
      "source": [
        " When compared to the original classes we find that the observations of the class label\n",
        "\n",
        "\"1\" has been correctly formed into a separate well-defined cluster\n",
        "\n",
        "However, for the other two classes, clusters are not as correct.\n",
        "\n",
        "This is mainly because, in the original dataset, these two class labels were overlapping each other which makes it difficult for the clustering algorithm as it works best for clear neat separate observations.\n",
        "\n",
        "Still, the clusters have been formed, more or less correctly\n",
        "\n",
        "Silhouette Score = 0.55 which is not bad enough (should be tend to 1)"
      ],
      "metadata": {
        "id": "EIsjvKwDvkGF"
      }
    },
    {
      "cell_type": "code",
      "metadata": {
        "id": "jXNotcalLWmu",
        "colab": {
          "base_uri": "https://localhost:8080/"
        },
        "outputId": "9473d7d4-9214-471b-ce3b-1291b43d26f1"
      },
      "source": [
        "# If we take 4 Cluster to Check Silhouetter Score\n",
        "cluster_Kmeans = KMeans(n_clusters=4)\n",
        "model_kmeans = cluster_Kmeans.fit(iris_X)\n",
        "labels_1 = model_kmeans.labels_\n",
        "print(\"Silhouette Score for 4 Cluster\")\n",
        "print(silhouette_score(iris_X,labels_1))\n",
        "print('\\n')\n",
        "\n",
        "wcss = []\n",
        "\n",
        "for k in range(2,20):\n",
        "  kmeans = KMeans(n_clusters= k,max_iter=100).fit(iris_X)\n",
        "  label = kmeans.labels_\n",
        "  sil_coeff = silhouette_score(iris_X,label,metric = 'euclidean')\n",
        "  print('For cluster= {}, Silhouette Coefficient is {}'.format(k,sil_coeff))"
      ],
      "execution_count": 69,
      "outputs": [
        {
          "output_type": "stream",
          "name": "stdout",
          "text": [
            "Silhouette Score for 4 Cluster\n",
            "0.49805050499728737\n",
            "\n",
            "\n",
            "For cluster= 2, Silhouette Coefficient is 0.6810461692117462\n",
            "For cluster= 3, Silhouette Coefficient is 0.5185675688773279\n",
            "For cluster= 4, Silhouette Coefficient is 0.49805050499728737\n",
            "For cluster= 5, Silhouette Coefficient is 0.48874888709310566\n",
            "For cluster= 6, Silhouette Coefficient is 0.44191517029004124\n",
            "For cluster= 7, Silhouette Coefficient is 0.4548746422580854\n",
            "For cluster= 8, Silhouette Coefficient is 0.30765043406593756\n",
            "For cluster= 9, Silhouette Coefficient is 0.3360824365813443\n",
            "For cluster= 10, Silhouette Coefficient is 0.31766469887063636\n",
            "For cluster= 11, Silhouette Coefficient is 0.3065304736634168\n",
            "For cluster= 12, Silhouette Coefficient is 0.3031082617199165\n",
            "For cluster= 13, Silhouette Coefficient is 0.2908480934195616\n",
            "For cluster= 14, Silhouette Coefficient is 0.25791990231497325\n",
            "For cluster= 15, Silhouette Coefficient is 0.25677811147510976\n",
            "For cluster= 16, Silhouette Coefficient is 0.24247960159879103\n",
            "For cluster= 17, Silhouette Coefficient is 0.2676016681522061\n",
            "For cluster= 18, Silhouette Coefficient is 0.2584980959486686\n",
            "For cluster= 19, Silhouette Coefficient is 0.27151981364105804\n"
          ]
        }
      ]
    },
    {
      "cell_type": "markdown",
      "source": [
        "As we can observe, the silhouette score is decreased from 0.51 to 0.49 when we increased the cluster from 3 to 4\n",
        "\n",
        "Optimal number of cluster=3 as its silhouette score is greater than that of 4 clusters"
      ],
      "metadata": {
        "id": "GUTpuAbTvwN7"
      }
    }
  ]
}