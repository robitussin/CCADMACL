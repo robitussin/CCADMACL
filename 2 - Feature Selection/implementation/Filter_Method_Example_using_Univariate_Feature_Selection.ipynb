{
  "nbformat": 4,
  "nbformat_minor": 0,
  "metadata": {
    "colab": {
      "provenance": []
    },
    "kernelspec": {
      "name": "python3",
      "display_name": "Python 3"
    },
    "language_info": {
      "name": "python"
    }
  },
  "cells": [
    {
      "cell_type": "markdown",
      "source": [
        "## Filter Method Example using Univariate Feature Selection\n",
        "\n",
        "This notebook is an example of using univariate feature selection to improve classification accuracy on a noisy dataset.\n",
        "\n",
        "Univariate feature selection works by selecting the best features based on univariate statistical tests. It can be seen as a preprocessing step to an estimator.\n",
        "\n",
        "In this example, some noisy (non informative) features are added to the iris dataset. Support vector machine (SVM) is used to classify the dataset both before and after applying univariate feature selection. For each feature, we plot the p-values for the univariate feature selection and the corresponding weights of SVMs. With this, we will compare model accuracy and examine the impact of univariate feature selection on model weights."
      ],
      "metadata": {
        "id": "AoKJIC0T7KlY"
      }
    },
    {
      "cell_type": "code",
      "source": [
        "import numpy as np\n",
        "\n",
        "from sklearn.datasets import load_iris\n",
        "from sklearn.model_selection import train_test_split"
      ],
      "metadata": {
        "id": "k-qMMRgc7USA"
      },
      "execution_count": 7,
      "outputs": []
    },
    {
      "cell_type": "code",
      "source": [
        "# The iris dataset\n",
        "X, y = load_iris(return_X_y=True)"
      ],
      "metadata": {
        "id": "hUSGC4507V3o"
      },
      "execution_count": 8,
      "outputs": []
    },
    {
      "cell_type": "markdown",
      "source": [
        "Add noisy data"
      ],
      "metadata": {
        "id": "1ju2Zt-S7Xbp"
      }
    },
    {
      "cell_type": "code",
      "source": [
        "# Some noisy data not correlated\n",
        "E = np.random.RandomState(42).uniform(0, 0.1, size=(X.shape[0], 20))\n",
        "\n",
        "# Add the noisy data to the informative features\n",
        "X = np.hstack((X, E))"
      ],
      "metadata": {
        "id": "0lzjc01w7WfQ"
      },
      "execution_count": 9,
      "outputs": []
    },
    {
      "cell_type": "markdown",
      "source": [
        "Split the data"
      ],
      "metadata": {
        "id": "_fJjLTPe7boh"
      }
    },
    {
      "cell_type": "code",
      "execution_count": 10,
      "metadata": {
        "id": "xI3Mu0X56u2y"
      },
      "outputs": [],
      "source": [
        "# Split dataset to select feature and evaluate the classifier\n",
        "X_train, X_test, y_train, y_test = train_test_split(X, y, stratify=y, random_state=0)"
      ]
    },
    {
      "cell_type": "markdown",
      "source": [
        "Univariate feature selection with F-test for feature scoring. We use the default selection function to select the four most significant features."
      ],
      "metadata": {
        "id": "z0UlCSuZ7iFl"
      }
    },
    {
      "cell_type": "code",
      "source": [
        "from sklearn.feature_selection import SelectKBest, f_classif\n",
        "\n",
        "selector = SelectKBest(f_classif, k=4)\n",
        "selector.fit(X_train, y_train)\n",
        "scores = -np.log10(selector.pvalues_)\n",
        "scores /= scores.max()"
      ],
      "metadata": {
        "id": "HxyXNh566wLm"
      },
      "execution_count": 11,
      "outputs": []
    },
    {
      "cell_type": "code",
      "source": [
        "import matplotlib.pyplot as plt\n",
        "\n",
        "X_indices = np.arange(X.shape[-1])\n",
        "plt.figure(1)\n",
        "plt.clf()\n",
        "plt.bar(X_indices - 0.05, scores, width=0.2)\n",
        "plt.title(\"Feature univariate score\")\n",
        "plt.xlabel(\"Feature number\")\n",
        "plt.ylabel(r\"Univariate score ($-Log(p_{value})$)\")\n",
        "plt.show()"
      ],
      "metadata": {
        "colab": {
          "base_uri": "https://localhost:8080/",
          "height": 472
        },
        "id": "6HlxSsw-6xtd",
        "outputId": "4880a540-6050-4167-aff6-5d10b5d110c4"
      },
      "execution_count": 12,
      "outputs": [
        {
          "output_type": "display_data",
          "data": {
            "text/plain": [
              "<Figure size 640x480 with 1 Axes>"
            ],
            "image/png": "[encoded data removed]"
          },
          "metadata": {}
        }
      ]
    },
    {
      "cell_type": "markdown",
      "source": [
        "## Compare with SVMs"
      ],
      "metadata": {
        "id": "Q4X_x4Vt7nCv"
      }
    },
    {
      "cell_type": "markdown",
      "source": [
        "Without univariate feature selection"
      ],
      "metadata": {
        "id": "_wqah2jI7pRh"
      }
    },
    {
      "cell_type": "code",
      "source": [
        "from sklearn.pipeline import make_pipeline\n",
        "from sklearn.preprocessing import MinMaxScaler\n",
        "from sklearn.svm import LinearSVC\n",
        "\n",
        "clf = make_pipeline(MinMaxScaler(), LinearSVC())\n",
        "clf.fit(X_train, y_train)\n",
        "print(\n",
        "    \"Classification accuracy without selecting features: {:.3f}\".format(\n",
        "        clf.score(X_test, y_test)\n",
        "    )\n",
        ")\n",
        "\n",
        "svm_weights = np.abs(clf[-1].coef_).sum(axis=0)\n",
        "svm_weights /= svm_weights.sum()"
      ],
      "metadata": {
        "colab": {
          "base_uri": "https://localhost:8080/"
        },
        "id": "wpzgMiKG60Fc",
        "outputId": "d553c608-f744-4d7b-b440-fe48c15eeb7e"
      },
      "execution_count": 13,
      "outputs": [
        {
          "output_type": "stream",
          "name": "stdout",
          "text": [
            "Classification accuracy without selecting features: 0.789\n"
          ]
        }
      ]
    },
    {
      "cell_type": "markdown",
      "source": [
        "After univariate feature selection"
      ],
      "metadata": {
        "id": "uKEI5YO57q25"
      }
    },
    {
      "cell_type": "code",
      "source": [
        "clf_selected = make_pipeline(SelectKBest(f_classif, k=4), MinMaxScaler(), LinearSVC())\n",
        "clf_selected.fit(X_train, y_train)\n",
        "print(\n",
        "    \"Classification accuracy after univariate feature selection: {:.3f}\".format(\n",
        "        clf_selected.score(X_test, y_test)\n",
        "    )\n",
        ")\n",
        "\n",
        "svm_weights_selected = np.abs(clf_selected[-1].coef_).sum(axis=0)\n",
        "svm_weights_selected /= svm_weights_selected.sum()"
      ],
      "metadata": {
        "colab": {
          "base_uri": "https://localhost:8080/"
        },
        "id": "yubUoCiS61Ou",
        "outputId": "687338e2-d7b6-4875-b5c2-c20a866a002c"
      },
      "execution_count": 14,
      "outputs": [
        {
          "output_type": "stream",
          "name": "stdout",
          "text": [
            "Classification accuracy after univariate feature selection: 0.868\n"
          ]
        }
      ]
    },
    {
      "cell_type": "code",
      "source": [
        "plt.bar(\n",
        "    X_indices - 0.45, scores, width=0.2, label=r\"Univariate score ($-Log(p_{value})$)\"\n",
        ")\n",
        "\n",
        "plt.bar(X_indices - 0.25, svm_weights, width=0.2, label=\"SVM weight\")\n",
        "\n",
        "plt.bar(\n",
        "    X_indices[selector.get_support()] - 0.05,\n",
        "    svm_weights_selected,\n",
        "    width=0.2,\n",
        "    label=\"SVM weights after selection\",\n",
        ")\n",
        "\n",
        "plt.title(\"Comparing feature selection\")\n",
        "plt.xlabel(\"Feature number\")\n",
        "plt.yticks(())\n",
        "plt.axis(\"tight\")\n",
        "plt.legend(loc=\"upper right\")\n",
        "plt.show()"
      ],
      "metadata": {
        "colab": {
          "base_uri": "https://localhost:8080/",
          "height": 472
        },
        "id": "UmLZ5Jmj64DV",
        "outputId": "c6432143-6bf1-4321-bf89-7e3fd33b7ef8"
      },
      "execution_count": 15,
      "outputs": [
        {
          "output_type": "display_data",
          "data": {
            "text/plain": [
              "<Figure size 640x480 with 1 Axes>"
            ],
            "image/png": "[encoded data removed]"
          },
          "metadata": {}
        }
      ]
    },
    {
      "cell_type": "markdown",
      "source": [
        "Without univariate feature selection, the SVM assigns a large weight to the first 4 original significant features, but also selects many of the non-informative features. Applying univariate feature selection before the SVM increases the SVM weight attributed to the significant features, and will thus improve classification."
      ],
      "metadata": {
        "id": "yHftPrKI7uAD"
      }
    }
  ]
}